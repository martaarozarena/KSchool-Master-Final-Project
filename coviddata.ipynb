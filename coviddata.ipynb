{
 "cells": [
  {
   "cell_type": "markdown",
   "metadata": {
    "colab_type": "text",
    "id": "view-in-github"
   },
   "source": [
    "<a href=\"https://colab.research.google.com/github/martaarozarena/KSchool-Master-Final-Project/blob/master/coviddata.ipynb\" target=\"_parent\"><img src=\"https://colab.research.google.com/assets/colab-badge.svg\" alt=\"Open In Colab\"/></a>"
   ]
  },
  {
   "cell_type": "code",
   "execution_count": null,
   "metadata": {
    "colab": {
     "base_uri": "https://localhost:8080/",
     "height": 235
    },
    "colab_type": "code",
    "id": "KPFZbc-ogMfD",
    "outputId": "0bb91141-690b-432f-ca83-4b32cf4d66b8"
   },
   "outputs": [],
   "source": [
    "!pip install pmdarima"
   ]
  },
  {
   "cell_type": "code",
   "execution_count": null,
   "metadata": {
    "colab": {
     "base_uri": "https://localhost:8080/",
     "height": 1000
    },
    "colab_type": "code",
    "id": "xgZlb-_KUqWd",
    "outputId": "8c7b0f1e-23d2-4e80-89b5-064622a5c453"
   },
   "outputs": [],
   "source": [
    "!pip install streamlit"
   ]
  },
  {
   "cell_type": "code",
   "execution_count": null,
   "metadata": {
    "colab": {},
    "colab_type": "code",
    "id": "wk65WhhEhi_F"
   },
   "outputs": [],
   "source": []
  },
  {
   "cell_type": "code",
   "execution_count": null,
   "metadata": {
    "colab": {},
    "colab_type": "code",
    "id": "ucVe3CNNFpvs"
   },
   "outputs": [],
   "source": [
    "import pandas as pd\n",
    "import matplotlib.pyplot as plt\n",
    "import seaborn as sns\n",
    "import numpy as np\n",
    "import math\n",
    "\n",
    "plt.style.use(\"seaborn\")                  # Establecemos el estilo gráfico de seaborn por defecto\n",
    "plt.rcParams[\"figure.figsize\"] = (15, 5)  # Tamaño por defecto de las gráficas a crear"
   ]
  },
  {
   "cell_type": "code",
   "execution_count": null,
   "metadata": {
    "colab": {
     "base_uri": "https://localhost:8080/",
     "height": 34
    },
    "colab_type": "code",
    "id": "BfLAch4qFrRO",
    "outputId": "f3c5dda1-942d-4dd2-e45c-08188a0fcc71"
   },
   "outputs": [],
   "source": [
    "from google.colab import drive\n",
    "from os.path import join\n",
    "\n",
    "ROOT = '/content/drive'     # default for the drive\n",
    "PROJ = 'My Drive/KSchool-Master-Final-Project'       # path to your project on Drive\n",
    "\n",
    "drive.mount(ROOT)           # we mount the drive at /content/drive\n",
    "\n",
    "PROJECT_PATH = join(ROOT, PROJ)"
   ]
  },
  {
   "cell_type": "code",
   "execution_count": null,
   "metadata": {
    "colab": {
     "base_uri": "https://localhost:8080/",
     "height": 34
    },
    "colab_type": "code",
    "id": "nOS2H9I4orm6",
    "outputId": "8965b5fa-b1fd-41ab-ab7b-3ef234aa3a77"
   },
   "outputs": [],
   "source": [
    "!pwd"
   ]
  },
  {
   "cell_type": "code",
   "execution_count": null,
   "metadata": {
    "colab": {
     "base_uri": "https://localhost:8080/",
     "height": 84
    },
    "colab_type": "code",
    "id": "2akOUsU4o0VQ",
    "outputId": "60f3d5b4-1075-401d-f066-7428a871457c"
   },
   "outputs": [],
   "source": [
    "%ls"
   ]
  },
  {
   "cell_type": "code",
   "execution_count": null,
   "metadata": {
    "colab": {
     "base_uri": "https://localhost:8080/",
     "height": 50
    },
    "colab_type": "code",
    "id": "xrlbKB4no38_",
    "outputId": "396bee75-bf7e-4faa-9d9b-204960e97ffa"
   },
   "outputs": [],
   "source": [
    "%cd My Drive/KSchool-Master-Final-Project"
   ]
  },
  {
   "cell_type": "code",
   "execution_count": null,
   "metadata": {
    "colab": {
     "base_uri": "https://localhost:8080/",
     "height": 34
    },
    "colab_type": "code",
    "id": "iH8VYuX7m_QR",
    "outputId": "9154627b-b96a-4e9b-90fd-cd07b0871188"
   },
   "outputs": [],
   "source": [
    "#Adding git path:\n",
    "\n",
    "#GIT_USERNAME = \"martaarozarena\" \n",
    "#GIT_TOKEN = \"{YOUR_GITHUB_TOKEN}\"  \n",
    "#GIT_REPOSITORY = \"KSchool-Master-Final-Project\" \n",
    "\n",
    "#GIT_PATH = \"https://{GIT_TOKEN}@github.com/{GIT_USERNAME}/{GIT_REPOSITORY}.git\"\n",
    "#GIT_PATH = \"https://\" + GIT_TOKEN + \"@github.com/\" + GIT_USERNAME + \"/\" + GIT_REPOSITORY + \".git\"\n",
    "GIT_PATH = 'https://github.com/martaarozarena/KSchool-Master-Final-Project.git'\n",
    "print(\"GIT_PATH: \", GIT_PATH)"
   ]
  },
  {
   "cell_type": "code",
   "execution_count": null,
   "metadata": {
    "colab": {
     "base_uri": "https://localhost:8080/",
     "height": 386
    },
    "colab_type": "code",
    "id": "ApPDsMiKsEQd",
    "outputId": "353c0973-d8b9-4e58-ca30-85587c800e0a"
   },
   "outputs": [],
   "source": [
    "!git status"
   ]
  },
  {
   "cell_type": "code",
   "execution_count": null,
   "metadata": {
    "colab": {},
    "colab_type": "code",
    "id": "5S1Mj83fRCNR"
   },
   "outputs": [],
   "source": [
    "!git config user.email \"marta.arozarenav@gmail.com\"\n",
    "!git config user.name \"martaarozarena\""
   ]
  },
  {
   "cell_type": "code",
   "execution_count": null,
   "metadata": {
    "colab": {
     "base_uri": "https://localhost:8080/",
     "height": 67
    },
    "colab_type": "code",
    "id": "gMZVprslQfZ1",
    "outputId": "3bacf475-ac66-4540-ad83-fc141baae1e9"
   },
   "outputs": [],
   "source": [
    "#!git add DataExploration.ipynb\n",
    "#!git commit -m \"exploring OpenSky data\"\n",
    "#!git push"
   ]
  },
  {
   "cell_type": "code",
   "execution_count": null,
   "metadata": {
    "colab": {
     "base_uri": "https://localhost:8080/",
     "height": 50
    },
    "colab_type": "code",
    "id": "UPyp8pJ7r77-",
    "outputId": "637a1295-ae55-4928-d8dd-5f88afd872fb"
   },
   "outputs": [],
   "source": []
  },
  {
   "cell_type": "code",
   "execution_count": null,
   "metadata": {
    "colab": {
     "base_uri": "https://localhost:8080/",
     "height": 84
    },
    "colab_type": "code",
    "id": "Sx3ll8G5GCvq",
    "outputId": "a412a5d9-c11d-43d0-fb1f-0094227fcb86"
   },
   "outputs": [],
   "source": [
    "!ls"
   ]
  },
  {
   "cell_type": "code",
   "execution_count": null,
   "metadata": {
    "colab": {
     "base_uri": "https://localhost:8080/",
     "height": 706
    },
    "colab_type": "code",
    "id": "wEN4u5RmG-We",
    "outputId": "8bee7ce8-5445-429d-f1f5-fa05eb27120a"
   },
   "outputs": [],
   "source": [
    "# covid_url = \"https://covid.ourworldindata.org/data/owid-covid-data.csv\"  Comento esto, para fijar un fichero mientras desarollamos el codigo\n",
    "covid=pd.read_csv('data/owid-covid-data 20200713.csv', parse_dates=[\"date\"])    # Dejo fijo el fichero descargado el 13 de julio. \n",
    "                                                                           # Podemos añadir index_col =\"date\" como parámetro dentro del read_csv\n",
    "covid.info()"
   ]
  },
  {
   "cell_type": "code",
   "execution_count": null,
   "metadata": {
    "colab": {
     "base_uri": "https://localhost:8080/",
     "height": 531
    },
    "colab_type": "code",
    "id": "ar_ydFtuISjy",
    "outputId": "d78d7624-4a60-46bb-87ad-d1c3fc8e72ed"
   },
   "outputs": [],
   "source": [
    "covid[covid['continent']=='Europe'].sample(10)"
   ]
  },
  {
   "cell_type": "code",
   "execution_count": null,
   "metadata": {
    "colab": {
     "base_uri": "https://localhost:8080/",
     "height": 706
    },
    "colab_type": "code",
    "id": "wcRhqF2PMUd4",
    "outputId": "326b7326-de97-469c-ba55-40c45a8105d4"
   },
   "outputs": [],
   "source": [
    "covid_eur = covid[covid['continent']=='Europe']\n",
    "covid_eur.info()"
   ]
  },
  {
   "cell_type": "code",
   "execution_count": null,
   "metadata": {
    "colab": {
     "base_uri": "https://localhost:8080/",
     "height": 590
    },
    "colab_type": "code",
    "id": "vmdvwrrJSN-T",
    "outputId": "5dbcfe67-6728-4fa0-94b9-02568c7d4e87"
   },
   "outputs": [],
   "source": [
    "covid_eur[covid_eur['new_cases'].isnull()]"
   ]
  },
  {
   "cell_type": "code",
   "execution_count": null,
   "metadata": {
    "colab": {
     "base_uri": "https://localhost:8080/",
     "height": 34
    },
    "colab_type": "code",
    "id": "zRA9e6N_Toos",
    "outputId": "b073fe8d-7576-4951-e9d4-75241a2896dd"
   },
   "outputs": [],
   "source": [
    "covid_eur[covid_eur['new_cases'].isnull()].shape"
   ]
  },
  {
   "cell_type": "code",
   "execution_count": null,
   "metadata": {
    "colab": {
     "base_uri": "https://localhost:8080/",
     "height": 763
    },
    "colab_type": "code",
    "id": "iUb4wEpHDoHL",
    "outputId": "a37601a5-6e76-477a-d25a-1cd277537d44"
   },
   "outputs": [],
   "source": [
    "covid_eur[covid_eur['location']=='Serbia'].head(15)"
   ]
  },
  {
   "cell_type": "code",
   "execution_count": null,
   "metadata": {
    "colab": {
     "base_uri": "https://localhost:8080/",
     "height": 402
    },
    "colab_type": "code",
    "id": "fvk63_KmgwrS",
    "outputId": "b153f137-0848-49d5-d6dc-39aac3157e5d"
   },
   "outputs": [],
   "source": [
    "covid_eur.loc[:, ['new_cases']]"
   ]
  },
  {
   "cell_type": "code",
   "execution_count": null,
   "metadata": {
    "colab": {
     "base_uri": "https://localhost:8080/",
     "height": 134
    },
    "colab_type": "code",
    "id": "Ln8G4Nv7btUu",
    "outputId": "54610b60-50ba-44ce-af11-e158e041686e"
   },
   "outputs": [],
   "source": [
    "#covid_eur.loc[:, ['new_cases']] = covid_eur['new_cases'].fillna(0)  # The NaN in the 'new_cases' series are supposed to be zero, \n",
    "                                                                    # since it was at the beginning when there were still 0 cases in those countries\n",
    "                                                                    # Warning below?? Do we need to fix it?\n",
    "covid_eur['new_cases'] = covid_eur['new_cases'].fillna(0)\n",
    "covid_eur[covid_eur['new_cases'].isnull()].shape                    "
   ]
  },
  {
   "cell_type": "code",
   "execution_count": null,
   "metadata": {
    "colab": {
     "base_uri": "https://localhost:8080/",
     "height": 590
    },
    "colab_type": "code",
    "id": "QP62aye0h4AF",
    "outputId": "50e0bb3d-db8c-4e7e-c559-cb2b834fe047"
   },
   "outputs": [],
   "source": [
    "covid_eur"
   ]
  },
  {
   "cell_type": "code",
   "execution_count": null,
   "metadata": {
    "colab": {
     "base_uri": "https://localhost:8080/",
     "height": 345
    },
    "colab_type": "code",
    "id": "OZ7ije-M81av",
    "outputId": "c59dd9de-2aa2-4638-b995-2359d9e29f37"
   },
   "outputs": [],
   "source": [
    "covid_eur[covid_eur['location'].isin(['United Kingdom'])].plot(x = 'date', y = 'new_cases');  # Keep in mind we need to \"fix\" the UK series at some point\n",
    "\n",
    "#From Our World in Data:\n",
    "#United Kingdom - May 20, July 3:methodologychange\n",
    "#France - June 2:methodology change\n",
    "#Spain - April 19 & May25:methodology change\n",
    "#Italy - June 25:methodology change"
   ]
  },
  {
   "cell_type": "code",
   "execution_count": null,
   "metadata": {
    "colab": {},
    "colab_type": "code",
    "id": "HwJ9RoMSXSUL"
   },
   "outputs": [],
   "source": [
    "cov_eur_dates = covid_eur[covid_eur['date']<'2020-06-30']    "
   ]
  },
  {
   "cell_type": "code",
   "execution_count": null,
   "metadata": {
    "colab": {
     "base_uri": "https://localhost:8080/",
     "height": 894
    },
    "colab_type": "code",
    "id": "1C3zxNlKENBl",
    "outputId": "691a183f-1189-4ea2-dff4-40eef0348554"
   },
   "outputs": [],
   "source": [
    "plt.figure(figsize = (20,15))\n",
    "sns.lineplot(x = cov_eur_dates['date'], y = cov_eur_dates['new_cases'], hue = cov_eur_dates['location'], data=cov_eur_dates)"
   ]
  },
  {
   "cell_type": "code",
   "execution_count": null,
   "metadata": {
    "colab": {
     "base_uri": "https://localhost:8080/",
     "height": 894
    },
    "colab_type": "code",
    "id": "ymIIzLRkPbMp",
    "outputId": "e8249279-2fe3-490c-d9ee-b18b7cb44e51"
   },
   "outputs": [],
   "source": [
    "plt.figure(figsize = (20,15))\n",
    "sns.lineplot(x = cov_eur_dates['date'], y = cov_eur_dates['total_cases'], hue = cov_eur_dates['location'], data=cov_eur_dates)"
   ]
  },
  {
   "cell_type": "code",
   "execution_count": null,
   "metadata": {
    "colab": {},
    "colab_type": "code",
    "id": "wiu7fLFF_lGP"
   },
   "outputs": [],
   "source": [
    "#cogemos España como primer pais para el modelo"
   ]
  },
  {
   "cell_type": "code",
   "execution_count": null,
   "metadata": {
    "colab": {
     "base_uri": "https://localhost:8080/",
     "height": 345
    },
    "colab_type": "code",
    "id": "n3pI3s0OAiO3",
    "outputId": "b568b22a-03f8-488e-fc41-dfed0ea02834"
   },
   "outputs": [],
   "source": [
    "covid_eur[covid_eur['location'].isin(['Spain'])].plot(x = 'date', y = 'new_cases');"
   ]
  },
  {
   "cell_type": "code",
   "execution_count": null,
   "metadata": {
    "colab": {
     "base_uri": "https://localhost:8080/",
     "height": 160
    },
    "colab_type": "code",
    "id": "Q7ju_xIvAkjV",
    "outputId": "1ff6e19d-b066-4c34-ba41-21d7d5c1f04b"
   },
   "outputs": [],
   "source": [
    "covid_eur[(covid_eur['new_cases']<0) & (covid_eur['location']==\"Spain\")] #numero de casos negativos 2"
   ]
  },
  {
   "cell_type": "code",
   "execution_count": null,
   "metadata": {
    "colab": {
     "base_uri": "https://localhost:8080/",
     "height": 1000
    },
    "colab_type": "code",
    "id": "W8MaELqV_ec4",
    "outputId": "6dfe125e-4500-491c-d3fe-eef152cae9d6"
   },
   "outputs": [],
   "source": [
    "covid_eur[(covid_eur['new_cases']==0) & (covid_eur['location']==\"Spain\")]#los días con 0 casos tienen sentido, antes de la pandemia y \n",
    "#en julio que hubo días de 0 casos"
   ]
  },
  {
   "cell_type": "code",
   "execution_count": null,
   "metadata": {
    "colab": {},
    "colab_type": "code",
    "id": "rXuxCZ_LAoss"
   },
   "outputs": [],
   "source": [
    "#seleccionar solo españa y resetear el indice\n",
    "covid_esp=covid_eur[covid_eur[\"location\"]==\"Spain\"].reset_index()"
   ]
  },
  {
   "cell_type": "code",
   "execution_count": null,
   "metadata": {
    "colab": {},
    "colab_type": "code",
    "id": "gSSn6a7iKt9_"
   },
   "outputs": [],
   "source": [
    "#quitar los negativos si no hacemos moving average\n",
    "#indices que queremos cambiar porque casos no pueden ser menores de 0\n",
    "indexes=covid_esp[(covid_esp[\"new_cases\"]<0) &(covid_esp[\"location\"]==\"Spain\")].index.values\n",
    "#sustituir por la media de valores anterior y posterior\n",
    "for i in indexes:\n",
    "  covid_esp.iloc[i,6]= (covid_esp.iloc[i+1,6]+covid_esp.iloc[i-1,6])/2"
   ]
  },
  {
   "cell_type": "code",
   "execution_count": null,
   "metadata": {
    "colab": {},
    "colab_type": "code",
    "id": "L94iUMNgDDsn"
   },
   "outputs": [],
   "source": []
  },
  {
   "cell_type": "code",
   "execution_count": null,
   "metadata": {
    "colab": {
     "base_uri": "https://localhost:8080/",
     "height": 345
    },
    "colab_type": "code",
    "id": "s7fDWSSdHkkw",
    "outputId": "7dbce1a6-f015-4dab-c20b-de8ab1bccffd"
   },
   "outputs": [],
   "source": [
    "covid_esp.plot(x = 'date', y = 'new_cases');"
   ]
  },
  {
   "cell_type": "code",
   "execution_count": null,
   "metadata": {
    "colab": {
     "base_uri": "https://localhost:8080/",
     "height": 304
    },
    "colab_type": "code",
    "id": "sm2camOPM306",
    "outputId": "50a9fd00-6ab1-40f9-c9c6-54d73544c176"
   },
   "outputs": [],
   "source": [
    "covid_esp.describe()"
   ]
  },
  {
   "cell_type": "code",
   "execution_count": null,
   "metadata": {
    "colab": {
     "base_uri": "https://localhost:8080/",
     "height": 299
    },
    "colab_type": "code",
    "id": "us_0abdQM6QT",
    "outputId": "c3f0f6ff-fd26-489a-8b01-024418d137e5"
   },
   "outputs": [],
   "source": [
    "covid_esp.head()"
   ]
  },
  {
   "cell_type": "code",
   "execution_count": null,
   "metadata": {
    "colab": {},
    "colab_type": "code",
    "id": "tV5GmSb6c32h"
   },
   "outputs": [],
   "source": [
    "covid_esp.index = covid_esp.date"
   ]
  },
  {
   "cell_type": "code",
   "execution_count": null,
   "metadata": {
    "colab": {},
    "colab_type": "code",
    "id": "s8tdSKh_eUro"
   },
   "outputs": [],
   "source": [
    "covid_esp_newcases=covid_esp[\"new_cases\"]"
   ]
  },
  {
   "cell_type": "code",
   "execution_count": null,
   "metadata": {
    "colab": {
     "base_uri": "https://localhost:8080/",
     "height": 235
    },
    "colab_type": "code",
    "id": "JD8L9a3GeXII",
    "outputId": "caeeab42-bea2-49cf-9dd7-f8a768a11f4c"
   },
   "outputs": [],
   "source": [
    "covid_esp_newcases"
   ]
  },
  {
   "cell_type": "code",
   "execution_count": null,
   "metadata": {
    "colab": {
     "base_uri": "https://localhost:8080/",
     "height": 235
    },
    "colab_type": "code",
    "id": "MfI8rM5heigS",
    "outputId": "626b2f62-83f5-47e7-bb84-fdf1777d2205"
   },
   "outputs": [],
   "source": [
    "covid_esp_newcases=covid_esp_newcases.resample('D').sum()\n",
    "covid_esp_newcases"
   ]
  },
  {
   "cell_type": "code",
   "execution_count": null,
   "metadata": {
    "colab": {},
    "colab_type": "code",
    "id": "CVvKf9hHiv9x"
   },
   "outputs": [],
   "source": []
  },
  {
   "cell_type": "code",
   "execution_count": null,
   "metadata": {
    "colab": {
     "base_uri": "https://localhost:8080/",
     "height": 653
    },
    "colab_type": "code",
    "id": "nMUwP09GfABb",
    "outputId": "5b7effda-3a4b-4c2f-829e-64cac796c8fc"
   },
   "outputs": [],
   "source": [
    "from matplotlib import pyplot\n",
    "from statsmodels.graphics.tsaplots import plot_acf, plot_pacf\n",
    "from statsmodels.tsa.stattools import pacf\n",
    "plot_acf(covid_esp_newcases, unbiased=True)\n",
    "pyplot.show()\n",
    "#la autocorrelacion mide como se repite la funcion con el tiempo\n",
    "#es normal que la autocorrelacion este toda dentro del cono de no confianza porque tenemos muy pocos datos y además la logica dice que \n",
    "#tendrian que repetirse anualmente, en primavera mas casos que en verano o en invierno más que en verano etc pero no en un intervalo de 3 meses\n",
    "plot_pacf(covid_esp_newcases, method=\"ywm\")\n",
    "pyplot.show()"
   ]
  },
  {
   "cell_type": "code",
   "execution_count": null,
   "metadata": {
    "colab": {},
    "colab_type": "code",
    "id": "Ci09HwXsnMNE"
   },
   "outputs": [],
   "source": [
    "#metodo 2, usar moving averages\n",
    "covid_esp=covid_eur[covid_eur[\"location\"]==\"Spain\"].reset_index()\n",
    "covid_esp[\"MA7\"]=covid_esp.new_cases.rolling(7).mean()\n",
    "covid_esp.index = covid_esp.date\n",
    "covid_esp_ma7=covid_esp[\"MA7\"]\n"
   ]
  },
  {
   "cell_type": "code",
   "execution_count": null,
   "metadata": {
    "colab": {
     "base_uri": "https://localhost:8080/",
     "height": 235
    },
    "colab_type": "code",
    "id": "pUnsKXN09dM8",
    "outputId": "583dbdf5-ba99-4a3d-dce6-84c16642f252"
   },
   "outputs": [],
   "source": [
    "covid_esp_ma7"
   ]
  },
  {
   "cell_type": "code",
   "execution_count": null,
   "metadata": {
    "colab": {
     "base_uri": "https://localhost:8080/",
     "height": 362
    },
    "colab_type": "code",
    "id": "X4GEpHUz_UGx",
    "outputId": "92ea3ee8-f925-4a01-8086-767befcf5187"
   },
   "outputs": [],
   "source": [
    "covid_esp_ma7.plot()"
   ]
  },
  {
   "cell_type": "code",
   "execution_count": null,
   "metadata": {
    "colab": {
     "base_uri": "https://localhost:8080/",
     "height": 653
    },
    "colab_type": "code",
    "id": "ABTGctEkAEXB",
    "outputId": "70b5dc1c-a0ba-4fac-bf02-0da5de2f280b"
   },
   "outputs": [],
   "source": [
    "from matplotlib import pyplot\n",
    "from statsmodels.graphics.tsaplots import plot_acf\n",
    "from statsmodels.graphics.tsaplots import plot_pacf\n",
    "plot_acf(covid_esp_ma7.fillna(0))\n",
    "pyplot.show()\n",
    "#la autocorrelacion mide como se repite la funcion con el tiempo\n",
    "#es normal que la autocorrelacion este toda dentro del cono de no confianza porque tenemos muy pocos datos y además la logica dice que \n",
    "#tendrian que repetirse anualmente, en primavera mas casos que en verano o en invierno más que en verano etc pero no en un intervalo de 3 meses\n",
    "plot_pacf(covid_esp_ma7.fillna(0), method=\"ywm\")\n",
    "pyplot.show()"
   ]
  },
  {
   "cell_type": "code",
   "execution_count": null,
   "metadata": {
    "colab": {
     "base_uri": "https://localhost:8080/",
     "height": 441
    },
    "colab_type": "code",
    "id": "JRFsXEUmARiY",
    "outputId": "88e0075e-e081-45e9-e190-9e57ad532fc0"
   },
   "outputs": [],
   "source": [
    "import pmdarima as pm\n",
    "from pmdarima import preprocessing\n",
    "\n",
    "# Let's look at the series, its ACF plot, and a histogram of its values\n",
    "pm.tsdisplay(covid_esp_ma7[7:], lag_max=20, title=\"Spain Covid daily new cases (rolling 7 day average)\", show=True)"
   ]
  },
  {
   "cell_type": "code",
   "execution_count": null,
   "metadata": {
    "colab": {},
    "colab_type": "code",
    "id": "Y6w-jclGfcxG"
   },
   "outputs": [],
   "source": [
    "covid_esp_ma7[covid_esp_ma7<=0]"
   ]
  },
  {
   "cell_type": "code",
   "execution_count": null,
   "metadata": {
    "colab": {
     "base_uri": "https://localhost:8080/",
     "height": 134
    },
    "colab_type": "code",
    "id": "BtNj65udhc_1",
    "outputId": "53cc7b25-bc31-43ff-88ec-c34a54a3fba7"
   },
   "outputs": [],
   "source": [
    "covid_esp_ma7['2020-02-25':].head()"
   ]
  },
  {
   "cell_type": "code",
   "execution_count": null,
   "metadata": {
    "colab": {
     "base_uri": "https://localhost:8080/",
     "height": 34
    },
    "colab_type": "code",
    "id": "wvozBTk5k0ny",
    "outputId": "212326c9-ba83-413f-8ba3-1f3d5e405096"
   },
   "outputs": [],
   "source": [
    "from scipy.stats import boxcox\n",
    "\n",
    "covid_esp_ma7_bc, lam = boxcox(covid_esp_ma7['2020-02-25':])\n",
    "print('Lambda: %f' % lam)"
   ]
  },
  {
   "cell_type": "code",
   "execution_count": null,
   "metadata": {
    "colab": {},
    "colab_type": "code",
    "id": "WzJsICmFk7HP"
   },
   "outputs": [],
   "source": [
    "# The boxcox() function takes an argument, called lambda, that controls the type of transform to perform.\n",
    "#Below are some common values for lambda\n",
    "\n",
    "#lambda = -1. is a reciprocal transform.\n",
    "#lambda = -0.5 is a reciprocal square root transform.\n",
    "#lambda = 0.0 is a log transform.\n",
    "#lambda = 0.5 is a square root transform.\n",
    "#lambda = 1.0 is no transform.\n",
    "\n",
    "# From https://machinelearningmastery.com/power-transform-time-series-forecast-data-python/ "
   ]
  },
  {
   "cell_type": "code",
   "execution_count": null,
   "metadata": {
    "colab": {
     "base_uri": "https://localhost:8080/",
     "height": 441
    },
    "colab_type": "code",
    "id": "mJzA2FQsm-eT",
    "outputId": "dcacdf97-5b96-4621-f0bb-4cea2ae7b048"
   },
   "outputs": [],
   "source": [
    "pm.tsdisplay(covid_esp_ma7_bc, lag_max=20, title=\"Spain Covid daily new cases after boxcox transform\", show=True)"
   ]
  },
  {
   "cell_type": "code",
   "execution_count": null,
   "metadata": {
    "colab": {
     "base_uri": "https://localhost:8080/",
     "height": 362
    },
    "colab_type": "code",
    "id": "qX_I67_3nCgx",
    "outputId": "e2dbde25-63a5-4fa6-aefb-637a0b1c6d5d"
   },
   "outputs": [],
   "source": [
    "covid_esp_newcases.plot()"
   ]
  },
  {
   "cell_type": "code",
   "execution_count": null,
   "metadata": {
    "colab": {
     "base_uri": "https://localhost:8080/",
     "height": 362
    },
    "colab_type": "code",
    "id": "z4qU7QQpp_dd",
    "outputId": "6ea438a7-a358-48ea-a769-a74f28028df7"
   },
   "outputs": [],
   "source": [
    "covid_esp_ma7.plot()"
   ]
  },
  {
   "cell_type": "code",
   "execution_count": null,
   "metadata": {
    "colab": {},
    "colab_type": "code",
    "id": "3J2qwFRDqD_Z"
   },
   "outputs": [],
   "source": [
    "covid_esp_diff = covid_esp_newcases - covid_esp_ma7"
   ]
  },
  {
   "cell_type": "code",
   "execution_count": null,
   "metadata": {
    "colab": {
     "base_uri": "https://localhost:8080/",
     "height": 362
    },
    "colab_type": "code",
    "id": "--H9Re35qe7w",
    "outputId": "a7c94cf9-13f8-43f7-8ccb-fa5772d89b23"
   },
   "outputs": [],
   "source": [
    "covid_esp_diff.plot()"
   ]
  },
  {
   "cell_type": "code",
   "execution_count": null,
   "metadata": {
    "colab": {
     "base_uri": "https://localhost:8080/",
     "height": 441
    },
    "colab_type": "code",
    "id": "PorMIDLTq1Zz",
    "outputId": "7e04a7ad-c688-4b80-8572-6238ac4fdb82"
   },
   "outputs": [],
   "source": [
    "pm.tsdisplay(covid_esp_diff[50:], lag_max=20, title=\"Spain Covid daily new cases after diff transform\", show=True)"
   ]
  },
  {
   "cell_type": "code",
   "execution_count": null,
   "metadata": {
    "colab": {
     "base_uri": "https://localhost:8080/",
     "height": 168
    },
    "colab_type": "code",
    "id": "AZV412EKyuh5",
    "outputId": "62f9319c-8c20-481e-b4de-e2c5edac11c4"
   },
   "outputs": [],
   "source": [
    "# Perform Dicky-Fuller test\n",
    "\n",
    "# from http://sayef.tech/post/time-series-analysis-in-python-inroduction-to-arima/\n",
    "\n",
    "from statsmodels.tsa.stattools import adfuller\n",
    "\n",
    "print('Result of Dicky=Fuller Test')\n",
    "dftest = adfuller(covid_esp_diff[7:], autolag='AIC')\n",
    "\n",
    "dfoutput = pd.Series(dftest[0:4], index=['Test Statistic', 'p-value', '#Lags Used', '#Observations Used'])\n",
    "\n",
    "for key, value in dftest[4].items():\n",
    "    dfoutput['Critical Value (%s)'%key] = value\n",
    "\n",
    "print(dfoutput)"
   ]
  },
  {
   "cell_type": "code",
   "execution_count": null,
   "metadata": {
    "colab": {
     "base_uri": "https://localhost:8080/",
     "height": 34
    },
    "colab_type": "code",
    "id": "MAPj1-DWq84N",
    "outputId": "814c606a-b2a3-4083-8153-69de9ac6af0d"
   },
   "outputs": [],
   "source": [
    "from pmdarima import arima\n",
    "n_diffs = arima.ndiffs(covid_esp_newcases)\n",
    "n_diffs"
   ]
  },
  {
   "cell_type": "code",
   "execution_count": null,
   "metadata": {
    "colab": {},
    "colab_type": "code",
    "id": "sEB6F3qEwgIj"
   },
   "outputs": [],
   "source": [
    "#el test de dicky-fuller solo analiza tendencia\n",
    "from statsmodels.tsa.stattools import adfuller\n",
    "def test_stationarity(timeseries):\n",
    "\n",
    "    # Determining rolling statistics\n",
    "    rolling_mean = timeseries.rolling(window=3).mean()\n",
    "    rolling_std = timeseries.rolling(window=3).std()\n",
    "\n",
    "    # Plot rolling statistics\n",
    "\n",
    "    orig = plt.plot(timeseries, color='blue', label='Original')\n",
    "    mean = plt.plot(rolling_mean, color='red', label='Rolling Mean')\n",
    "    std = plt.plot(rolling_std, color='black', label='Rolling Std')\n",
    "    plt.legend(loc='best')\n",
    "    plt.title('Rolling Mean & Standard Deviation')\n",
    "    plt.show(block=False)\n",
    "\n",
    "    print('Result of Dicky=Fuller Test')\n",
    "    dftest = adfuller(timeseries, autolag='AIC')\n",
    "    dfoutput = pd.Series(dftest[0:4], index=['Test Statistic', 'p-value', '#Lags Used', '#Observations Used'])\n",
    "    for key, value in dftest[4].items():\n",
    "        dfoutput['Critical Value (%s)'%key] = value\n",
    "    print(dfoutput)"
   ]
  },
  {
   "cell_type": "code",
   "execution_count": null,
   "metadata": {
    "colab": {
     "base_uri": "https://localhost:8080/",
     "height": 486
    },
    "colab_type": "code",
    "id": "DoTm7foU0TS7",
    "outputId": "dcdc8087-c71a-44a0-d388-069e27b0ed54"
   },
   "outputs": [],
   "source": [
    "test_stationarity(covid_esp_diff[7:])"
   ]
  },
  {
   "cell_type": "code",
   "execution_count": null,
   "metadata": {
    "colab": {},
    "colab_type": "code",
    "id": "N9Z_FLcL0fu2"
   },
   "outputs": [],
   "source": [
    "covid_esp_s1 = covid_esp_newcases - covid_esp_newcases.shift(1)"
   ]
  },
  {
   "cell_type": "code",
   "execution_count": null,
   "metadata": {
    "colab": {
     "base_uri": "https://localhost:8080/",
     "height": 320
    },
    "colab_type": "code",
    "id": "0WK3-5LcwH8q",
    "outputId": "d8c7c54d-886a-481c-910b-660a0c8b9bed"
   },
   "outputs": [],
   "source": [
    "plt.plot(covid_esp_newcases, color='blue', label='Original')\n",
    "plt.plot(covid_esp_newcases.shift(4), color='red', label='Shift(4)')\n",
    "covid_esp_diff4 = covid_esp_newcases - covid_esp_newcases.shift(4)\n",
    "plt.plot(datadiff, color = 'green', label='Result')\n",
    "plt.legend(loc='best')\n",
    "plt.show()"
   ]
  },
  {
   "cell_type": "code",
   "execution_count": null,
   "metadata": {
    "colab": {
     "base_uri": "https://localhost:8080/",
     "height": 134
    },
    "colab_type": "code",
    "id": "tOHMDLxkytaK",
    "outputId": "88e5e673-8a32-4187-f0d1-72fac785b223"
   },
   "outputs": [],
   "source": [
    "covid_esp_diff4.head()"
   ]
  },
  {
   "cell_type": "code",
   "execution_count": null,
   "metadata": {
    "colab": {
     "base_uri": "https://localhost:8080/",
     "height": 486
    },
    "colab_type": "code",
    "id": "XI1iHJSwytCs",
    "outputId": "ad36d6f2-eaaa-4d86-be9a-767efd9a7699"
   },
   "outputs": [],
   "source": [
    "test_stationarity(covid_esp_diff4[4:])"
   ]
  },
  {
   "cell_type": "code",
   "execution_count": null,
   "metadata": {
    "colab": {
     "base_uri": "https://localhost:8080/",
     "height": 441
    },
    "colab_type": "code",
    "id": "cCFBOohc1eSV",
    "outputId": "064546ee-42c3-4729-e269-bf072f01c03e"
   },
   "outputs": [],
   "source": [
    "pm.tsdisplay(covid_esp_diff4[4:], lag_max=20, title=\"Spain Covid daily new cases after diff transform\", show=True)"
   ]
  },
  {
   "cell_type": "code",
   "execution_count": null,
   "metadata": {
    "colab": {
     "base_uri": "https://localhost:8080/",
     "height": 486
    },
    "colab_type": "code",
    "id": "GL97J6521pqo",
    "outputId": "73ff1ae2-6f4d-454b-cc9c-55ca28174b52"
   },
   "outputs": [],
   "source": [
    "test_stationarity(covid_esp_s1[7:])"
   ]
  },
  {
   "cell_type": "code",
   "execution_count": null,
   "metadata": {
    "colab": {
     "base_uri": "https://localhost:8080/",
     "height": 50
    },
    "colab_type": "code",
    "id": "IAzk0utt1x8I",
    "outputId": "10145e60-8076-498b-9ca5-1730e0a53056"
   },
   "outputs": [],
   "source": [
    "covid_esp_logminusma = np.log(covid_esp_newcases[80:]) - covid_esp_ma7[80:]"
   ]
  },
  {
   "cell_type": "code",
   "execution_count": null,
   "metadata": {
    "colab": {},
    "colab_type": "code",
    "id": "wz_AZu1e3a6K"
   },
   "outputs": [],
   "source": [
    "covid_esp_logminusma = np.log(covid_esp_newcases['2020-02-25':'2020-06-30']) - covid_esp_newcases['2020-02-25':'2020-06-30']"
   ]
  },
  {
   "cell_type": "code",
   "execution_count": null,
   "metadata": {
    "colab": {
     "base_uri": "https://localhost:8080/",
     "height": 486
    },
    "colab_type": "code",
    "id": "wk53KRHu3uXz",
    "outputId": "5ef4d5d9-52ab-4ea9-e076-6848d3b74a84"
   },
   "outputs": [],
   "source": [
    "test_stationarity(covid_esp_logminusma)"
   ]
  },
  {
   "cell_type": "code",
   "execution_count": null,
   "metadata": {
    "colab": {},
    "colab_type": "code",
    "id": "w0fmv9GX4mFA"
   },
   "outputs": [],
   "source": [
    "covid_esp[\"MA3\"]=covid_esp.new_cases.rolling(3).mean()\n",
    "covid_esp.index = covid_esp.date\n",
    "covid_esp_ma3=covid_esp[\"MA3\"]\n",
    "\n",
    "covid_esp_diff3 = covid_esp_newcases - covid_esp_ma3"
   ]
  },
  {
   "cell_type": "code",
   "execution_count": null,
   "metadata": {
    "colab": {
     "base_uri": "https://localhost:8080/",
     "height": 486
    },
    "colab_type": "code",
    "id": "NTNQefKQ5Sa7",
    "outputId": "da26010f-ec9a-4150-f943-36f594b07b1d"
   },
   "outputs": [],
   "source": [
    "test_stationarity(covid_esp_diff3[3:])"
   ]
  },
  {
   "cell_type": "code",
   "execution_count": null,
   "metadata": {
    "colab": {
     "base_uri": "https://localhost:8080/",
     "height": 441
    },
    "colab_type": "code",
    "id": "ykIdE7105hnn",
    "outputId": "0568cb1e-1313-4fab-9e56-b6a43b49ec60"
   },
   "outputs": [],
   "source": [
    "pm.tsdisplay(covid_esp_diff3[3:], lag_max=20, title=\"Spain Covid daily new cases after diff transform\", show=True)"
   ]
  },
  {
   "cell_type": "code",
   "execution_count": null,
   "metadata": {
    "colab": {},
    "colab_type": "code",
    "id": "B0SHc2E68lPx"
   },
   "outputs": [],
   "source": [
    "# https://alkaline-ml.com/pmdarima/auto_examples/index.html#preprocessing-examples"
   ]
  },
  {
   "cell_type": "code",
   "execution_count": null,
   "metadata": {
    "colab": {
     "base_uri": "https://localhost:8080/",
     "height": 369
    },
    "colab_type": "code",
    "id": "yQN75Wy3B1qT",
    "outputId": "8fcb488b-5c73-4bef-9e50-231a45f12e0d"
   },
   "outputs": [],
   "source": [
    "#Once data is stationary then time to decompose data in trend seasonality and residual \n",
    "from statsmodels.tsa.seasonal import seasonal_decompose\n",
    "decomposition = seasonal_decompose(covid_esp_diff3[3:])\n",
    "\n",
    "trend = decomposition.trend\n",
    "seasonal = decomposition.seasonal\n",
    "residual = decomposition.resid\n",
    "\n",
    "plt.subplot(411)\n",
    "plt.plot(covid_esp_diff3[3:], label='Original')\n",
    "plt.legend(loc='best')\n",
    "\n",
    "plt.subplot(412)\n",
    "plt.plot(trend, label='Trend')\n",
    "plt.legend(loc='best')\n",
    "\n",
    "plt.subplot(413)\n",
    "plt.plot(seasonal, label='Seasonality')\n",
    "plt.legend(loc='best')\n",
    "\n",
    "plt.subplot(414)\n",
    "plt.plot(residual, label='Residuals')\n",
    "plt.legend(loc='best')\n",
    "plt.tight_layout()\n"
   ]
  },
  {
   "cell_type": "code",
   "execution_count": null,
   "metadata": {
    "colab": {
     "base_uri": "https://localhost:8080/",
     "height": 486
    },
    "colab_type": "code",
    "id": "yOQdJVgKl0z8",
    "outputId": "03a4a5b9-74bc-4b1a-c6e9-f8f1ff81e342"
   },
   "outputs": [],
   "source": [
    "decomposed_data = residual\n",
    "decomposed_data.dropna(inplace=True)\n",
    "test_stationarity(decomposed_data)"
   ]
  },
  {
   "cell_type": "code",
   "execution_count": null,
   "metadata": {
    "colab": {
     "base_uri": "https://localhost:8080/",
     "height": 653
    },
    "colab_type": "code",
    "id": "qnzNy2myLvms",
    "outputId": "fa4ad0a9-1a65-4cbf-ecb3-d57554daad93"
   },
   "outputs": [],
   "source": [
    "plot_acf(decomposed_data)"
   ]
  },
  {
   "cell_type": "code",
   "execution_count": null,
   "metadata": {
    "colab": {
     "base_uri": "https://localhost:8080/",
     "height": 422
    },
    "colab_type": "code",
    "id": "RgABWUGMoVBg",
    "outputId": "0c4a91bb-7a6c-432a-e0d1-07d9e6be8cad"
   },
   "outputs": [],
   "source": [
    "#to calculate P and q de manera visual\n",
    "# ACF and PACF plots|:\n",
    "from statsmodels.tsa.stattools import acf, pacf\n",
    "\n",
    "lag_acf = acf(covid_esp_diff3[3:], nlags=20)\n",
    "lag_pacf = pacf(covid_esp_diff3[3:], nlags=20, method='ols')\n",
    "\n",
    "# Plot ACF\n",
    "plt.subplot(121)\n",
    "plt.plot(lag_acf)\n",
    "plt.axhline(y=0, linestyle='--', color='gray')\n",
    "plt.axhline(y=-1.96/np.sqrt(len(covid_esp_diff3[3:])), linestyle='--', color='gray')\n",
    "plt.axhline(y=1.96/np.sqrt(len(covid_esp_diff3[3:])), linestyle='--', color='gray')\n",
    "plt.title('ACF')\n",
    "\n",
    "# Plot PACF\n",
    "plt.subplot(122)\n",
    "plt.plot(lag_pacf)\n",
    "plt.axhline(y=0, linestyle='--', color='gray')\n",
    "plt.axhline(y=-1.96/np.sqrt(len(covid_esp_diff3[3:])), linestyle='--', color='gray')\n",
    "plt.axhline(y=1.96/np.sqrt(len(covid_esp_diff3[3:])), linestyle='--', color='gray')\n",
    "plt.title('PACF')\n",
    "plt.tight_layout()"
   ]
  },
  {
   "cell_type": "code",
   "execution_count": null,
   "metadata": {
    "colab": {},
    "colab_type": "code",
    "id": "HBQulYB2sgaV"
   },
   "outputs": [],
   "source": [
    "# in both graphs the line cuts for the first time around 2 then p and q are 2"
   ]
  },
  {
   "cell_type": "code",
   "execution_count": null,
   "metadata": {
    "colab": {
     "base_uri": "https://localhost:8080/",
     "height": 709
    },
    "colab_type": "code",
    "id": "4tY8Cg0c5dbX",
    "outputId": "e058559a-1878-4134-e2d8-eae74ec769a8"
   },
   "outputs": [],
   "source": [
    "#forma de buscar los mejores valores de p q y d con un bucle que compara AICs (valor que evalua la calidad del modelo. 0 sería perfecto)\n",
    "#según esto lo mejor es modelo 4,0,4 es decir p=4 y q=4 \n",
    "best_aic = 999999\n",
    "for p in range(5):\n",
    "    for q in range(5):\n",
    "        for d in range(3):\n",
    "            try:\n",
    "                modelt = SARIMAX(covid_esp_diff3, order = (p, d, q)).fit()\n",
    "                if modelt.aic < best_aic:\n",
    "                    best_aic = modelt.aic\n",
    "                    print(p, d, q, modelt.aic, modelt.bic)\n",
    "            except:\n",
    "                pass"
   ]
  },
  {
   "cell_type": "code",
   "execution_count": null,
   "metadata": {
    "colab": {},
    "colab_type": "code",
    "id": "GW-mby8gDYKp"
   },
   "outputs": [],
   "source": []
  },
  {
   "cell_type": "code",
   "execution_count": null,
   "metadata": {
    "colab": {},
    "colab_type": "code",
    "id": "08A46f3k5nbA"
   },
   "outputs": [],
   "source": [
    "#de manera automatica sale 4,0,4"
   ]
  },
  {
   "cell_type": "code",
   "execution_count": null,
   "metadata": {
    "colab": {
     "base_uri": "https://localhost:8080/",
     "height": 458
    },
    "colab_type": "code",
    "id": "S9HLwgtEswxR",
    "outputId": "33ee587b-8687-42cf-8e90-c5491033c3f0"
   },
   "outputs": [],
   "source": [
    "from statsmodels.tsa.statespace.sarimax import SARIMAX\n",
    "\n",
    "#ARIMAX Model\n",
    "model1 = SARIMAX(covid_esp_diff3[3:], order=(4, 0, 4))\n",
    "results_SARIMAX = model1.fit()\n",
    "plt.plot(covid_esp_diff3[3:])\n",
    "plt.plot(results_SARIMAX.fittedvalues, color='red')"
   ]
  },
  {
   "cell_type": "code",
   "execution_count": null,
   "metadata": {
    "colab": {
     "base_uri": "https://localhost:8080/",
     "height": 526
    },
    "colab_type": "code",
    "id": "ManOPpLSOrbV",
    "outputId": "f3038d09-0a7b-476e-ab97-77c119357114"
   },
   "outputs": [],
   "source": [
    "results_SARIMAX.summary()"
   ]
  },
  {
   "cell_type": "code",
   "execution_count": null,
   "metadata": {
    "colab": {
     "base_uri": "https://localhost:8080/",
     "height": 235
    },
    "colab_type": "code",
    "id": "UAR4GMVsRZBN",
    "outputId": "499fd1a8-81f5-4533-8e22-8d3d0d04f2e2"
   },
   "outputs": [],
   "source": [
    "prediction= results_SARIMAX.get_forecast(steps=12)\n",
    "prediction.predicted_mean"
   ]
  },
  {
   "cell_type": "code",
   "execution_count": null,
   "metadata": {
    "colab": {
     "base_uri": "https://localhost:8080/",
     "height": 402
    },
    "colab_type": "code",
    "id": "OEy1AE54SRrY",
    "outputId": "47f96cbf-3116-4a55-b934-fb7547dde6f0"
   },
   "outputs": [],
   "source": [
    "prediction.conf_int() #con un 95% de seguridad el valor de 13 de julio está entre -866 y 756 ........"
   ]
  },
  {
   "cell_type": "code",
   "execution_count": null,
   "metadata": {
    "colab": {
     "base_uri": "https://localhost:8080/",
     "height": 345
    },
    "colab_type": "code",
    "id": "W4Yi60wuSv6M",
    "outputId": "82ed2f46-8ef7-43e8-bcc9-870559c0c2c8"
   },
   "outputs": [],
   "source": [
    "covid_esp_diff3[3:].plot()\n",
    "prediction.predicted_mean.plot()\n",
    "plt.fill_between(prediction.predicted_mean.index,prediction.conf_int()[\"lower y\"],prediction.conf_int()[\"upper y\"])\n",
    "plt.show()"
   ]
  },
  {
   "cell_type": "code",
   "execution_count": null,
   "metadata": {
    "colab": {
     "base_uri": "https://localhost:8080/",
     "height": 235
    },
    "colab_type": "code",
    "id": "9kCx7vT3UTw6",
    "outputId": "4f249acf-ec37-4b41-d767-7e5f26d463c0"
   },
   "outputs": [],
   "source": [
    "results_SARIMAX.fittedvalues"
   ]
  },
  {
   "cell_type": "code",
   "execution_count": null,
   "metadata": {
    "colab": {
     "base_uri": "https://localhost:8080/",
     "height": 362
    },
    "colab_type": "code",
    "id": "HFUpb4HRU7rZ",
    "outputId": "60c6dd6b-e787-407f-e000-1aa0343d0bc3"
   },
   "outputs": [],
   "source": [
    "covid_esp_diff3[3:].plot()\n",
    "results_SARIMAX.fittedvalues.plot()"
   ]
  },
  {
   "cell_type": "code",
   "execution_count": null,
   "metadata": {
    "colab": {
     "base_uri": "https://localhost:8080/",
     "height": 34
    },
    "colab_type": "code",
    "id": "HVu5giaWVTet",
    "outputId": "b6e7cb14-1725-4c89-a319-2cdab1778b22"
   },
   "outputs": [],
   "source": [
    "from sklearn.metrics import mean_squared_error\n",
    "mean_squared_error(covid_esp_diff3[3:],results_SARIMAX.fittedvalues)"
   ]
  },
  {
   "cell_type": "code",
   "execution_count": null,
   "metadata": {
    "colab": {
     "base_uri": "https://localhost:8080/",
     "height": 349
    },
    "colab_type": "code",
    "id": "CPWIHaOsqWiY",
    "outputId": "c3553461-eb9a-4f86-8eb0-f120c7805361"
   },
   "outputs": [],
   "source": [
    "results_SARIMAX.plot_diagnostics()\n",
    "plt.show();"
   ]
  },
  {
   "cell_type": "code",
   "execution_count": null,
   "metadata": {
    "colab": {
     "base_uri": "https://localhost:8080/",
     "height": 406
    },
    "colab_type": "code",
    "id": "HWdUZeCv1TZ0",
    "outputId": "ff90a593-9c09-46cc-f167-b224d1f059bb"
   },
   "outputs": [],
   "source": [
    "##Prueba con la funcion automatica de pmdarima. sale un q=1 es decir modelo AM puro\n",
    "model2=pm.auto_arima(covid_esp_diff3[3:],seasonal=False , suppress_warnings=True)\n",
    "model2.summary()"
   ]
  },
  {
   "cell_type": "code",
   "execution_count": null,
   "metadata": {
    "colab": {
     "base_uri": "https://localhost:8080/",
     "height": 34
    },
    "colab_type": "code",
    "id": "2C_9JIqkzJdI",
    "outputId": "10611df1-2084-41ef-b2cf-631b660d13c0"
   },
   "outputs": [],
   "source": [
    "print(model2.order)"
   ]
  },
  {
   "cell_type": "code",
   "execution_count": null,
   "metadata": {
    "colab": {
     "base_uri": "https://localhost:8080/",
     "height": 681
    },
    "colab_type": "code",
    "id": "qLEoEl_5227E",
    "outputId": "7b967dbf-d96f-4fe1-f356-72214d5ed834"
   },
   "outputs": [],
   "source": [
    "model2.plot_diagnostics()"
   ]
  },
  {
   "cell_type": "code",
   "execution_count": null,
   "metadata": {
    "colab": {},
    "colab_type": "code",
    "id": "xUu8Adh33GKz"
   },
   "outputs": [],
   "source": [
    "#Ahora habría que deshacer el cambio\n",
    "#covid_esp_diff3 = covid_esp_newcases - covid_esp_ma3\n",
    "#covid_esp_newcases= covid_esp_diff3+covid_esp_ma3"
   ]
  },
  {
   "cell_type": "code",
   "execution_count": null,
   "metadata": {
    "colab": {
     "base_uri": "https://localhost:8080/",
     "height": 337
    },
    "colab_type": "code",
    "id": "PA0Ag5aNzo6a",
    "outputId": "93487f3a-7fa7-4bea-cff4-ea884a575c6f"
   },
   "outputs": [],
   "source": [
    "#covid_esp[\"MA3\"]=covid_esp.new_cases.rolling(3).mean()\n",
    "#covid_esp.index = covid_esp.date\n",
    "#covid_esp_ma3=covid_esp[\"MA3\"]\n",
    "\n",
    "#covid_esp_diff3 = covid_esp_newcases - covid_esp_ma3\n",
    "\n",
    "from statsmodels.tsa.arima_model import ARIMA\n",
    "\n",
    "model3 = ARIMA(covid_esp_newcases, order=(4, 0, 4))\n",
    "results_ARIMA = model3.fit()\n",
    "plt.plot(covid_esp_newcases)\n",
    "plt.plot(results_ARIMA.fittedvalues, color='red')\n"
   ]
  },
  {
   "cell_type": "code",
   "execution_count": null,
   "metadata": {
    "colab": {
     "base_uri": "https://localhost:8080/",
     "height": 319
    },
    "colab_type": "code",
    "id": "NOdVRwtQ5F_Y",
    "outputId": "6ff2211e-ea77-4bf4-cd01-0028d03637ad"
   },
   "outputs": [],
   "source": [
    "prediction3 = results_ARIMA.forecast(steps=12)\n",
    "prediction3"
   ]
  },
  {
   "cell_type": "code",
   "execution_count": null,
   "metadata": {
    "colab": {
     "base_uri": "https://localhost:8080/",
     "height": 34
    },
    "colab_type": "code",
    "id": "Gut60M_A4bAi",
    "outputId": "7f3ffe38-cc93-48d6-f52d-7ffaa74ece79"
   },
   "outputs": [],
   "source": [
    "covid_esp_newcases.shape"
   ]
  },
  {
   "cell_type": "code",
   "execution_count": null,
   "metadata": {
    "colab": {
     "base_uri": "https://localhost:8080/",
     "height": 645
    },
    "colab_type": "code",
    "id": "UTOqNYPw261q",
    "outputId": "eebcb617-977c-4bc4-ab55-b293a4965b53"
   },
   "outputs": [],
   "source": [
    "prediction3 = results_ARIMA.forecast(steps=12)\n",
    "\n",
    "results_ARIMA.plot_predict(1,205)"
   ]
  },
  {
   "cell_type": "code",
   "execution_count": null,
   "metadata": {
    "colab": {
     "base_uri": "https://localhost:8080/",
     "height": 438
    },
    "colab_type": "code",
    "id": "KItSnxenAnzf",
    "outputId": "bf34d737-e12f-4b07-a060-c6f314a2952a"
   },
   "outputs": [],
   "source": [
    "#probamos con 1 variable exogena\n",
    "#ARIMAX Model\n",
    "flights_esp = pd.read_csv(\"vuelos_esp.csv\",parse_dates=[\"FLT_DATE\"],index_col=\"FLT_DATE\")\n",
    "flights_esp=flights_esp[\"FLT_ARR_1\"]\n",
    "flights_esp=flights_esp.resample(\"1D\").sum()\n",
    "flights_esp\n",
    "#solo hay vuelos hasta 31-5-2020 y el modelo covid va hasta 12-7-2020"
   ]
  },
  {
   "cell_type": "code",
   "execution_count": null,
   "metadata": {
    "colab": {},
    "colab_type": "code",
    "id": "bej_w36UBBLx"
   },
   "outputs": [],
   "source": [
    "from statsmodels.tsa.statespace.sarimax import SARIMAX\n",
    "\n",
    "model4 = SARIMAX(covid_esp_diff3[3:-12], order=(4, 0, 4),exog=flights_esp[2:])\n",
    "results_SARIMAX = model4.fit()\n",
    "plt.plot(covid_esp_diff3[3:-12])\n",
    "plt.plot(results_SARIMAX.fittedvalues, color='red')"
   ]
  },
  {
   "cell_type": "code",
   "execution_count": null,
   "metadata": {
    "colab": {},
    "colab_type": "code",
    "id": "4fZFeK_7Ejct"
   },
   "outputs": [],
   "source": [
    "prediction4= results_SARIMAX.get_forecast(steps=12,exog=[688,553,616,630,612,688,553,616,630,612,688,533])# poner por dia de la semana"
   ]
  },
  {
   "cell_type": "code",
   "execution_count": null,
   "metadata": {
    "colab": {},
    "colab_type": "code",
    "id": "PpIvwNP5DgYC"
   },
   "outputs": [],
   "source": [
    "covid_esp_diff3[3:-12].plot()\n",
    "prediction4.predicted_mean.plot()\n",
    "plt.fill_between(prediction4.predicted_mean.index,prediction4.conf_int()[\"lower y\"],prediction4.conf_int()[\"upper y\"])\n",
    "plt.show()"
   ]
  },
  {
   "cell_type": "code",
   "execution_count": null,
   "metadata": {
    "colab": {},
    "colab_type": "code",
    "id": "0eQ-DRHZHzo-"
   },
   "outputs": [],
   "source": [
    "covid_esp.new_cases[1:-12]"
   ]
  },
  {
   "cell_type": "code",
   "execution_count": null,
   "metadata": {
    "colab": {},
    "colab_type": "code",
    "id": "hsx8pOVObbYX"
   },
   "outputs": [],
   "source": [
    "prediction4.predicted_mean"
   ]
  },
  {
   "cell_type": "code",
   "execution_count": null,
   "metadata": {
    "colab": {},
    "colab_type": "code",
    "id": "vmcykJEBbKCL"
   },
   "outputs": [],
   "source": [
    "(200+301+x)/3=146.52=-61,55"
   ]
  },
  {
   "cell_type": "code",
   "execution_count": null,
   "metadata": {
    "colab": {},
    "colab_type": "code",
    "id": "OFMu9InHb81i"
   },
   "outputs": [],
   "source": [
    "#covid_esp_diff3 = covid_esp_newcases - covid_esp_ma3\n",
    "# 146.53=x-(200+301+x/)3\n",
    "covid_esp_bucle=covid_esp.new_cases.copy()\n",
    "covid_esp_bucle=covid_esp_bucle[:-12]\n",
    "fecha=covid_esp_bucle.index[-1]\n",
    "j=1\n",
    "covid_esp_bucle\n",
    "  \n"
   ]
  },
  {
   "cell_type": "code",
   "execution_count": null,
   "metadata": {
    "colab": {},
    "colab_type": "code",
    "id": "FjztOH04mLZU"
   },
   "outputs": [],
   "source": [
    "\n",
    "for i in  prediction4.predicted_mean:\n",
    "  inicial_2=covid_esp_bucle[-2]\n",
    "  inicial_1=covid_esp_bucle[-1]\n",
    "  x=(-inicial_2-inicial_1-(3*i))/-2\n",
    "  covid_esp_bucle.append(pd.Series(x,index=fecha,))\n",
    "  j=j+1"
   ]
  },
  {
   "cell_type": "code",
   "execution_count": null,
   "metadata": {
    "colab": {},
    "colab_type": "code",
    "id": "ZT2YaHdLgwnO"
   },
   "outputs": [],
   "source": [
    "plt.plot(covid_esp_bucle[-15:],color=\"blue\")\n",
    "plt.plot(covid_esp.new_cases[-15:],color=\"red\")"
   ]
  },
  {
   "cell_type": "code",
   "execution_count": null,
   "metadata": {
    "colab": {},
    "colab_type": "code",
    "id": "JRZatVmfjjIf"
   },
   "outputs": [],
   "source": [
    "covid_esp.new_cases[-15:]"
   ]
  },
  {
   "cell_type": "code",
   "execution_count": null,
   "metadata": {
    "colab": {},
    "colab_type": "code",
    "id": "k1jldsD1lG5j"
   },
   "outputs": [],
   "source": [
    "covid_esp_bucle[-15:]"
   ]
  },
  {
   "cell_type": "code",
   "execution_count": null,
   "metadata": {
    "colab": {},
    "colab_type": "code",
    "id": "6tKa5SBwlT2f"
   },
   "outputs": [],
   "source": []
  },
  {
   "cell_type": "code",
   "execution_count": null,
   "metadata": {
    "colab": {},
    "colab_type": "code",
    "id": "oRJLgmWHnmNn"
   },
   "outputs": [],
   "source": [
    "### Creating a front end visualization"
   ]
  },
  {
   "cell_type": "code",
   "execution_count": null,
   "metadata": {
    "colab": {},
    "colab_type": "code",
    "id": "Aas51cUeiQGX"
   },
   "outputs": [],
   "source": [
    "pip install tornado==5.0"
   ]
  },
  {
   "cell_type": "code",
   "execution_count": 1,
   "metadata": {
    "colab": {
     "base_uri": "https://localhost:8080/",
     "height": 458
    },
    "colab_type": "code",
    "id": "FpMzdNXuhwHL",
    "outputId": "f27675ea-212b-48f3-f1a1-4c48cfcd9b3c"
   },
   "outputs": [],
   "source": [
    "import streamlit"
   ]
  },
  {
   "cell_type": "code",
   "execution_count": null,
   "metadata": {
    "colab": {
     "base_uri": "https://localhost:8080/",
     "height": 256
    },
    "colab_type": "code",
    "id": "_dDql8-Mm7TH",
    "outputId": "bbf05d4f-e4bd-40d3-d8e2-04ebfe601bb6"
   },
   "outputs": [],
   "source": [
    "##ngrok is the name of the library we need if we want to create a public url for colab since colab doesnt allow to use the urls\n",
    "!wget https://bin.equinox.io/c/4VmDzA7iaHb/ngrok-stable-linux-amd64.zip\n",
    "!unzip -qq ngrok-stable-linux-amd64.zip\n",
    "\n",
    "get_ipython().system_raw('./ngrok http 8501 &')\n",
    "! curl -s http://localhost:4040/api/tunnels | python3 -c \\\n",
    "    \"import sys, json; print(json.load(sys.stdin)['tunnels'][0]['public_url'])\"\n",
    "\n"
   ]
  },
  {
   "cell_type": "code",
   "execution_count": 6,
   "metadata": {
    "colab": {
     "base_uri": "https://localhost:8080/",
     "height": 256
    },
    "colab_type": "code",
    "id": "EVEYZnnPnPxo",
    "outputId": "6b1f420d-e28c-44b8-e94c-2d67b9011636"
   },
   "outputs": [
    {
     "ename": "SyntaxError",
     "evalue": "invalid syntax (<ipython-input-6-c7a1b683aa76>, line 1)",
     "output_type": "error",
     "traceback": [
      "\u001b[0;36m  File \u001b[0;32m\"<ipython-input-6-c7a1b683aa76>\"\u001b[0;36m, line \u001b[0;32m1\u001b[0m\n\u001b[0;31m    streamlit hello\u001b[0m\n\u001b[0m              ^\u001b[0m\n\u001b[0;31mSyntaxError\u001b[0m\u001b[0;31m:\u001b[0m invalid syntax\n"
     ]
    }
   ],
   "source": [
    "streamlit hello #this doesnt work here it needs to be used in the terminal. \n",
    "#in streamlit you create the file .py and then you run it from terminal not from the notebook"
   ]
  },
  {
   "cell_type": "code",
   "execution_count": null,
   "metadata": {
    "colab": {
     "base_uri": "https://localhost:8080/",
     "height": 35
    },
    "colab_type": "code",
    "id": "ZxCMv2yihWLH",
    "outputId": "11fe5b5a-d42e-4575-b3d6-fbf5836cf66c"
   },
   "outputs": [],
   "source": [
    "st.title(\"Coronavirus deaths forecast \")\n",
    "st.markdown(\"explain text of what this visualization makes\")"
   ]
  },
  {
   "cell_type": "code",
   "execution_count": null,
   "metadata": {
    "colab": {
     "base_uri": "https://localhost:8080/",
     "height": 135
    },
    "colab_type": "code",
    "id": "1rnT7BnClFyq",
    "outputId": "5f7114cc-248f-48f9-bef7-abbcc43c0868"
   },
   "outputs": [],
   "source": []
  },
  {
   "cell_type": "code",
   "execution_count": null,
   "metadata": {
    "colab": {},
    "colab_type": "code",
    "id": "zHRrfRX3lWpr"
   },
   "outputs": [],
   "source": []
  }
 ],
 "metadata": {
  "colab": {
   "collapsed_sections": [],
   "include_colab_link": true,
   "name": "coviddata.ipynb",
   "provenance": []
  },
  "kernelspec": {
   "display_name": "project",
   "language": "python",
   "name": "project"
  },
  "language_info": {
   "codemirror_mode": {
    "name": "ipython",
    "version": 3
   },
   "file_extension": ".py",
   "mimetype": "text/x-python",
   "name": "python",
   "nbconvert_exporter": "python",
   "pygments_lexer": "ipython3",
   "version": "3.8.2"
  }
 },
 "nbformat": 4,
 "nbformat_minor": 2
}
