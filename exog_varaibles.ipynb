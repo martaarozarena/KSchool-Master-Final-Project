{
  "nbformat": 4,
  "nbformat_minor": 0,
  "metadata": {
    "colab": {
      "name": "Untitled3.ipynb",
      "provenance": [],
      "include_colab_link": true
    },
    "kernelspec": {
      "display_name": "Python 3",
      "language": "python",
      "name": "python3"
    },
    "language_info": {
      "codemirror_mode": {
        "name": "ipython",
        "version": 3
      },
      "file_extension": ".py",
      "mimetype": "text/x-python",
      "name": "python",
      "nbconvert_exporter": "python",
      "pygments_lexer": "ipython3",
      "version": "3.7.4"
    }
  },
  "cells": [
    {
      "cell_type": "markdown",
      "metadata": {
        "id": "view-in-github",
        "colab_type": "text"
      },
      "source": [
        "<a href=\"https://colab.research.google.com/github/martaarozarena/KSchool-Master-Final-Project/blob/master/exog_varaibles.ipynb\" target=\"_parent\"><img src=\"https://colab.research.google.com/assets/colab-badge.svg\" alt=\"Open In Colab\"/></a>"
      ]
    },
    {
      "cell_type": "code",
      "metadata": {
        "colab_type": "code",
        "id": "-LGmL3ZYxcgK",
        "colab": {}
      },
      "source": [
        "import pandas as pd"
      ],
      "execution_count": 92,
      "outputs": []
    },
    {
      "cell_type": "code",
      "metadata": {
        "id": "hh8VB22LNgem",
        "colab_type": "code",
        "colab": {}
      },
      "source": [
        "sheets=[\"c1_schoolclosing\",\"c2_workplaceclosing\",\"c3_cancelpublicevents\",\"c4_restrictionsongatherings\",\"c5_closepublictransport\",\"c6_stayathomerequirements\",\"c7_domestictravel\",\"c8_internationaltravel\",\"h1_publicinfocampaign\",\"h2_testingpolicy\",\"h3_contacttracing\"]\n",
        "initialdate=\"01-01-2020\"\n",
        "enddate=\"30-06-2020\""
      ],
      "execution_count": 93,
      "outputs": []
    },
    {
      "cell_type": "code",
      "metadata": {
        "colab_type": "code",
        "id": "VYw8GKT0vT7d",
        "colab": {}
      },
      "source": [
        "var = pd.read_excel(\"https://github.com/OxCGRT/covid-policy-tracker/raw/master/data/timeseries/OxCGRT_timeseries_all.xlsx\",sheet_name=sheets)"
      ],
      "execution_count": 94,
      "outputs": []
    },
    {
      "cell_type": "code",
      "metadata": {
        "colab_type": "code",
        "id": "PFhd8uu9xfdC",
        "colab": {}
      },
      "source": [
        "j=1\n",
        "for i in var.keys():\n",
        "  var[i]=var[i].drop(\"CountryCode\",axis=1)\n",
        "  var[i].index=var[i].CountryName\n",
        "  var[i]=var[i].drop(\"CountryName\",axis=1)\n",
        "  var[i]=var[i][:-3]\n",
        "  var[i]=var[i].T\n",
        "  var[i].index=pd.to_datetime(var[i].index,format=\"%d%b%Y\")\n",
        "  var[i]=var[i].truncate(initialdate,enddate)\n",
        "  j=j+1"
      ],
      "execution_count": 95,
      "outputs": []
    },
    {
      "cell_type": "code",
      "metadata": {
        "id": "m1JMlDyiLOcj",
        "colab_type": "code",
        "colab": {}
      },
      "source": [
        "b=1\n",
        "for i in sheets:\n",
        "  if b==1: \n",
        "    var[i].columns=\"{}_\".format(i[3:])+var[i].columns\n",
        "    exogenas=var[i]\n",
        "  else:\n",
        "    concat=var[i]\n",
        "    concat.columns=\"{}_\".format(i[3:])+var[i].columns\n",
        "    exogenas=pd.concat([exogenas,concat],axis=1)\n",
        "  b=b+1"
      ],
      "execution_count": 96,
      "outputs": []
    },
    {
      "cell_type": "code",
      "metadata": {
        "colab_type": "code",
        "id": "mXHSu3962Puy",
        "colab": {}
      },
      "source": [
        "#download the mask wearing data"
      ],
      "execution_count": 97,
      "outputs": []
    },
    {
      "cell_type": "code",
      "metadata": {
        "colab_type": "code",
        "id": "O11Ec5HeuE04",
        "colab": {}
      },
      "source": [
        "url2 = \"https://drive.google.com/file/d/1WsBkpNhB5ilLsNxmOZPwdXv66m5tPDHx/view?usp=sharing\"\n",
        "path2 = 'https://drive.google.com/uc?export=download&id='+url2.split('/')[-2]\n",
        "var_percent_mask = pd.read_csv(path2,sep=\";\")"
      ],
      "execution_count": 98,
      "outputs": []
    },
    {
      "cell_type": "code",
      "metadata": {
        "colab_type": "code",
        "id": "3PkFiOP7L9Hq",
        "colab": {}
      },
      "source": [
        "var_percent_mask.DateTime=pd.to_datetime(var_percent_mask.DateTime)\n",
        "var_percent_mask.index=var_percent_mask.DateTime\n",
        "var_percent_mask.drop(\"DateTime\",axis=1,inplace=True)"
      ],
      "execution_count": 99,
      "outputs": []
    },
    {
      "cell_type": "code",
      "metadata": {
        "id": "s30F7MNK1TMw",
        "colab_type": "code",
        "colab": {}
      },
      "source": [
        "#add the missing dates\n",
        "var_percent_mask=var_percent_mask.resample(\"D\").mean()"
      ],
      "execution_count": 100,
      "outputs": []
    },
    {
      "cell_type": "code",
      "metadata": {
        "id": "-k8JGzZ1uCKD",
        "colab_type": "code",
        "colab": {}
      },
      "source": [
        "#fill the missing dates with an interpolation\n",
        "var_percent_mask.interpolate(method='linear',inplace=True)\n",
        "var_percent_mask.fillna(method=\"bfill\",inplace=True)\n"
      ],
      "execution_count": 101,
      "outputs": []
    },
    {
      "cell_type": "code",
      "metadata": {
        "colab_type": "code",
        "id": "KdIg-0PXMHny",
        "colab": {}
      },
      "source": [
        "#rename the variable to be added in the general dataframe and choose the dates\n",
        "var_percent_mask.columns=\"mask_\"+var_percent_mask.columns\n",
        "var_percent_mask=var_percent_mask.truncate(initialdate,enddate)"
      ],
      "execution_count": 102,
      "outputs": []
    },
    {
      "cell_type": "code",
      "metadata": {
        "id": "4w6pDohwQPax",
        "colab_type": "code",
        "colab": {}
      },
      "source": [
        "#added to the generales dataframe and the missing initial values add 0s cause people was not wearing masks at the beggining\n",
        "exogenas=pd.concat([exogenas,var_percent_mask],axis=1)\n",
        "exogenas.fillna(0,inplace=True)"
      ],
      "execution_count": 103,
      "outputs": []
    },
    {
      "cell_type": "code",
      "metadata": {
        "id": "JA-5DF0IuREg",
        "colab_type": "code",
        "colab": {}
      },
      "source": [
        "#flights per day\n",
        "url3 = \"https://drive.google.com/file/d/16AKDzYIdaPH2omW2R30r6Gx0sKNU8-dc/view?usp=sharing\"\n",
        "path3 = 'https://drive.google.com/uc?export=download&id='+url3.split('/')[-2]\n",
        "flights = pd.read_excel(path3,sheet_name=\"DATA\",date_parser=\"FLT_DATE\",index_col =\"FLT_DATE\")"
      ],
      "execution_count": 104,
      "outputs": []
    },
    {
      "cell_type": "code",
      "metadata": {
        "id": "dpze0Q2vuv2n",
        "colab_type": "code",
        "colab": {}
      },
      "source": [
        "#summing number of flights per day\n",
        "flights=flights.resample(\"1D\").sum()"
      ],
      "execution_count": 105,
      "outputs": []
    },
    {
      "cell_type": "code",
      "metadata": {
        "id": "STIIZNP_vIAg",
        "colab_type": "code",
        "colab": {
          "base_uri": "https://localhost:8080/",
          "height": 257
        },
        "outputId": "5b636ffa-e445-4be5-a2c6-a8d18a50db54"
      },
      "source": [
        "flights=flights['FLT_ARR_1'].truncate(initialdate,enddate)\n",
        "flights.rename(\"flights\",inplace=True)"
      ],
      "execution_count": 106,
      "outputs": [
        {
          "output_type": "execute_result",
          "data": {
            "text/plain": [
              "FLT_DATE\n",
              "2020-01-01    16159\n",
              "2020-01-02    20906\n",
              "2020-01-03    21321\n",
              "2020-01-04    18645\n",
              "2020-01-05    20767\n",
              "              ...  \n",
              "2020-06-26     6416\n",
              "2020-06-27     4580\n",
              "2020-06-28     5146\n",
              "2020-06-29     6060\n",
              "2020-06-30     6042\n",
              "Freq: D, Name: flights, Length: 182, dtype: int64"
            ]
          },
          "metadata": {
            "tags": []
          },
          "execution_count": 106
        }
      ]
    },
    {
      "cell_type": "code",
      "metadata": {
        "id": "ZQKO6icMwEu8",
        "colab_type": "code",
        "colab": {}
      },
      "source": [
        "#add the variable to the dataframe\n",
        "exogenas=pd.concat([exogenas,flights],axis=1)"
      ],
      "execution_count": 107,
      "outputs": []
    },
    {
      "cell_type": "code",
      "metadata": {
        "id": "esuEi5lxwKh-",
        "colab_type": "code",
        "colab": {}
      },
      "source": [
        "#creating the csv file\n",
        "exogenas.to_csv('exogenas.csv')"
      ],
      "execution_count": 109,
      "outputs": []
    }
  ]
}