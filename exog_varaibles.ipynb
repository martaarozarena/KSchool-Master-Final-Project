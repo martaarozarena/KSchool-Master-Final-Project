{
 "cells": [
  {
   "cell_type": "markdown",
   "metadata": {
    "colab_type": "text",
    "id": "view-in-github"
   },
   "source": [
    "<a href=\"https://colab.research.google.com/github/martaarozarena/KSchool-Master-Final-Project/blob/master/exog_varaibles.ipynb\" target=\"_parent\"><img src=\"https://colab.research.google.com/assets/colab-badge.svg\" alt=\"Open In Colab\"/></a>"
   ]
  },
  {
   "cell_type": "code",
   "execution_count": 1,
   "metadata": {
    "colab": {
     "base_uri": "https://localhost:8080/",
     "height": 129
    },
    "colab_type": "code",
    "id": "LthkjTRu-ouZ",
    "outputId": "bd4a8b9f-67ea-4496-99dc-962122e5b9ea"
   },
   "outputs": [
    {
     "name": "stdout",
     "output_type": "stream",
     "text": [
      "Go to this URL in a browser: https://accounts.google.com/o/oauth2/auth?client_id=947318989803-6bn6qk8qdgf4n4g3pfee6491hc0brc4i.apps.googleusercontent.com&redirect_uri=urn%3aietf%3awg%3aoauth%3a2.0%3aoob&response_type=code&scope=email%20https%3a%2f%2fwww.googleapis.com%2fauth%2fdocs.test%20https%3a%2f%2fwww.googleapis.com%2fauth%2fdrive%20https%3a%2f%2fwww.googleapis.com%2fauth%2fdrive.photos.readonly%20https%3a%2f%2fwww.googleapis.com%2fauth%2fpeopleapi.readonly\n",
      "\n",
      "Enter your authorization code:\n",
      "··········\n",
      "Mounted at /content/drive\n"
     ]
    }
   ],
   "source": [
    "from google.colab import drive\n",
    "#from os.path import join\n",
    "\n",
    "ROOT = '/content/drive'     # default for the drive\n",
    "PROJ = 'My Drive/KSchool-Master-Final-Project'       # path to your project on Drive\n",
    "\n",
    "drive.mount(ROOT)           # we mount the drive at /content/drive\n",
    "\n",
    "#PROJECT_PATH = join(ROOT, PROJ)"
   ]
  },
  {
   "cell_type": "code",
   "execution_count": 2,
   "metadata": {
    "colab": {
     "base_uri": "https://localhost:8080/",
     "height": 35
    },
    "colab_type": "code",
    "id": "kEnC-kf3-sOg",
    "outputId": "6942565c-1dda-419b-b8f0-1241f06b18a9"
   },
   "outputs": [
    {
     "name": "stdout",
     "output_type": "stream",
     "text": [
      "/content/drive/.shortcut-targets-by-id/1JF1t24jwhTtQKP-lLGdAUHcNKaXnHy3u/KSchool-Master-Final-Project/data\n"
     ]
    }
   ],
   "source": [
    "cd /content/drive/.shortcut-targets-by-id/1JF1t24jwhTtQKP-lLGdAUHcNKaXnHy3u/KSchool-Master-Final-Project/data"
   ]
  },
  {
   "cell_type": "code",
   "execution_count": 1,
   "metadata": {
    "colab": {},
    "colab_type": "code",
    "id": "-LGmL3ZYxcgK"
   },
   "outputs": [],
   "source": [
    "import pandas as pd"
   ]
  },
  {
   "cell_type": "code",
   "execution_count": 2,
   "metadata": {
    "colab": {},
    "colab_type": "code",
    "id": "VYw8GKT0vT7d"
   },
   "outputs": [],
   "source": [
    "sheets=[\"c1_schoolclosing\",\"c2_workplaceclosing\",\"c3_cancelpublicevents\",\"c4_restrictionsongatherings\",\"c5_closepublictransport\",\"c6_stayathomerequirements\",\"c7_domestictravel\",\"c8_internationaltravel\"]\n",
    "url = \"https://drive.google.com/file/d/1P37xzRtsjWIMUfhs3uUrHHLyToyE7qOJ/view?usp=sharing\"\n",
    "path = 'https://drive.google.com/uc?export=download&id='+url.split('/')[-2]\n",
    "variables = []\n",
    "for i in sheets:\n",
    "  varc = pd.read_excel(path,sheet_name=sheets)\n"
   ]
  },
  {
   "cell_type": "code",
   "execution_count": 3,
   "metadata": {
    "colab": {},
    "colab_type": "code",
    "id": "PFhd8uu9xfdC"
   },
   "outputs": [],
   "source": [
    "j=1\n",
    "for i in varc.keys():\n",
    "  varc[i]=varc[i].drop(\"CountryCode\",axis=1)\n",
    "  varc[i].index=varc[i].CountryName\n",
    "  varc[i]=varc[i].drop(\"CountryName\",axis=1)\n",
    "  varc[i]=varc[i][:-3]\n",
    "  varc[i]=varc[i].T\n",
    "  varc[i].index=pd.to_datetime(varc[i].index,format=\"%d%b%Y\")\n",
    "  varc[i]=varc[i].truncate(\"01-01-2020\",\"30-06-2020\")\n",
    "  varc[i].to_csv('variable_c{}.csv'.format(j))\n",
    "  j=j+1"
   ]
  },
  {
   "cell_type": "code",
   "execution_count": 4,
   "metadata": {
    "colab": {},
    "colab_type": "code",
    "id": "2koh25tt0-mc"
   },
   "outputs": [],
   "source": [
    "varc1=varc['c1_schoolclosing']\n",
    "varc2=varc[\"c2_workplaceclosing\"]\n",
    "varc3=varc['c3_cancelpublicevents']\n",
    "varc4=varc[\"c4_restrictionsongatherings\"]\n",
    "varc5=varc['c5_closepublictransport']\n",
    "varc6=varc[\"c6_stayathomerequirements\"]\n",
    "varc7=varc['c7_domestictravel']\n",
    "varc8=varc[\"c8_internationaltravel\"]"
   ]
  },
  {
   "cell_type": "code",
   "execution_count": 9,
   "metadata": {},
   "outputs": [
    {
     "data": {
      "text/html": [
       "<div>\n",
       "<style scoped>\n",
       "    .dataframe tbody tr th:only-of-type {\n",
       "        vertical-align: middle;\n",
       "    }\n",
       "\n",
       "    .dataframe tbody tr th {\n",
       "        vertical-align: top;\n",
       "    }\n",
       "\n",
       "    .dataframe thead th {\n",
       "        text-align: right;\n",
       "    }\n",
       "</style>\n",
       "<table border=\"1\" class=\"dataframe\">\n",
       "  <thead>\n",
       "    <tr style=\"text-align: right;\">\n",
       "      <th>CountryName</th>\n",
       "      <th>Aruba</th>\n",
       "      <th>Afghanistan</th>\n",
       "      <th>Angola</th>\n",
       "      <th>Albania</th>\n",
       "      <th>Andorra</th>\n",
       "      <th>United Arab Emirates</th>\n",
       "      <th>Argentina</th>\n",
       "      <th>Australia</th>\n",
       "      <th>Austria</th>\n",
       "      <th>Azerbaijan</th>\n",
       "      <th>...</th>\n",
       "      <th>Uruguay</th>\n",
       "      <th>United States</th>\n",
       "      <th>Uzbekistan</th>\n",
       "      <th>Venezuela</th>\n",
       "      <th>Vietnam</th>\n",
       "      <th>Vanuatu</th>\n",
       "      <th>Yemen</th>\n",
       "      <th>South Africa</th>\n",
       "      <th>Zambia</th>\n",
       "      <th>Zimbabwe</th>\n",
       "    </tr>\n",
       "  </thead>\n",
       "  <tbody>\n",
       "    <tr>\n",
       "      <th>2020-01-01</th>\n",
       "      <td>0.0</td>\n",
       "      <td>0.0</td>\n",
       "      <td>0.0</td>\n",
       "      <td>0.0</td>\n",
       "      <td>0.0</td>\n",
       "      <td>0.0</td>\n",
       "      <td>0.0</td>\n",
       "      <td>0.0</td>\n",
       "      <td>0.0</td>\n",
       "      <td>0.0</td>\n",
       "      <td>...</td>\n",
       "      <td>0.0</td>\n",
       "      <td>0.0</td>\n",
       "      <td>0.0</td>\n",
       "      <td>0.0</td>\n",
       "      <td>0.0</td>\n",
       "      <td>0.0</td>\n",
       "      <td>0.0</td>\n",
       "      <td>0.0</td>\n",
       "      <td>0.0</td>\n",
       "      <td>0.0</td>\n",
       "    </tr>\n",
       "    <tr>\n",
       "      <th>2020-01-02</th>\n",
       "      <td>0.0</td>\n",
       "      <td>0.0</td>\n",
       "      <td>0.0</td>\n",
       "      <td>0.0</td>\n",
       "      <td>0.0</td>\n",
       "      <td>0.0</td>\n",
       "      <td>0.0</td>\n",
       "      <td>0.0</td>\n",
       "      <td>0.0</td>\n",
       "      <td>0.0</td>\n",
       "      <td>...</td>\n",
       "      <td>0.0</td>\n",
       "      <td>0.0</td>\n",
       "      <td>0.0</td>\n",
       "      <td>0.0</td>\n",
       "      <td>0.0</td>\n",
       "      <td>0.0</td>\n",
       "      <td>0.0</td>\n",
       "      <td>0.0</td>\n",
       "      <td>0.0</td>\n",
       "      <td>0.0</td>\n",
       "    </tr>\n",
       "    <tr>\n",
       "      <th>2020-01-03</th>\n",
       "      <td>0.0</td>\n",
       "      <td>0.0</td>\n",
       "      <td>0.0</td>\n",
       "      <td>0.0</td>\n",
       "      <td>0.0</td>\n",
       "      <td>0.0</td>\n",
       "      <td>0.0</td>\n",
       "      <td>0.0</td>\n",
       "      <td>0.0</td>\n",
       "      <td>0.0</td>\n",
       "      <td>...</td>\n",
       "      <td>0.0</td>\n",
       "      <td>0.0</td>\n",
       "      <td>0.0</td>\n",
       "      <td>0.0</td>\n",
       "      <td>0.0</td>\n",
       "      <td>0.0</td>\n",
       "      <td>0.0</td>\n",
       "      <td>0.0</td>\n",
       "      <td>0.0</td>\n",
       "      <td>0.0</td>\n",
       "    </tr>\n",
       "    <tr>\n",
       "      <th>2020-01-04</th>\n",
       "      <td>0.0</td>\n",
       "      <td>0.0</td>\n",
       "      <td>0.0</td>\n",
       "      <td>0.0</td>\n",
       "      <td>0.0</td>\n",
       "      <td>0.0</td>\n",
       "      <td>0.0</td>\n",
       "      <td>0.0</td>\n",
       "      <td>0.0</td>\n",
       "      <td>0.0</td>\n",
       "      <td>...</td>\n",
       "      <td>0.0</td>\n",
       "      <td>0.0</td>\n",
       "      <td>0.0</td>\n",
       "      <td>0.0</td>\n",
       "      <td>0.0</td>\n",
       "      <td>0.0</td>\n",
       "      <td>0.0</td>\n",
       "      <td>0.0</td>\n",
       "      <td>0.0</td>\n",
       "      <td>0.0</td>\n",
       "    </tr>\n",
       "    <tr>\n",
       "      <th>2020-01-05</th>\n",
       "      <td>0.0</td>\n",
       "      <td>0.0</td>\n",
       "      <td>0.0</td>\n",
       "      <td>0.0</td>\n",
       "      <td>0.0</td>\n",
       "      <td>0.0</td>\n",
       "      <td>0.0</td>\n",
       "      <td>0.0</td>\n",
       "      <td>0.0</td>\n",
       "      <td>0.0</td>\n",
       "      <td>...</td>\n",
       "      <td>0.0</td>\n",
       "      <td>0.0</td>\n",
       "      <td>0.0</td>\n",
       "      <td>0.0</td>\n",
       "      <td>0.0</td>\n",
       "      <td>0.0</td>\n",
       "      <td>0.0</td>\n",
       "      <td>0.0</td>\n",
       "      <td>0.0</td>\n",
       "      <td>0.0</td>\n",
       "    </tr>\n",
       "    <tr>\n",
       "      <th>...</th>\n",
       "      <td>...</td>\n",
       "      <td>...</td>\n",
       "      <td>...</td>\n",
       "      <td>...</td>\n",
       "      <td>...</td>\n",
       "      <td>...</td>\n",
       "      <td>...</td>\n",
       "      <td>...</td>\n",
       "      <td>...</td>\n",
       "      <td>...</td>\n",
       "      <td>...</td>\n",
       "      <td>...</td>\n",
       "      <td>...</td>\n",
       "      <td>...</td>\n",
       "      <td>...</td>\n",
       "      <td>...</td>\n",
       "      <td>...</td>\n",
       "      <td>...</td>\n",
       "      <td>...</td>\n",
       "      <td>...</td>\n",
       "      <td>...</td>\n",
       "    </tr>\n",
       "    <tr>\n",
       "      <th>2020-06-26</th>\n",
       "      <td>0.0</td>\n",
       "      <td>3.0</td>\n",
       "      <td>3.0</td>\n",
       "      <td>2.0</td>\n",
       "      <td>0.0</td>\n",
       "      <td>3.0</td>\n",
       "      <td>3.0</td>\n",
       "      <td>2.0</td>\n",
       "      <td>0.0</td>\n",
       "      <td>3.0</td>\n",
       "      <td>...</td>\n",
       "      <td>2.0</td>\n",
       "      <td>3.0</td>\n",
       "      <td>2.0</td>\n",
       "      <td>3.0</td>\n",
       "      <td>0.0</td>\n",
       "      <td>0.0</td>\n",
       "      <td>3.0</td>\n",
       "      <td>2.0</td>\n",
       "      <td>2.0</td>\n",
       "      <td>2.0</td>\n",
       "    </tr>\n",
       "    <tr>\n",
       "      <th>2020-06-27</th>\n",
       "      <td>0.0</td>\n",
       "      <td>3.0</td>\n",
       "      <td>3.0</td>\n",
       "      <td>2.0</td>\n",
       "      <td>0.0</td>\n",
       "      <td>3.0</td>\n",
       "      <td>3.0</td>\n",
       "      <td>2.0</td>\n",
       "      <td>0.0</td>\n",
       "      <td>3.0</td>\n",
       "      <td>...</td>\n",
       "      <td>2.0</td>\n",
       "      <td>3.0</td>\n",
       "      <td>2.0</td>\n",
       "      <td>3.0</td>\n",
       "      <td>0.0</td>\n",
       "      <td>0.0</td>\n",
       "      <td>3.0</td>\n",
       "      <td>2.0</td>\n",
       "      <td>2.0</td>\n",
       "      <td>2.0</td>\n",
       "    </tr>\n",
       "    <tr>\n",
       "      <th>2020-06-28</th>\n",
       "      <td>0.0</td>\n",
       "      <td>3.0</td>\n",
       "      <td>3.0</td>\n",
       "      <td>2.0</td>\n",
       "      <td>0.0</td>\n",
       "      <td>3.0</td>\n",
       "      <td>3.0</td>\n",
       "      <td>2.0</td>\n",
       "      <td>0.0</td>\n",
       "      <td>3.0</td>\n",
       "      <td>...</td>\n",
       "      <td>2.0</td>\n",
       "      <td>3.0</td>\n",
       "      <td>2.0</td>\n",
       "      <td>3.0</td>\n",
       "      <td>0.0</td>\n",
       "      <td>0.0</td>\n",
       "      <td>3.0</td>\n",
       "      <td>2.0</td>\n",
       "      <td>2.0</td>\n",
       "      <td>2.0</td>\n",
       "    </tr>\n",
       "    <tr>\n",
       "      <th>2020-06-29</th>\n",
       "      <td>0.0</td>\n",
       "      <td>3.0</td>\n",
       "      <td>3.0</td>\n",
       "      <td>2.0</td>\n",
       "      <td>0.0</td>\n",
       "      <td>3.0</td>\n",
       "      <td>3.0</td>\n",
       "      <td>2.0</td>\n",
       "      <td>0.0</td>\n",
       "      <td>3.0</td>\n",
       "      <td>...</td>\n",
       "      <td>0.0</td>\n",
       "      <td>3.0</td>\n",
       "      <td>2.0</td>\n",
       "      <td>3.0</td>\n",
       "      <td>0.0</td>\n",
       "      <td>0.0</td>\n",
       "      <td>3.0</td>\n",
       "      <td>2.0</td>\n",
       "      <td>2.0</td>\n",
       "      <td>2.0</td>\n",
       "    </tr>\n",
       "    <tr>\n",
       "      <th>2020-06-30</th>\n",
       "      <td>0.0</td>\n",
       "      <td>3.0</td>\n",
       "      <td>3.0</td>\n",
       "      <td>2.0</td>\n",
       "      <td>0.0</td>\n",
       "      <td>3.0</td>\n",
       "      <td>3.0</td>\n",
       "      <td>2.0</td>\n",
       "      <td>0.0</td>\n",
       "      <td>3.0</td>\n",
       "      <td>...</td>\n",
       "      <td>0.0</td>\n",
       "      <td>3.0</td>\n",
       "      <td>2.0</td>\n",
       "      <td>3.0</td>\n",
       "      <td>0.0</td>\n",
       "      <td>0.0</td>\n",
       "      <td>3.0</td>\n",
       "      <td>2.0</td>\n",
       "      <td>2.0</td>\n",
       "      <td>2.0</td>\n",
       "    </tr>\n",
       "  </tbody>\n",
       "</table>\n",
       "<p>182 rows × 177 columns</p>\n",
       "</div>"
      ],
      "text/plain": [
       "CountryName  Aruba  Afghanistan  Angola  Albania  Andorra  \\\n",
       "2020-01-01     0.0          0.0     0.0      0.0      0.0   \n",
       "2020-01-02     0.0          0.0     0.0      0.0      0.0   \n",
       "2020-01-03     0.0          0.0     0.0      0.0      0.0   \n",
       "2020-01-04     0.0          0.0     0.0      0.0      0.0   \n",
       "2020-01-05     0.0          0.0     0.0      0.0      0.0   \n",
       "...            ...          ...     ...      ...      ...   \n",
       "2020-06-26     0.0          3.0     3.0      2.0      0.0   \n",
       "2020-06-27     0.0          3.0     3.0      2.0      0.0   \n",
       "2020-06-28     0.0          3.0     3.0      2.0      0.0   \n",
       "2020-06-29     0.0          3.0     3.0      2.0      0.0   \n",
       "2020-06-30     0.0          3.0     3.0      2.0      0.0   \n",
       "\n",
       "CountryName  United Arab Emirates  Argentina  Australia  Austria  Azerbaijan  \\\n",
       "2020-01-01                    0.0        0.0        0.0      0.0         0.0   \n",
       "2020-01-02                    0.0        0.0        0.0      0.0         0.0   \n",
       "2020-01-03                    0.0        0.0        0.0      0.0         0.0   \n",
       "2020-01-04                    0.0        0.0        0.0      0.0         0.0   \n",
       "2020-01-05                    0.0        0.0        0.0      0.0         0.0   \n",
       "...                           ...        ...        ...      ...         ...   \n",
       "2020-06-26                    3.0        3.0        2.0      0.0         3.0   \n",
       "2020-06-27                    3.0        3.0        2.0      0.0         3.0   \n",
       "2020-06-28                    3.0        3.0        2.0      0.0         3.0   \n",
       "2020-06-29                    3.0        3.0        2.0      0.0         3.0   \n",
       "2020-06-30                    3.0        3.0        2.0      0.0         3.0   \n",
       "\n",
       "CountryName  ...  Uruguay  United States  Uzbekistan  Venezuela  Vietnam  \\\n",
       "2020-01-01   ...      0.0            0.0         0.0        0.0      0.0   \n",
       "2020-01-02   ...      0.0            0.0         0.0        0.0      0.0   \n",
       "2020-01-03   ...      0.0            0.0         0.0        0.0      0.0   \n",
       "2020-01-04   ...      0.0            0.0         0.0        0.0      0.0   \n",
       "2020-01-05   ...      0.0            0.0         0.0        0.0      0.0   \n",
       "...          ...      ...            ...         ...        ...      ...   \n",
       "2020-06-26   ...      2.0            3.0         2.0        3.0      0.0   \n",
       "2020-06-27   ...      2.0            3.0         2.0        3.0      0.0   \n",
       "2020-06-28   ...      2.0            3.0         2.0        3.0      0.0   \n",
       "2020-06-29   ...      0.0            3.0         2.0        3.0      0.0   \n",
       "2020-06-30   ...      0.0            3.0         2.0        3.0      0.0   \n",
       "\n",
       "CountryName  Vanuatu  Yemen  South Africa  Zambia  Zimbabwe  \n",
       "2020-01-01       0.0    0.0           0.0     0.0       0.0  \n",
       "2020-01-02       0.0    0.0           0.0     0.0       0.0  \n",
       "2020-01-03       0.0    0.0           0.0     0.0       0.0  \n",
       "2020-01-04       0.0    0.0           0.0     0.0       0.0  \n",
       "2020-01-05       0.0    0.0           0.0     0.0       0.0  \n",
       "...              ...    ...           ...     ...       ...  \n",
       "2020-06-26       0.0    3.0           2.0     2.0       2.0  \n",
       "2020-06-27       0.0    3.0           2.0     2.0       2.0  \n",
       "2020-06-28       0.0    3.0           2.0     2.0       2.0  \n",
       "2020-06-29       0.0    3.0           2.0     2.0       2.0  \n",
       "2020-06-30       0.0    3.0           2.0     2.0       2.0  \n",
       "\n",
       "[182 rows x 177 columns]"
      ]
     },
     "execution_count": 9,
     "metadata": {},
     "output_type": "execute_result"
    }
   ],
   "source": [
    "varc1"
   ]
  },
  {
   "cell_type": "code",
   "execution_count": 6,
   "metadata": {
    "colab": {},
    "colab_type": "code",
    "id": "DPn3ODqA9FpG"
   },
   "outputs": [],
   "source": [
    "url = \"https://drive.google.com/file/d/1P37xzRtsjWIMUfhs3uUrHHLyToyE7qOJ/view?usp=sharing\"\n",
    "path = 'https://drive.google.com/uc?export=download&id='+url.split('/')[-2]\n",
    "sheets2=[\"h1_publicinfocampaign\",\"h2_testingpolicy\",\"h3_contacttracing\"]\n",
    "for i in sheets2:\n",
    "  varh = pd.read_excel(path,sheet_name=sheets2)"
   ]
  },
  {
   "cell_type": "code",
   "execution_count": 7,
   "metadata": {
    "colab": {},
    "colab_type": "code",
    "id": "mWIuduOnsha1"
   },
   "outputs": [],
   "source": [
    "k=1\n",
    "for i in varh.keys():\n",
    "  varh[i]=varh[i].drop(\"CountryCode\",axis=1)\n",
    "  varh[i].index=varh[i].CountryName\n",
    "  varh[i]=varh[i].drop(\"CountryName\",axis=1)\n",
    "  varh[i]=varh[i][:-3]\n",
    "  varh[i]=varh[i].T\n",
    "  varh[i].index=pd.to_datetime(varh[i].index,format=\"%d%b%Y\")\n",
    "  varh[i]=varh[i].truncate(\"01-01-2020\",\"30-06-2020\")\n",
    "  varh[i].to_csv('variable_h{}.csv'.format(k))\n",
    "  k=k+1"
   ]
  },
  {
   "cell_type": "code",
   "execution_count": 8,
   "metadata": {},
   "outputs": [
    {
     "data": {
      "text/plain": [
       "'C:\\\\Users\\\\marta\\\\Documents\\\\MasterDataScience\\\\project\\\\KSchool-Master-Final-Project'"
      ]
     },
     "execution_count": 8,
     "metadata": {},
     "output_type": "execute_result"
    }
   ],
   "source": [
    "%pwd"
   ]
  },
  {
   "cell_type": "code",
   "execution_count": null,
   "metadata": {
    "colab": {},
    "colab_type": "code",
    "id": "mXHSu3962Puy"
   },
   "outputs": [],
   "source": [
    "#download the yougov data and then choosing the mask wearing data (i12 variable)"
   ]
  },
  {
   "cell_type": "code",
   "execution_count": 58,
   "metadata": {
    "colab": {
     "base_uri": "https://localhost:8080/",
     "height": 74
    },
    "colab_type": "code",
    "id": "O11Ec5HeuE04",
    "outputId": "f8de9333-917c-4768-af93-d407c08fc959"
   },
   "outputs": [
    {
     "name": "stderr",
     "output_type": "stream",
     "text": [
      "/usr/local/lib/python3.6/dist-packages/IPython/core/interactiveshell.py:2718: DtypeWarning: Columns (78) have mixed types.Specify dtype option on import or set low_memory=False.\n",
      "  interactivity=interactivity, compiler=compiler, result=result)\n"
     ]
    }
   ],
   "source": [
    "var_percent_mask = pd.read_csv(\"https://raw.githubusercontent.com/YouGov-Data/covid-19-tracker/master/data/spain.csv\")"
   ]
  },
  {
   "cell_type": "code",
   "execution_count": 59,
   "metadata": {
    "colab": {
     "base_uri": "https://localhost:8080/",
     "height": 128
    },
    "colab_type": "code",
    "id": "3PkFiOP7L9Hq",
    "outputId": "2ba5904b-8305-41d3-aa6b-8bf5ef14082a"
   },
   "outputs": [
    {
     "data": {
      "text/plain": [
       "Index(['RecordNo', 'endtime', 'qweek', 'i1_health', 'i2_health', 'i7a_health',\n",
       "       'i3_health', 'i4_health', 'i5_health_1', 'i5_health_2',\n",
       "       ...\n",
       "       'm14_5', 'm14_6', 'm14_7', 'm14_8', 'm14_9', 'm14_10', 'm14_11',\n",
       "       'm14_96', 'm14_99', 'm14_open'],\n",
       "      dtype='object', length=206)"
      ]
     },
     "execution_count": 59,
     "metadata": {
      "tags": []
     },
     "output_type": "execute_result"
    }
   ],
   "source": [
    "var_percent_mask.columns"
   ]
  },
  {
   "cell_type": "code",
   "execution_count": 61,
   "metadata": {
    "colab": {},
    "colab_type": "code",
    "id": "cbQvvKlHuGSD"
   },
   "outputs": [],
   "source": [
    "var_percent_mask=var_percent_mask.loc[:,[\"endtime\",\"i12_health_1\",\"qweek\"]]\n"
   ]
  },
  {
   "cell_type": "code",
   "execution_count": 62,
   "metadata": {
    "colab": {},
    "colab_type": "code",
    "id": "xL3OIBJ2Jh4k"
   },
   "outputs": [],
   "source": [
    "var_percent_mask[\"endtime\"] = pd.to_datetime(var_percent_mask[\"endtime\"])"
   ]
  },
  {
   "cell_type": "code",
   "execution_count": 63,
   "metadata": {
    "colab": {},
    "colab_type": "code",
    "id": "6L3URP3Xx2fJ"
   },
   "outputs": [],
   "source": [
    "var_percent_mask.index=var_percent_mask[\"endtime\"]"
   ]
  },
  {
   "cell_type": "code",
   "execution_count": 64,
   "metadata": {
    "colab": {
     "base_uri": "https://localhost:8080/",
     "height": 455
    },
    "colab_type": "code",
    "id": "F_hkDLPRJtaW",
    "outputId": "a8ddff2f-2f9e-4157-e818-08d33158d63b"
   },
   "outputs": [
    {
     "data": {
      "text/html": [
       "<div>\n",
       "<style scoped>\n",
       "    .dataframe tbody tr th:only-of-type {\n",
       "        vertical-align: middle;\n",
       "    }\n",
       "\n",
       "    .dataframe tbody tr th {\n",
       "        vertical-align: top;\n",
       "    }\n",
       "\n",
       "    .dataframe thead th {\n",
       "        text-align: right;\n",
       "    }\n",
       "</style>\n",
       "<table border=\"1\" class=\"dataframe\">\n",
       "  <thead>\n",
       "    <tr style=\"text-align: right;\">\n",
       "      <th></th>\n",
       "      <th>i12_health_1</th>\n",
       "      <th>qweek</th>\n",
       "    </tr>\n",
       "    <tr>\n",
       "      <th>endtime</th>\n",
       "      <th></th>\n",
       "      <th></th>\n",
       "    </tr>\n",
       "  </thead>\n",
       "  <tbody>\n",
       "    <tr>\n",
       "      <th>2020-02-04 08:13:00</th>\n",
       "      <td>Always</td>\n",
       "      <td>week 1</td>\n",
       "    </tr>\n",
       "    <tr>\n",
       "      <th>2020-02-04 08:16:00</th>\n",
       "      <td>Not at all</td>\n",
       "      <td>week 1</td>\n",
       "    </tr>\n",
       "    <tr>\n",
       "      <th>2020-02-04 08:16:00</th>\n",
       "      <td>Not at all</td>\n",
       "      <td>week 1</td>\n",
       "    </tr>\n",
       "    <tr>\n",
       "      <th>2020-02-04 08:16:00</th>\n",
       "      <td>Always</td>\n",
       "      <td>week 1</td>\n",
       "    </tr>\n",
       "    <tr>\n",
       "      <th>2020-02-04 08:17:00</th>\n",
       "      <td>Always</td>\n",
       "      <td>week 1</td>\n",
       "    </tr>\n",
       "    <tr>\n",
       "      <th>...</th>\n",
       "      <td>...</td>\n",
       "      <td>...</td>\n",
       "    </tr>\n",
       "    <tr>\n",
       "      <th>2020-07-26 06:35:00</th>\n",
       "      <td>Always</td>\n",
       "      <td>week 12</td>\n",
       "    </tr>\n",
       "    <tr>\n",
       "      <th>2020-07-26 06:41:00</th>\n",
       "      <td>Always</td>\n",
       "      <td>week 12</td>\n",
       "    </tr>\n",
       "    <tr>\n",
       "      <th>2020-07-26 06:41:00</th>\n",
       "      <td>Always</td>\n",
       "      <td>week 12</td>\n",
       "    </tr>\n",
       "    <tr>\n",
       "      <th>2020-07-26 06:45:00</th>\n",
       "      <td>Always</td>\n",
       "      <td>week 12</td>\n",
       "    </tr>\n",
       "    <tr>\n",
       "      <th>2020-07-26 07:51:00</th>\n",
       "      <td>Always</td>\n",
       "      <td>week 12</td>\n",
       "    </tr>\n",
       "  </tbody>\n",
       "</table>\n",
       "<p>12063 rows × 2 columns</p>\n",
       "</div>"
      ],
      "text/plain": [
       "                    i12_health_1    qweek\n",
       "endtime                                  \n",
       "2020-02-04 08:13:00       Always   week 1\n",
       "2020-02-04 08:16:00   Not at all   week 1\n",
       "2020-02-04 08:16:00   Not at all   week 1\n",
       "2020-02-04 08:16:00       Always   week 1\n",
       "2020-02-04 08:17:00       Always   week 1\n",
       "...                          ...      ...\n",
       "2020-07-26 06:35:00       Always  week 12\n",
       "2020-07-26 06:41:00       Always  week 12\n",
       "2020-07-26 06:41:00       Always  week 12\n",
       "2020-07-26 06:45:00       Always  week 12\n",
       "2020-07-26 07:51:00       Always  week 12\n",
       "\n",
       "[12063 rows x 2 columns]"
      ]
     },
     "execution_count": 64,
     "metadata": {
      "tags": []
     },
     "output_type": "execute_result"
    }
   ],
   "source": [
    "var_percent_mask.drop(\"endtime\",axis=1)"
   ]
  },
  {
   "cell_type": "code",
   "execution_count": 71,
   "metadata": {
    "colab": {},
    "colab_type": "code",
    "id": "xtLsDOM8JuQ3"
   },
   "outputs": [],
   "source": [
    "#replace strings for numeric values 1-always, 2-frequently 3-sometimes 4-rarely 5-not at all\n",
    "var_percent_mask.i12_health_1.replace([\"Always\",\"Frequently\",\"Sometimes\",\"Rarely\",\"Not at all\"], [1,2, 3, 4, 5],inplace=True)\n"
   ]
  },
  {
   "cell_type": "code",
   "execution_count": 85,
   "metadata": {
    "colab": {
     "base_uri": "https://localhost:8080/",
     "height": 457
    },
    "colab_type": "code",
    "id": "KdIg-0PXMHny",
    "outputId": "22a11721-a05b-4a5c-bf35-02a8fb395e8c"
   },
   "outputs": [
    {
     "data": {
      "text/html": [
       "<div>\n",
       "<style scoped>\n",
       "    .dataframe tbody tr th:only-of-type {\n",
       "        vertical-align: middle;\n",
       "    }\n",
       "\n",
       "    .dataframe tbody tr th {\n",
       "        vertical-align: top;\n",
       "    }\n",
       "\n",
       "    .dataframe thead th {\n",
       "        text-align: right;\n",
       "    }\n",
       "</style>\n",
       "<table border=\"1\" class=\"dataframe\">\n",
       "  <thead>\n",
       "    <tr style=\"text-align: right;\">\n",
       "      <th></th>\n",
       "      <th>endtime</th>\n",
       "      <th>i12_health_1</th>\n",
       "    </tr>\n",
       "    <tr>\n",
       "      <th>qweek</th>\n",
       "      <th></th>\n",
       "      <th></th>\n",
       "    </tr>\n",
       "  </thead>\n",
       "  <tbody>\n",
       "    <tr>\n",
       "      <th>week 1</th>\n",
       "      <td>1005</td>\n",
       "      <td>1005</td>\n",
       "    </tr>\n",
       "    <tr>\n",
       "      <th>week 10</th>\n",
       "      <td>999</td>\n",
       "      <td>999</td>\n",
       "    </tr>\n",
       "    <tr>\n",
       "      <th>week 11</th>\n",
       "      <td>1032</td>\n",
       "      <td>1032</td>\n",
       "    </tr>\n",
       "    <tr>\n",
       "      <th>week 12</th>\n",
       "      <td>1007</td>\n",
       "      <td>1007</td>\n",
       "    </tr>\n",
       "    <tr>\n",
       "      <th>week 2</th>\n",
       "      <td>1010</td>\n",
       "      <td>1010</td>\n",
       "    </tr>\n",
       "    <tr>\n",
       "      <th>week 3</th>\n",
       "      <td>1005</td>\n",
       "      <td>1005</td>\n",
       "    </tr>\n",
       "    <tr>\n",
       "      <th>week 4</th>\n",
       "      <td>986</td>\n",
       "      <td>986</td>\n",
       "    </tr>\n",
       "    <tr>\n",
       "      <th>week 5</th>\n",
       "      <td>1004</td>\n",
       "      <td>1004</td>\n",
       "    </tr>\n",
       "    <tr>\n",
       "      <th>week 6</th>\n",
       "      <td>1002</td>\n",
       "      <td>1002</td>\n",
       "    </tr>\n",
       "    <tr>\n",
       "      <th>week 7</th>\n",
       "      <td>1003</td>\n",
       "      <td>1003</td>\n",
       "    </tr>\n",
       "    <tr>\n",
       "      <th>week 8</th>\n",
       "      <td>1000</td>\n",
       "      <td>1000</td>\n",
       "    </tr>\n",
       "    <tr>\n",
       "      <th>week 9</th>\n",
       "      <td>1010</td>\n",
       "      <td>1010</td>\n",
       "    </tr>\n",
       "  </tbody>\n",
       "</table>\n",
       "</div>"
      ],
      "text/plain": [
       "         endtime  i12_health_1\n",
       "qweek                         \n",
       "week 1      1005          1005\n",
       "week 10      999           999\n",
       "week 11     1032          1032\n",
       "week 12     1007          1007\n",
       "week 2      1010          1010\n",
       "week 3      1005          1005\n",
       "week 4       986           986\n",
       "week 5      1004          1004\n",
       "week 6      1002          1002\n",
       "week 7      1003          1003\n",
       "week 8      1000          1000\n",
       "week 9      1010          1010"
      ]
     },
     "execution_count": 85,
     "metadata": {
      "tags": []
     },
     "output_type": "execute_result"
    }
   ],
   "source": [
    "var_percent_mask.groupby(\"qweek\").count()"
   ]
  },
  {
   "cell_type": "code",
   "execution_count": null,
   "metadata": {
    "colab": {},
    "colab_type": "code",
    "id": "DtbAtAsiMNvP"
   },
   "outputs": [],
   "source": []
  }
 ],
 "metadata": {
  "colab": {
   "authorship_tag": "ABX9TyPlSDPztjyHtZsa2Q6G65SO",
   "include_colab_link": true,
   "name": "Untitled3.ipynb",
   "provenance": []
  },
  "kernelspec": {
   "display_name": "Python 3",
   "language": "python",
   "name": "python3"
  },
  "language_info": {
   "codemirror_mode": {
    "name": "ipython",
    "version": 3
   },
   "file_extension": ".py",
   "mimetype": "text/x-python",
   "name": "python",
   "nbconvert_exporter": "python",
   "pygments_lexer": "ipython3",
   "version": "3.7.4"
  }
 },
 "nbformat": 4,
 "nbformat_minor": 4
}
