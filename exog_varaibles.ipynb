{
  "nbformat": 4,
  "nbformat_minor": 0,
  "metadata": {
    "colab": {
      "name": "Untitled3.ipynb",
      "provenance": [],
      "authorship_tag": "ABX9TyPlSDPztjyHtZsa2Q6G65SO",
      "include_colab_link": true
    },
    "kernelspec": {
      "name": "python3",
      "display_name": "Python 3"
    }
  },
  "cells": [
    {
      "cell_type": "markdown",
      "metadata": {
        "id": "view-in-github",
        "colab_type": "text"
      },
      "source": [
        "<a href=\"https://colab.research.google.com/github/martaarozarena/KSchool-Master-Final-Project/blob/master/exog_varaibles.ipynb\" target=\"_parent\"><img src=\"https://colab.research.google.com/assets/colab-badge.svg\" alt=\"Open In Colab\"/></a>"
      ]
    },
    {
      "cell_type": "code",
      "metadata": {
        "id": "LthkjTRu-ouZ",
        "colab_type": "code",
        "colab": {
          "base_uri": "https://localhost:8080/",
          "height": 129
        },
        "outputId": "bd4a8b9f-67ea-4496-99dc-962122e5b9ea"
      },
      "source": [
        "from google.colab import drive\n",
        "#from os.path import join\n",
        "\n",
        "ROOT = '/content/drive'     # default for the drive\n",
        "PROJ = 'My Drive/KSchool-Master-Final-Project'       # path to your project on Drive\n",
        "\n",
        "drive.mount(ROOT)           # we mount the drive at /content/drive\n",
        "\n",
        "#PROJECT_PATH = join(ROOT, PROJ)"
      ],
      "execution_count": 1,
      "outputs": [
        {
          "output_type": "stream",
          "text": [
            "Go to this URL in a browser: https://accounts.google.com/o/oauth2/auth?client_id=947318989803-6bn6qk8qdgf4n4g3pfee6491hc0brc4i.apps.googleusercontent.com&redirect_uri=urn%3aietf%3awg%3aoauth%3a2.0%3aoob&response_type=code&scope=email%20https%3a%2f%2fwww.googleapis.com%2fauth%2fdocs.test%20https%3a%2f%2fwww.googleapis.com%2fauth%2fdrive%20https%3a%2f%2fwww.googleapis.com%2fauth%2fdrive.photos.readonly%20https%3a%2f%2fwww.googleapis.com%2fauth%2fpeopleapi.readonly\n",
            "\n",
            "Enter your authorization code:\n",
            "··········\n",
            "Mounted at /content/drive\n"
          ],
          "name": "stdout"
        }
      ]
    },
    {
      "cell_type": "code",
      "metadata": {
        "id": "kEnC-kf3-sOg",
        "colab_type": "code",
        "colab": {
          "base_uri": "https://localhost:8080/",
          "height": 35
        },
        "outputId": "6942565c-1dda-419b-b8f0-1241f06b18a9"
      },
      "source": [
        "cd /content/drive/.shortcut-targets-by-id/1JF1t24jwhTtQKP-lLGdAUHcNKaXnHy3u/KSchool-Master-Final-Project/data"
      ],
      "execution_count": 2,
      "outputs": [
        {
          "output_type": "stream",
          "text": [
            "/content/drive/.shortcut-targets-by-id/1JF1t24jwhTtQKP-lLGdAUHcNKaXnHy3u/KSchool-Master-Final-Project/data\n"
          ],
          "name": "stdout"
        }
      ]
    },
    {
      "cell_type": "code",
      "metadata": {
        "id": "-LGmL3ZYxcgK",
        "colab_type": "code",
        "colab": {}
      },
      "source": [
        "import pandas as pd"
      ],
      "execution_count": 3,
      "outputs": []
    },
    {
      "cell_type": "code",
      "metadata": {
        "id": "VYw8GKT0vT7d",
        "colab_type": "code",
        "colab": {}
      },
      "source": [
        "sheets=[\"c1_schoolclosing\",\"c2_workplaceclosing\",\"c3_cancelpublicevents\",\"c4_restrictionsongatherings\",\"c5_closepublictransport\",\"c6_stayathomerequirements\",\"c7_domestictravel\",\"c8_internationaltravel\"]\n",
        "url = \"https://drive.google.com/file/d/1P37xzRtsjWIMUfhs3uUrHHLyToyE7qOJ/view?usp=sharing\"\n",
        "path = 'https://drive.google.com/uc?export=download&id='+url.split('/')[-2]\n",
        "variables = []\n",
        "for i in sheets:\n",
        "  varc = pd.read_excel(path,sheet_name=sheets)\n"
      ],
      "execution_count": null,
      "outputs": []
    },
    {
      "cell_type": "code",
      "metadata": {
        "id": "PFhd8uu9xfdC",
        "colab_type": "code",
        "colab": {}
      },
      "source": [
        "j=1\n",
        "for i in varc.keys():\n",
        "  varc[i]=varc[i].drop(\"CountryCode\",axis=1)\n",
        "  varc[i].index=varc[i].CountryName\n",
        "  varc[i]=varc[i].drop(\"CountryName\",axis=1)\n",
        "  varc[i]=varc[i][:-3]\n",
        "  varc[i]=varc[i].T\n",
        "  varc[i].index=pd.to_datetime(varc[i].index,format=\"%d%b%Y\")\n",
        "  varc[i]=varc[i].truncate(\"01-01-2020\",\"30-06-2020\")\n",
        "  varc[i].to_csv('variable_c{}.csv'.format(j))\n",
        "  j=j+1"
      ],
      "execution_count": null,
      "outputs": []
    },
    {
      "cell_type": "code",
      "metadata": {
        "id": "2koh25tt0-mc",
        "colab_type": "code",
        "colab": {}
      },
      "source": [
        "varc1=varc['c1_schoolclosing']\n",
        "varc2=varc[\"c2_workplaceclosing\"]\n",
        "varc3=varc['c3_cancelpublicevents']\n",
        "varc4=varc[\"c4_restrictionsongatherings\"]\n",
        "varc5=varc['c5_closepublictransport']\n",
        "varc6=varc[\"c6_stayathomerequirements\"]\n",
        "varc7=varc['c7_domestictravel']\n",
        "varc8=varc[\"c8_internationaltravel\"]"
      ],
      "execution_count": null,
      "outputs": []
    },
    {
      "cell_type": "code",
      "metadata": {
        "id": "DPn3ODqA9FpG",
        "colab_type": "code",
        "colab": {}
      },
      "source": [
        "url = \"https://drive.google.com/file/d/1P37xzRtsjWIMUfhs3uUrHHLyToyE7qOJ/view?usp=sharing\"\n",
        "path = 'https://drive.google.com/uc?export=download&id='+url.split('/')[-2]\n",
        "sheets2=[\"h1_publicinfocampaign\",\"h2_testingpolicy\",\"h3_contacttracing\"]\n",
        "for i in sheets2:\n",
        "  varh = pd.read_excel(path,sheet_name=sheets2)"
      ],
      "execution_count": 7,
      "outputs": []
    },
    {
      "cell_type": "code",
      "metadata": {
        "id": "mWIuduOnsha1",
        "colab_type": "code",
        "colab": {}
      },
      "source": [
        "k=1\n",
        "for i in varh.keys():\n",
        "  varh[i]=varh[i].drop(\"CountryCode\",axis=1)\n",
        "  varh[i].index=varh[i].CountryName\n",
        "  varh[i]=varh[i].drop(\"CountryName\",axis=1)\n",
        "  varh[i]=varh[i][:-3]\n",
        "  varh[i]=varh[i].T\n",
        "  varh[i].index=pd.to_datetime(varh[i].index,format=\"%d%b%Y\")\n",
        "  varh[i]=varh[i].truncate(\"01-01-2020\",\"30-06-2020\")\n",
        "  varh[i].to_csv('variable_h{}.csv'.format(k))\n",
        "  k=k+1"
      ],
      "execution_count": 8,
      "outputs": []
    },
    {
      "cell_type": "code",
      "metadata": {
        "id": "mXHSu3962Puy",
        "colab_type": "code",
        "colab": {}
      },
      "source": [
        "#download the yougov data and then choosing the mask wearing data (i12 variable)"
      ],
      "execution_count": null,
      "outputs": []
    },
    {
      "cell_type": "code",
      "metadata": {
        "id": "O11Ec5HeuE04",
        "colab_type": "code",
        "colab": {
          "base_uri": "https://localhost:8080/",
          "height": 74
        },
        "outputId": "f8de9333-917c-4768-af93-d407c08fc959"
      },
      "source": [
        "var_percent_mask = pd.read_csv(\"https://raw.githubusercontent.com/YouGov-Data/covid-19-tracker/master/data/spain.csv\")"
      ],
      "execution_count": 58,
      "outputs": [
        {
          "output_type": "stream",
          "text": [
            "/usr/local/lib/python3.6/dist-packages/IPython/core/interactiveshell.py:2718: DtypeWarning: Columns (78) have mixed types.Specify dtype option on import or set low_memory=False.\n",
            "  interactivity=interactivity, compiler=compiler, result=result)\n"
          ],
          "name": "stderr"
        }
      ]
    },
    {
      "cell_type": "code",
      "metadata": {
        "id": "3PkFiOP7L9Hq",
        "colab_type": "code",
        "colab": {
          "base_uri": "https://localhost:8080/",
          "height": 128
        },
        "outputId": "2ba5904b-8305-41d3-aa6b-8bf5ef14082a"
      },
      "source": [
        "var_percent_mask.columns"
      ],
      "execution_count": 59,
      "outputs": [
        {
          "output_type": "execute_result",
          "data": {
            "text/plain": [
              "Index(['RecordNo', 'endtime', 'qweek', 'i1_health', 'i2_health', 'i7a_health',\n",
              "       'i3_health', 'i4_health', 'i5_health_1', 'i5_health_2',\n",
              "       ...\n",
              "       'm14_5', 'm14_6', 'm14_7', 'm14_8', 'm14_9', 'm14_10', 'm14_11',\n",
              "       'm14_96', 'm14_99', 'm14_open'],\n",
              "      dtype='object', length=206)"
            ]
          },
          "metadata": {
            "tags": []
          },
          "execution_count": 59
        }
      ]
    },
    {
      "cell_type": "code",
      "metadata": {
        "id": "cbQvvKlHuGSD",
        "colab_type": "code",
        "colab": {}
      },
      "source": [
        "var_percent_mask=var_percent_mask.loc[:,[\"endtime\",\"i12_health_1\",\"qweek\"]]\n"
      ],
      "execution_count": 61,
      "outputs": []
    },
    {
      "cell_type": "code",
      "metadata": {
        "id": "xL3OIBJ2Jh4k",
        "colab_type": "code",
        "colab": {}
      },
      "source": [
        "var_percent_mask[\"endtime\"] = pd.to_datetime(var_percent_mask[\"endtime\"])"
      ],
      "execution_count": 62,
      "outputs": []
    },
    {
      "cell_type": "code",
      "metadata": {
        "id": "6L3URP3Xx2fJ",
        "colab_type": "code",
        "colab": {}
      },
      "source": [
        "var_percent_mask.index=var_percent_mask[\"endtime\"]"
      ],
      "execution_count": 63,
      "outputs": []
    },
    {
      "cell_type": "code",
      "metadata": {
        "id": "F_hkDLPRJtaW",
        "colab_type": "code",
        "colab": {
          "base_uri": "https://localhost:8080/",
          "height": 455
        },
        "outputId": "a8ddff2f-2f9e-4157-e818-08d33158d63b"
      },
      "source": [
        "var_percent_mask.drop(\"endtime\",axis=1)"
      ],
      "execution_count": 64,
      "outputs": [
        {
          "output_type": "execute_result",
          "data": {
            "text/html": [
              "<div>\n",
              "<style scoped>\n",
              "    .dataframe tbody tr th:only-of-type {\n",
              "        vertical-align: middle;\n",
              "    }\n",
              "\n",
              "    .dataframe tbody tr th {\n",
              "        vertical-align: top;\n",
              "    }\n",
              "\n",
              "    .dataframe thead th {\n",
              "        text-align: right;\n",
              "    }\n",
              "</style>\n",
              "<table border=\"1\" class=\"dataframe\">\n",
              "  <thead>\n",
              "    <tr style=\"text-align: right;\">\n",
              "      <th></th>\n",
              "      <th>i12_health_1</th>\n",
              "      <th>qweek</th>\n",
              "    </tr>\n",
              "    <tr>\n",
              "      <th>endtime</th>\n",
              "      <th></th>\n",
              "      <th></th>\n",
              "    </tr>\n",
              "  </thead>\n",
              "  <tbody>\n",
              "    <tr>\n",
              "      <th>2020-02-04 08:13:00</th>\n",
              "      <td>Always</td>\n",
              "      <td>week 1</td>\n",
              "    </tr>\n",
              "    <tr>\n",
              "      <th>2020-02-04 08:16:00</th>\n",
              "      <td>Not at all</td>\n",
              "      <td>week 1</td>\n",
              "    </tr>\n",
              "    <tr>\n",
              "      <th>2020-02-04 08:16:00</th>\n",
              "      <td>Not at all</td>\n",
              "      <td>week 1</td>\n",
              "    </tr>\n",
              "    <tr>\n",
              "      <th>2020-02-04 08:16:00</th>\n",
              "      <td>Always</td>\n",
              "      <td>week 1</td>\n",
              "    </tr>\n",
              "    <tr>\n",
              "      <th>2020-02-04 08:17:00</th>\n",
              "      <td>Always</td>\n",
              "      <td>week 1</td>\n",
              "    </tr>\n",
              "    <tr>\n",
              "      <th>...</th>\n",
              "      <td>...</td>\n",
              "      <td>...</td>\n",
              "    </tr>\n",
              "    <tr>\n",
              "      <th>2020-07-26 06:35:00</th>\n",
              "      <td>Always</td>\n",
              "      <td>week 12</td>\n",
              "    </tr>\n",
              "    <tr>\n",
              "      <th>2020-07-26 06:41:00</th>\n",
              "      <td>Always</td>\n",
              "      <td>week 12</td>\n",
              "    </tr>\n",
              "    <tr>\n",
              "      <th>2020-07-26 06:41:00</th>\n",
              "      <td>Always</td>\n",
              "      <td>week 12</td>\n",
              "    </tr>\n",
              "    <tr>\n",
              "      <th>2020-07-26 06:45:00</th>\n",
              "      <td>Always</td>\n",
              "      <td>week 12</td>\n",
              "    </tr>\n",
              "    <tr>\n",
              "      <th>2020-07-26 07:51:00</th>\n",
              "      <td>Always</td>\n",
              "      <td>week 12</td>\n",
              "    </tr>\n",
              "  </tbody>\n",
              "</table>\n",
              "<p>12063 rows × 2 columns</p>\n",
              "</div>"
            ],
            "text/plain": [
              "                    i12_health_1    qweek\n",
              "endtime                                  \n",
              "2020-02-04 08:13:00       Always   week 1\n",
              "2020-02-04 08:16:00   Not at all   week 1\n",
              "2020-02-04 08:16:00   Not at all   week 1\n",
              "2020-02-04 08:16:00       Always   week 1\n",
              "2020-02-04 08:17:00       Always   week 1\n",
              "...                          ...      ...\n",
              "2020-07-26 06:35:00       Always  week 12\n",
              "2020-07-26 06:41:00       Always  week 12\n",
              "2020-07-26 06:41:00       Always  week 12\n",
              "2020-07-26 06:45:00       Always  week 12\n",
              "2020-07-26 07:51:00       Always  week 12\n",
              "\n",
              "[12063 rows x 2 columns]"
            ]
          },
          "metadata": {
            "tags": []
          },
          "execution_count": 64
        }
      ]
    },
    {
      "cell_type": "code",
      "metadata": {
        "id": "xtLsDOM8JuQ3",
        "colab_type": "code",
        "colab": {}
      },
      "source": [
        "#replace strings for numeric values 1-always, 2-frequently 3-sometimes 4-rarely 5-not at all\n",
        "var_percent_mask.i12_health_1.replace([\"Always\",\"Frequently\",\"Sometimes\",\"Rarely\",\"Not at all\"], [1,2, 3, 4, 5],inplace=True)\n"
      ],
      "execution_count": 71,
      "outputs": []
    },
    {
      "cell_type": "code",
      "metadata": {
        "id": "KdIg-0PXMHny",
        "colab_type": "code",
        "colab": {
          "base_uri": "https://localhost:8080/",
          "height": 457
        },
        "outputId": "22a11721-a05b-4a5c-bf35-02a8fb395e8c"
      },
      "source": [
        "var_percent_mask.groupby(\"qweek\").count()"
      ],
      "execution_count": 85,
      "outputs": [
        {
          "output_type": "execute_result",
          "data": {
            "text/html": [
              "<div>\n",
              "<style scoped>\n",
              "    .dataframe tbody tr th:only-of-type {\n",
              "        vertical-align: middle;\n",
              "    }\n",
              "\n",
              "    .dataframe tbody tr th {\n",
              "        vertical-align: top;\n",
              "    }\n",
              "\n",
              "    .dataframe thead th {\n",
              "        text-align: right;\n",
              "    }\n",
              "</style>\n",
              "<table border=\"1\" class=\"dataframe\">\n",
              "  <thead>\n",
              "    <tr style=\"text-align: right;\">\n",
              "      <th></th>\n",
              "      <th>endtime</th>\n",
              "      <th>i12_health_1</th>\n",
              "    </tr>\n",
              "    <tr>\n",
              "      <th>qweek</th>\n",
              "      <th></th>\n",
              "      <th></th>\n",
              "    </tr>\n",
              "  </thead>\n",
              "  <tbody>\n",
              "    <tr>\n",
              "      <th>week 1</th>\n",
              "      <td>1005</td>\n",
              "      <td>1005</td>\n",
              "    </tr>\n",
              "    <tr>\n",
              "      <th>week 10</th>\n",
              "      <td>999</td>\n",
              "      <td>999</td>\n",
              "    </tr>\n",
              "    <tr>\n",
              "      <th>week 11</th>\n",
              "      <td>1032</td>\n",
              "      <td>1032</td>\n",
              "    </tr>\n",
              "    <tr>\n",
              "      <th>week 12</th>\n",
              "      <td>1007</td>\n",
              "      <td>1007</td>\n",
              "    </tr>\n",
              "    <tr>\n",
              "      <th>week 2</th>\n",
              "      <td>1010</td>\n",
              "      <td>1010</td>\n",
              "    </tr>\n",
              "    <tr>\n",
              "      <th>week 3</th>\n",
              "      <td>1005</td>\n",
              "      <td>1005</td>\n",
              "    </tr>\n",
              "    <tr>\n",
              "      <th>week 4</th>\n",
              "      <td>986</td>\n",
              "      <td>986</td>\n",
              "    </tr>\n",
              "    <tr>\n",
              "      <th>week 5</th>\n",
              "      <td>1004</td>\n",
              "      <td>1004</td>\n",
              "    </tr>\n",
              "    <tr>\n",
              "      <th>week 6</th>\n",
              "      <td>1002</td>\n",
              "      <td>1002</td>\n",
              "    </tr>\n",
              "    <tr>\n",
              "      <th>week 7</th>\n",
              "      <td>1003</td>\n",
              "      <td>1003</td>\n",
              "    </tr>\n",
              "    <tr>\n",
              "      <th>week 8</th>\n",
              "      <td>1000</td>\n",
              "      <td>1000</td>\n",
              "    </tr>\n",
              "    <tr>\n",
              "      <th>week 9</th>\n",
              "      <td>1010</td>\n",
              "      <td>1010</td>\n",
              "    </tr>\n",
              "  </tbody>\n",
              "</table>\n",
              "</div>"
            ],
            "text/plain": [
              "         endtime  i12_health_1\n",
              "qweek                         \n",
              "week 1      1005          1005\n",
              "week 10      999           999\n",
              "week 11     1032          1032\n",
              "week 12     1007          1007\n",
              "week 2      1010          1010\n",
              "week 3      1005          1005\n",
              "week 4       986           986\n",
              "week 5      1004          1004\n",
              "week 6      1002          1002\n",
              "week 7      1003          1003\n",
              "week 8      1000          1000\n",
              "week 9      1010          1010"
            ]
          },
          "metadata": {
            "tags": []
          },
          "execution_count": 85
        }
      ]
    },
    {
      "cell_type": "code",
      "metadata": {
        "id": "DtbAtAsiMNvP",
        "colab_type": "code",
        "colab": {}
      },
      "source": [
        ""
      ],
      "execution_count": null,
      "outputs": []
    }
  ]
}