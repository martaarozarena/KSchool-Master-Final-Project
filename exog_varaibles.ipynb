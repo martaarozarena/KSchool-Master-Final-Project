{
  "nbformat": 4,
  "nbformat_minor": 0,
  "metadata": {
    "colab": {
      "name": "Untitled3.ipynb",
      "provenance": [],
      "include_colab_link": true
    },
    "kernelspec": {
      "display_name": "Python 3",
      "language": "python",
      "name": "python3"
    },
    "language_info": {
      "codemirror_mode": {
        "name": "ipython",
        "version": 3
      },
      "file_extension": ".py",
      "mimetype": "text/x-python",
      "name": "python",
      "nbconvert_exporter": "python",
      "pygments_lexer": "ipython3",
      "version": "3.7.4"
    }
  },
  "cells": [
    {
      "cell_type": "markdown",
      "metadata": {
        "id": "view-in-github",
        "colab_type": "text"
      },
      "source": [
        "<a href=\"https://colab.research.google.com/github/martaarozarena/KSchool-Master-Final-Project/blob/master/exog_varaibles.ipynb\" target=\"_parent\"><img src=\"https://colab.research.google.com/assets/colab-badge.svg\" alt=\"Open In Colab\"/></a>"
      ]
    },
    {
      "cell_type": "code",
      "metadata": {
        "colab_type": "code",
        "id": "-LGmL3ZYxcgK",
        "colab": {}
      },
      "source": [
        "import pandas as pd\n",
        "import matplotlib.pyplot as plt\n"
      ],
      "execution_count": 107,
      "outputs": []
    },
    {
      "cell_type": "code",
      "metadata": {
        "colab_type": "code",
        "id": "hh8VB22LNgem",
        "colab": {}
      },
      "source": [
        "sheets=[\"c1_schoolclosing\",\"c2_workplaceclosing\",\"c3_cancelpublicevents\",\"c4_restrictionsongatherings\",\"c5_closepublictransport\",\"c6_stayathomerequirements\",\"c7_domestictravel\",\"c8_internationaltravel\",\"h1_publicinfocampaign\",\"h2_testingpolicy\",\"h3_contacttracing\"]\n",
        "initialdate=\"01-01-2020\"\n",
        "#enddate=\"30-06-2020\""
      ],
      "execution_count": 108,
      "outputs": []
    },
    {
      "cell_type": "code",
      "metadata": {
        "colab_type": "code",
        "id": "VYw8GKT0vT7d",
        "colab": {}
      },
      "source": [
        "var = pd.read_excel(\"https://github.com/OxCGRT/covid-policy-tracker/raw/master/data/timeseries/OxCGRT_timeseries_all.xlsx\",sheet_name=sheets)"
      ],
      "execution_count": 109,
      "outputs": []
    },
    {
      "cell_type": "code",
      "metadata": {
        "colab_type": "code",
        "id": "PFhd8uu9xfdC",
        "colab": {}
      },
      "source": [
        "countries=['Denmark','Germany','Spain', 'Finland', 'Italy', 'Sweden', 'France', 'Norway', 'UK']\n",
        "for i in var.keys():\n",
        "  var[i]=var[i].drop(\"CountryCode\",axis=1)\n",
        "  var[i].index=var[i].CountryName\n",
        "  var[i]=var[i].drop(\"CountryName\",axis=1)\n",
        "  var[i]=var[i][:-3]\n",
        "  var[i]=var[i].T\n",
        "  var[i]=var[i].loc[:,var[i].columns.str.contains('Denmark|Germany|Spain|Finland|Italy|Sweden|France|Norway|United Kingdom' \\\n",
        "                                                  '|United States|Canada|Mexico' \\\n",
        "                                                  '|Australia|Indonesia|Malaysia|Philippines|Thailand|Hong Kong|Vietnam|China|India|Japan|Singapore|Taiwan' \\\n",
        "                                                  '|Saudi Arabia|United Arab Emirates', regex=True)]\n",
        "  var[i].index=pd.to_datetime(var[i].index,format=\"%d%b%Y\")\n",
        "#  var[i]=var[i].truncate(initialdate,enddate)"
      ],
      "execution_count": 110,
      "outputs": []
    },
    {
      "cell_type": "code",
      "metadata": {
        "colab_type": "code",
        "id": "m1JMlDyiLOcj",
        "colab": {}
      },
      "source": [
        "b=1\n",
        "for i in sheets:\n",
        "  if b==1: \n",
        "    var[i].columns=\"{}_\".format(i[3:])+var[i].columns\n",
        "    exogenas=var[i]\n",
        "  else:\n",
        "    concat=var[i]\n",
        "    concat.columns=\"{}_\".format(i[3:])+var[i].columns\n",
        "    exogenas=pd.concat([exogenas,concat],axis=1)\n",
        "  b=b+1"
      ],
      "execution_count": 111,
      "outputs": []
    },
    {
      "cell_type": "code",
      "metadata": {
        "id": "I-2o-CJI-ZaE",
        "colab_type": "code",
        "colab": {
          "base_uri": "https://localhost:8080/",
          "height": 35
        },
        "outputId": "f1a220ad-65ac-43d5-ce08-7aafd9a37051"
      },
      "source": [
        "exogenas.shape"
      ],
      "execution_count": 112,
      "outputs": [
        {
          "output_type": "execute_result",
          "data": {
            "text/plain": [
              "(229, 286)"
            ]
          },
          "metadata": {
            "tags": []
          },
          "execution_count": 112
        }
      ]
    },
    {
      "cell_type": "code",
      "metadata": {
        "colab_type": "code",
        "id": "mXHSu3962Puy",
        "colab": {}
      },
      "source": [
        "#download the mask wearing data"
      ],
      "execution_count": null,
      "outputs": []
    },
    {
      "cell_type": "code",
      "metadata": {
        "colab_type": "code",
        "id": "O11Ec5HeuE04",
        "colab": {}
      },
      "source": [
        "url2 = \"https://drive.google.com/file/d/1vbPOY0hF-Dox_HONp-brgf36TST2vs49/view?usp=sharing\"\n",
        "path2 = 'https://drive.google.com/uc?export=download&id='+url2.split('/')[-2]\n",
        "var_percent_mask = pd.read_csv(path2,sep=\";\")"
      ],
      "execution_count": null,
      "outputs": []
    },
    {
      "cell_type": "code",
      "metadata": {
        "colab_type": "code",
        "id": "3PkFiOP7L9Hq",
        "colab": {}
      },
      "source": [
        "var_percent_mask.DateTime=pd.to_datetime(var_percent_mask.DateTime)\n",
        "var_percent_mask.index=var_percent_mask.DateTime\n",
        "var_percent_mask.drop(\"DateTime\",axis=1,inplace=True)"
      ],
      "execution_count": null,
      "outputs": []
    },
    {
      "cell_type": "code",
      "metadata": {
        "colab_type": "code",
        "id": "s30F7MNK1TMw",
        "colab": {}
      },
      "source": [
        "#add the missing dates\n",
        "var_percent_mask=var_percent_mask.resample(\"D\").mean()"
      ],
      "execution_count": null,
      "outputs": []
    },
    {
      "cell_type": "code",
      "metadata": {
        "colab_type": "code",
        "id": "-k8JGzZ1uCKD",
        "colab": {}
      },
      "source": [
        "#fill the missing dates with an interpolation\n",
        "var_percent_mask.interpolate(method='linear',inplace=True)\n",
        "var_percent_mask.fillna(method=\"bfill\",inplace=True)"
      ],
      "execution_count": null,
      "outputs": []
    },
    {
      "cell_type": "code",
      "metadata": {
        "colab_type": "code",
        "id": "KdIg-0PXMHny",
        "colab": {}
      },
      "source": [
        "#rename the variable to be added in the general dataframe and choose the dates\n",
        "var_percent_mask.columns=\"mask_\"+var_percent_mask.columns\n",
        "#var_percent_mask=var_percent_mask.truncate(initialdate,enddate)"
      ],
      "execution_count": null,
      "outputs": []
    },
    {
      "cell_type": "code",
      "metadata": {
        "colab_type": "code",
        "id": "4w6pDohwQPax",
        "colab": {}
      },
      "source": [
        "#added to the generales dataframe and the missing initial values add 0s cause people was not wearing masks at the beggining\n",
        "exogenas=pd.concat([exogenas,var_percent_mask],axis=1)\n",
        "exogenas.fillna(0,inplace=True)"
      ],
      "execution_count": null,
      "outputs": []
    },
    {
      "cell_type": "code",
      "metadata": {
        "colab_type": "code",
        "id": "JA-5DF0IuREg",
        "colab": {}
      },
      "source": [
        "#flights per day\n",
        "#url3 = \"https://drive.google.com/file/d/1jLzSGGbQY8OyD1YTNZAJFRmvxy7lA2V_/view?usp=sharing\"\n",
        "#path3 = 'https://drive.google.com/uc?export=download&id='+url3.split('/')[-2]\n",
        "url3 = 'https://ansperformance.eu/download/xls/Airport_Traffic.xlsx'\n",
        "flights = pd.read_excel(url3, sheet_name=\"DATA\", date_parser=\"FLT_DATE\", index_col =\"FLT_DATE\")"
      ],
      "execution_count": null,
      "outputs": []
    },
    {
      "cell_type": "code",
      "metadata": {
        "colab_type": "code",
        "id": "0m9ZFdM_2h3d",
        "colab": {
          "base_uri": "https://localhost:8080/",
          "height": 201
        },
        "outputId": "4f9dcea2-be4a-4a85-89e2-e82ed937b055"
      },
      "source": [
        "flights[\"STATE_NAME\"].unique()"
      ],
      "execution_count": null,
      "outputs": [
        {
          "output_type": "execute_result",
          "data": {
            "text/plain": [
              "array(['Belgium', 'Germany', 'Estonia', 'Finland', 'United Kingdom',\n",
              "       'Netherlands', 'Ireland', 'Denmark', 'Luxembourg', 'Norway',\n",
              "       'Poland', 'Sweden', 'Latvia', 'Lithuania', 'Spain', 'Albania',\n",
              "       'Bulgaria', 'Cyprus', 'Croatia', 'France', 'Greece', 'Hungary',\n",
              "       'Italy', 'Slovenia', 'Czech Republic', 'Malta', 'Austria',\n",
              "       'Portugal', 'Bosnia and Herzegovina', 'Romania', 'Switzerland',\n",
              "       'Turkey', 'Moldova', 'The former Yugoslav Republic of Macedonia',\n",
              "       'Serbia', 'Montenegro', 'Slovakia', 'Armenia', 'Georgia',\n",
              "       'Ukraine', 'Morocco', 'Israel', 'Republic of North Macedonia',\n",
              "       'North Macedonia'], dtype=object)"
            ]
          },
          "metadata": {
            "tags": []
          },
          "execution_count": 16
        }
      ]
    },
    {
      "cell_type": "code",
      "metadata": {
        "colab_type": "code",
        "id": "dpze0Q2vuv2n",
        "colab": {}
      },
      "source": [
        "for i in flights[\"STATE_NAME\"].unique():\n",
        "  flights_country=flights[flights[\"STATE_NAME\"]==i]\n",
        "  flights_country=flights_country.resample(\"1D\").sum()\n",
        "  flights_country_arr=flights_country['FLT_ARR_1'].truncate(before=initialdate)\n",
        "  flights_country_arr.rename(\"FlightsArr_{}\".format(i),inplace=True)\n",
        "  exogenas=pd.concat([exogenas,flights_country_arr],axis=1)"
      ],
      "execution_count": null,
      "outputs": []
    },
    {
      "cell_type": "code",
      "metadata": {
        "id": "iun6WbOp2qgd",
        "colab_type": "code",
        "colab": {}
      },
      "source": [
        "#creating the csv file\n",
        "exogenas.to_csv('./data/exogenas.csv')"
      ],
      "execution_count": null,
      "outputs": []
    },
    {
      "cell_type": "code",
      "metadata": {
        "colab_type": "code",
        "id": "3hWpghSe1TAq",
        "colab": {
          "base_uri": "https://localhost:8080/",
          "height": 424
        },
        "outputId": "a7ee816a-2914-4251-8674-8dd3654c2d34"
      },
      "source": [
        "exogenas.loc[:, exogenas.columns.str.contains('mask')]"
      ],
      "execution_count": null,
      "outputs": [
        {
          "output_type": "execute_result",
          "data": {
            "text/html": [
              "<div>\n",
              "<style scoped>\n",
              "    .dataframe tbody tr th:only-of-type {\n",
              "        vertical-align: middle;\n",
              "    }\n",
              "\n",
              "    .dataframe tbody tr th {\n",
              "        vertical-align: top;\n",
              "    }\n",
              "\n",
              "    .dataframe thead th {\n",
              "        text-align: right;\n",
              "    }\n",
              "</style>\n",
              "<table border=\"1\" class=\"dataframe\">\n",
              "  <thead>\n",
              "    <tr style=\"text-align: right;\">\n",
              "      <th></th>\n",
              "      <th>mask_Denmark</th>\n",
              "      <th>mask_Finland</th>\n",
              "      <th>mask_France</th>\n",
              "      <th>mask_Germany</th>\n",
              "      <th>mask_Italy</th>\n",
              "      <th>mask_Norway</th>\n",
              "      <th>mask_Spain</th>\n",
              "      <th>mask_Sweden</th>\n",
              "      <th>mask_UK</th>\n",
              "    </tr>\n",
              "  </thead>\n",
              "  <tbody>\n",
              "    <tr>\n",
              "      <th>2020-01-01</th>\n",
              "      <td>0.0</td>\n",
              "      <td>0.0</td>\n",
              "      <td>0.0</td>\n",
              "      <td>0.0</td>\n",
              "      <td>0.0</td>\n",
              "      <td>0.0</td>\n",
              "      <td>0.0</td>\n",
              "      <td>0.0</td>\n",
              "      <td>0.0</td>\n",
              "    </tr>\n",
              "    <tr>\n",
              "      <th>2020-01-02</th>\n",
              "      <td>0.0</td>\n",
              "      <td>0.0</td>\n",
              "      <td>0.0</td>\n",
              "      <td>0.0</td>\n",
              "      <td>0.0</td>\n",
              "      <td>0.0</td>\n",
              "      <td>0.0</td>\n",
              "      <td>0.0</td>\n",
              "      <td>0.0</td>\n",
              "    </tr>\n",
              "    <tr>\n",
              "      <th>2020-01-03</th>\n",
              "      <td>0.0</td>\n",
              "      <td>0.0</td>\n",
              "      <td>0.0</td>\n",
              "      <td>0.0</td>\n",
              "      <td>0.0</td>\n",
              "      <td>0.0</td>\n",
              "      <td>0.0</td>\n",
              "      <td>0.0</td>\n",
              "      <td>0.0</td>\n",
              "    </tr>\n",
              "    <tr>\n",
              "      <th>2020-01-04</th>\n",
              "      <td>0.0</td>\n",
              "      <td>0.0</td>\n",
              "      <td>0.0</td>\n",
              "      <td>0.0</td>\n",
              "      <td>0.0</td>\n",
              "      <td>0.0</td>\n",
              "      <td>0.0</td>\n",
              "      <td>0.0</td>\n",
              "      <td>0.0</td>\n",
              "    </tr>\n",
              "    <tr>\n",
              "      <th>2020-01-05</th>\n",
              "      <td>0.0</td>\n",
              "      <td>0.0</td>\n",
              "      <td>0.0</td>\n",
              "      <td>0.0</td>\n",
              "      <td>0.0</td>\n",
              "      <td>0.0</td>\n",
              "      <td>0.0</td>\n",
              "      <td>0.0</td>\n",
              "      <td>0.0</td>\n",
              "    </tr>\n",
              "    <tr>\n",
              "      <th>...</th>\n",
              "      <td>...</td>\n",
              "      <td>...</td>\n",
              "      <td>...</td>\n",
              "      <td>...</td>\n",
              "      <td>...</td>\n",
              "      <td>...</td>\n",
              "      <td>...</td>\n",
              "      <td>...</td>\n",
              "      <td>...</td>\n",
              "    </tr>\n",
              "    <tr>\n",
              "      <th>2020-08-09</th>\n",
              "      <td>4.0</td>\n",
              "      <td>7.0</td>\n",
              "      <td>84.0</td>\n",
              "      <td>65.0</td>\n",
              "      <td>81.0</td>\n",
              "      <td>5.0</td>\n",
              "      <td>89.0</td>\n",
              "      <td>6.0</td>\n",
              "      <td>69.0</td>\n",
              "    </tr>\n",
              "    <tr>\n",
              "      <th>2020-08-10</th>\n",
              "      <td>4.0</td>\n",
              "      <td>7.0</td>\n",
              "      <td>84.0</td>\n",
              "      <td>65.0</td>\n",
              "      <td>81.0</td>\n",
              "      <td>5.0</td>\n",
              "      <td>89.0</td>\n",
              "      <td>6.0</td>\n",
              "      <td>71.0</td>\n",
              "    </tr>\n",
              "    <tr>\n",
              "      <th>2020-08-11</th>\n",
              "      <td>4.0</td>\n",
              "      <td>7.0</td>\n",
              "      <td>84.0</td>\n",
              "      <td>65.0</td>\n",
              "      <td>81.0</td>\n",
              "      <td>5.0</td>\n",
              "      <td>89.0</td>\n",
              "      <td>6.0</td>\n",
              "      <td>73.0</td>\n",
              "    </tr>\n",
              "    <tr>\n",
              "      <th>2020-08-12</th>\n",
              "      <td>4.0</td>\n",
              "      <td>7.0</td>\n",
              "      <td>84.0</td>\n",
              "      <td>65.0</td>\n",
              "      <td>81.0</td>\n",
              "      <td>5.0</td>\n",
              "      <td>89.0</td>\n",
              "      <td>6.0</td>\n",
              "      <td>75.0</td>\n",
              "    </tr>\n",
              "    <tr>\n",
              "      <th>2020-08-13</th>\n",
              "      <td>0.0</td>\n",
              "      <td>0.0</td>\n",
              "      <td>0.0</td>\n",
              "      <td>0.0</td>\n",
              "      <td>0.0</td>\n",
              "      <td>0.0</td>\n",
              "      <td>0.0</td>\n",
              "      <td>0.0</td>\n",
              "      <td>0.0</td>\n",
              "    </tr>\n",
              "  </tbody>\n",
              "</table>\n",
              "<p>226 rows × 9 columns</p>\n",
              "</div>"
            ],
            "text/plain": [
              "            mask_Denmark  mask_Finland  ...  mask_Sweden  mask_UK\n",
              "2020-01-01           0.0           0.0  ...          0.0      0.0\n",
              "2020-01-02           0.0           0.0  ...          0.0      0.0\n",
              "2020-01-03           0.0           0.0  ...          0.0      0.0\n",
              "2020-01-04           0.0           0.0  ...          0.0      0.0\n",
              "2020-01-05           0.0           0.0  ...          0.0      0.0\n",
              "...                  ...           ...  ...          ...      ...\n",
              "2020-08-09           4.0           7.0  ...          6.0     69.0\n",
              "2020-08-10           4.0           7.0  ...          6.0     71.0\n",
              "2020-08-11           4.0           7.0  ...          6.0     73.0\n",
              "2020-08-12           4.0           7.0  ...          6.0     75.0\n",
              "2020-08-13           0.0           0.0  ...          0.0      0.0\n",
              "\n",
              "[226 rows x 9 columns]"
            ]
          },
          "metadata": {
            "tags": []
          },
          "execution_count": 18
        }
      ]
    },
    {
      "cell_type": "code",
      "metadata": {
        "id": "0cm3WqqX2qgr",
        "colab_type": "code",
        "colab": {}
      },
      "source": [
        "exogenas2=exogenas.copy()"
      ],
      "execution_count": null,
      "outputs": []
    },
    {
      "cell_type": "code",
      "metadata": {
        "id": "zws18MsN6nFy",
        "colab_type": "code",
        "colab": {}
      },
      "source": [
        "covid=pd.read_csv(\"https://covid.ourworldindata.org/data/owid-covid-data.csv\",parse_dates=[\"date\"],index_col=\"date\")"
      ],
      "execution_count": null,
      "outputs": []
    },
    {
      "cell_type": "code",
      "metadata": {
        "id": "XWH1jnW5OXFD",
        "colab_type": "code",
        "colab": {}
      },
      "source": [
        "for i in covid[\"location\"].unique():\n",
        "  covid_country=covid[covid[\"location\"]==i]\n",
        "  covid_country_positive_rate=covid_country['positive_rate']\n",
        "  covid_country_positive_rate.rename(\"Positive_rate_{}\".format(i),inplace=True)\n",
        "  exogenas2=pd.concat([exogenas2,covid_country_positive_rate],axis=1)\n"
      ],
      "execution_count": null,
      "outputs": []
    },
    {
      "cell_type": "code",
      "metadata": {
        "id": "PHEoS6TQEGkk",
        "colab_type": "code",
        "colab": {
          "base_uri": "https://localhost:8080/",
          "height": 309
        },
        "outputId": "05606b3b-76b5-4b4f-b82c-7ab8d67292a9"
      },
      "source": [
        "covid[covid.location==\"France\"].tests_per_case.plot()"
      ],
      "execution_count": null,
      "outputs": [
        {
          "output_type": "execute_result",
          "data": {
            "text/plain": [
              "<matplotlib.axes._subplots.AxesSubplot at 0x7f105c8d7470>"
            ]
          },
          "metadata": {
            "tags": []
          },
          "execution_count": 98
        },
        {
          "output_type": "display_data",
          "data": {
            "image/png": "[encoded data removed]",
            "text/plain": [
              "<Figure size 432x288 with 1 Axes>"
            ]
          },
          "metadata": {
            "tags": [],
            "needs_background": "light"
          }
        }
      ]
    },
    {
      "cell_type": "code",
      "metadata": {
        "id": "m2qc_Rc-MfGh",
        "colab_type": "code",
        "colab": {}
      },
      "source": [
        ""
      ],
      "execution_count": null,
      "outputs": []
    }
  ]
}