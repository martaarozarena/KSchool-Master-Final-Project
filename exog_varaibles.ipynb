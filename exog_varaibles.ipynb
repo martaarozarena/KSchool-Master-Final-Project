{
  "nbformat": 4,
  "nbformat_minor": 0,
  "metadata": {
    "colab": {
      "name": "Untitled3.ipynb",
      "provenance": [],
      "include_colab_link": true
    },
    "kernelspec": {
      "display_name": "Python 3",
      "language": "python",
      "name": "python3"
    },
    "language_info": {
      "codemirror_mode": {
        "name": "ipython",
        "version": 3
      },
      "file_extension": ".py",
      "mimetype": "text/x-python",
      "name": "python",
      "nbconvert_exporter": "python",
      "pygments_lexer": "ipython3",
      "version": "3.7.4"
    }
  },
  "cells": [
    {
      "cell_type": "markdown",
      "metadata": {
        "id": "view-in-github",
        "colab_type": "text"
      },
      "source": [
        "<a href=\"https://colab.research.google.com/github/martaarozarena/KSchool-Master-Final-Project/blob/master/exog_varaibles.ipynb\" target=\"_parent\"><img src=\"https://colab.research.google.com/assets/colab-badge.svg\" alt=\"Open In Colab\"/></a>"
      ]
    },
    {
      "cell_type": "code",
      "metadata": {
        "colab_type": "code",
        "id": "LthkjTRu-ouZ",
        "colab": {
          "base_uri": "https://localhost:8080/",
          "height": 35
        },
        "outputId": "652db059-c0b4-40a7-9e3e-d61a5e4f36d3"
      },
      "source": [
        "from google.colab import drive\n",
        "#from os.path import join\n",
        "\n",
        "ROOT = '/content/drive'     # default for the drive\n",
        "PROJ = 'My Drive/KSchool-Master-Final-Project'       # path to your project on Drive\n",
        "\n",
        "drive.mount(ROOT)           # we mount the drive at /content/drive\n",
        "\n",
        "#PROJECT_PATH = join(ROOT, PROJ)"
      ],
      "execution_count": 67,
      "outputs": [
        {
          "output_type": "stream",
          "text": [
            "Drive already mounted at /content/drive; to attempt to forcibly remount, call drive.mount(\"/content/drive\", force_remount=True).\n"
          ],
          "name": "stdout"
        }
      ]
    },
    {
      "cell_type": "code",
      "metadata": {
        "colab_type": "code",
        "id": "kEnC-kf3-sOg",
        "colab": {
          "base_uri": "https://localhost:8080/",
          "height": 35
        },
        "outputId": "db134f17-5f2f-4590-9616-9803dcb51dbc"
      },
      "source": [
        "cd /content/drive/.shortcut-targets-by-id/1JF1t24jwhTtQKP-lLGdAUHcNKaXnHy3u/KSchool-Master-Final-Project/data"
      ],
      "execution_count": 68,
      "outputs": [
        {
          "output_type": "stream",
          "text": [
            "/content/drive/.shortcut-targets-by-id/1JF1t24jwhTtQKP-lLGdAUHcNKaXnHy3u/KSchool-Master-Final-Project/data\n"
          ],
          "name": "stdout"
        }
      ]
    },
    {
      "cell_type": "code",
      "metadata": {
        "colab_type": "code",
        "id": "-LGmL3ZYxcgK",
        "colab": {}
      },
      "source": [
        "import pandas as pd"
      ],
      "execution_count": 69,
      "outputs": []
    },
    {
      "cell_type": "code",
      "metadata": {
        "colab_type": "code",
        "id": "VYw8GKT0vT7d",
        "colab": {}
      },
      "source": [
        "sheets=[\"c1_schoolclosing\",\"c2_workplaceclosing\",\"c3_cancelpublicevents\",\"c4_restrictionsongatherings\",\"c5_closepublictransport\",\"c6_stayathomerequirements\",\"c7_domestictravel\",\"c8_internationaltravel\"]\n",
        "url = \"https://drive.google.com/file/d/1P37xzRtsjWIMUfhs3uUrHHLyToyE7qOJ/view?usp=sharing\"\n",
        "path = 'https://drive.google.com/uc?export=download&id='+url.split('/')[-2]\n",
        "varc = pd.read_excel(path,sheet_name=sheets)\n"
      ],
      "execution_count": 70,
      "outputs": []
    },
    {
      "cell_type": "code",
      "metadata": {
        "colab_type": "code",
        "id": "PFhd8uu9xfdC",
        "colab": {}
      },
      "source": [
        "j=1\n",
        "for i in varc.keys():\n",
        "  varc[i]=varc[i].drop(\"CountryCode\",axis=1)\n",
        "  varc[i].index=varc[i].CountryName\n",
        "  varc[i]=varc[i].drop(\"CountryName\",axis=1)\n",
        "  varc[i]=varc[i][:-3]\n",
        "  varc[i]=varc[i].T\n",
        "  varc[i].index=pd.to_datetime(varc[i].index,format=\"%d%b%Y\")\n",
        "  varc[i]=varc[i].truncate(\"01-01-2020\",\"30-06-2020\")\n",
        "  #varc[i].to_csv('variable_c{}.csv'.format(j))\n",
        "  j=j+1"
      ],
      "execution_count": 71,
      "outputs": []
    },
    {
      "cell_type": "code",
      "metadata": {
        "colab_type": "code",
        "id": "DPn3ODqA9FpG",
        "colab": {}
      },
      "source": [
        "url = \"https://drive.google.com/file/d/1P37xzRtsjWIMUfhs3uUrHHLyToyE7qOJ/view?usp=sharing\"\n",
        "path = 'https://drive.google.com/uc?export=download&id='+url.split('/')[-2]\n",
        "sheets2=[\"h1_publicinfocampaign\",\"h2_testingpolicy\",\"h3_contacttracing\"]\n",
        "varh = pd.read_excel(path,sheet_name=sheets2)"
      ],
      "execution_count": 72,
      "outputs": []
    },
    {
      "cell_type": "code",
      "metadata": {
        "colab_type": "code",
        "id": "mWIuduOnsha1",
        "colab": {}
      },
      "source": [
        "k=1\n",
        "for i in varh.keys():\n",
        "  varh[i]=varh[i].drop(\"CountryCode\",axis=1)\n",
        "  varh[i].index=varh[i].CountryName\n",
        "  varh[i]=varh[i].drop(\"CountryName\",axis=1)\n",
        "  varh[i]=varh[i][:-3]\n",
        "  varh[i]=varh[i].T\n",
        "  varh[i].index=pd.to_datetime(varh[i].index,format=\"%d%b%Y\")\n",
        "  varh[i]=varh[i].truncate(\"01-01-2020\",\"30-06-2020\")\n",
        "  #varh[i].to_csv('variable_h{}.csv'.format(k))\n",
        "  k=k+1"
      ],
      "execution_count": 73,
      "outputs": []
    },
    {
      "cell_type": "code",
      "metadata": {
        "id": "m1JMlDyiLOcj",
        "colab_type": "code",
        "colab": {}
      },
      "source": [
        "varc1=varc['c1_schoolclosing']\n",
        "varc2=varc[\"c2_workplaceclosing\"]\n",
        "varc3=varc['c3_cancelpublicevents']\n",
        "varc4=varc[\"c4_restrictionsongatherings\"]\n",
        "varc5=varc['c5_closepublictransport']\n",
        "varc6=varc[\"c6_stayathomerequirements\"]\n",
        "varc7=varc['c7_domestictravel']\n",
        "varc8=varc[\"c8_internationaltravel\"]\n",
        "varh1=varh[\"h1_publicinfocampaign\"]\n",
        "varh2=varh[\"h2_testingpolicy\"]\n",
        "varh3=varh[\"h3_contacttracing\"]\n",
        "varc1.columns=\"c1_\"+varc1.columns\n",
        "varc2.columns=\"c2_\"+varc2.columns\n",
        "varc3.columns=\"c3_\"+varc3.columns\n",
        "varc4.columns=\"c4_\"+varc4.columns\n",
        "varc5.columns=\"c5_\"+varc5.columns\n",
        "varc6.columns=\"c6_\"+varc6.columns\n",
        "varc7.columns=\"c7_\"+varc7.columns\n",
        "varc8.columns=\"c8_\"+varc8.columns\n",
        "varh1.columns=\"h1_\"+varh1.columns\n",
        "varh2.columns=\"h2_\"+varh2.columns\n",
        "varh3.columns=\"h3_\"+varh3.columns\n",
        "exogenas=pd.concat([varc1, varc2,varc3,varc4,varc5,varc6,varc7,varc8,varh1,varh2,varh3],axis=1)"
      ],
      "execution_count": 74,
      "outputs": []
    },
    {
      "cell_type": "code",
      "metadata": {
        "colab_type": "code",
        "id": "mXHSu3962Puy",
        "colab": {}
      },
      "source": [
        "#download the yougov data and then choosing the mask wearing data (i12 variable)"
      ],
      "execution_count": 75,
      "outputs": []
    },
    {
      "cell_type": "code",
      "metadata": {
        "colab_type": "code",
        "id": "O11Ec5HeuE04",
        "colab": {}
      },
      "source": [
        "url2 = \"https://drive.google.com/file/d/1WsBkpNhB5ilLsNxmOZPwdXv66m5tPDHx/view?usp=sharing\"\n",
        "path2 = 'https://drive.google.com/uc?export=download&id='+url2.split('/')[-2]\n",
        "var_percent_mask = pd.read_csv(path2,sep=\";\")"
      ],
      "execution_count": 76,
      "outputs": []
    },
    {
      "cell_type": "code",
      "metadata": {
        "colab_type": "code",
        "id": "3PkFiOP7L9Hq",
        "colab": {}
      },
      "source": [
        "var_percent_mask.DateTime=pd.to_datetime(var_percent_mask.DateTime)\n",
        "var_percent_mask.index=var_percent_mask.DateTime\n",
        "var_percent_mask.drop(\"DateTime\",axis=1,inplace=True)"
      ],
      "execution_count": 77,
      "outputs": []
    },
    {
      "cell_type": "code",
      "metadata": {
        "id": "s30F7MNK1TMw",
        "colab_type": "code",
        "colab": {}
      },
      "source": [
        "var_percent_mask=var_percent_mask.resample(\"D\").mean()"
      ],
      "execution_count": 78,
      "outputs": []
    },
    {
      "cell_type": "code",
      "metadata": {
        "id": "-k8JGzZ1uCKD",
        "colab_type": "code",
        "colab": {}
      },
      "source": [
        "var_percent_mask.interpolate(method='linear',inplace=True)\n",
        "var_percent_mask.fillna(method=\"bfill\",inplace=True)\n"
      ],
      "execution_count": 79,
      "outputs": []
    },
    {
      "cell_type": "code",
      "metadata": {
        "colab_type": "code",
        "id": "KdIg-0PXMHny",
        "colab": {}
      },
      "source": [
        "var_percent_mask.columns=\"mask_\"+var_percent_mask.columns"
      ],
      "execution_count": 80,
      "outputs": []
    },
    {
      "cell_type": "code",
      "metadata": {
        "id": "FbcZ0aMzQOTa",
        "colab_type": "code",
        "colab": {}
      },
      "source": [
        "var_percent_mask=var_percent_mask.truncate(\"01-01-2020\",\"30-06-2020\")"
      ],
      "execution_count": 81,
      "outputs": []
    },
    {
      "cell_type": "code",
      "metadata": {
        "id": "4w6pDohwQPax",
        "colab_type": "code",
        "colab": {}
      },
      "source": [
        "exogenas=pd.concat([exogenas,var_percent_mask],axis=1)"
      ],
      "execution_count": 82,
      "outputs": []
    },
    {
      "cell_type": "code",
      "metadata": {
        "id": "W-85Ief5Reyz",
        "colab_type": "code",
        "colab": {}
      },
      "source": [
        "exogenas.fillna(0,inplace=True)"
      ],
      "execution_count": 85,
      "outputs": []
    },
    {
      "cell_type": "code",
      "metadata": {
        "id": "_Y6SFXEZQmbU",
        "colab_type": "code",
        "colab": {}
      },
      "source": [
        "exogenas.to_csv('exogenas.csv')"
      ],
      "execution_count": 86,
      "outputs": []
    },
    {
      "cell_type": "code",
      "metadata": {
        "id": "8TEKcu_JQm5L",
        "colab_type": "code",
        "colab": {
          "base_uri": "https://localhost:8080/",
          "height": 35
        },
        "outputId": "8603dca5-94d3-4aac-cfef-7810e352102b"
      },
      "source": [
        "exogenas.shape"
      ],
      "execution_count": 91,
      "outputs": [
        {
          "output_type": "execute_result",
          "data": {
            "text/plain": [
              "(182, 1956)"
            ]
          },
          "metadata": {
            "tags": []
          },
          "execution_count": 91
        }
      ]
    },
    {
      "cell_type": "code",
      "metadata": {
        "id": "aRQ-14vCSMsJ",
        "colab_type": "code",
        "colab": {}
      },
      "source": [
        ""
      ],
      "execution_count": null,
      "outputs": []
    }
  ]
}