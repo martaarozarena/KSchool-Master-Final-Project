{
 "cells": [
  {
   "cell_type": "code",
   "execution_count": 1,
   "metadata": {},
   "outputs": [],
   "source": [
    "import pandas as pd\n",
    "import numpy as np\n",
    "from statsmodels.tsa.statespace.sarimax import SARIMAX\n",
    "import joblib\n",
    "import urllib.request\n",
    "from datetime import datetime, timedelta, date\n",
    "from sklearn.preprocessing import MinMaxScaler\n",
    "import matplotlib.pyplot as plt\n",
    "import seaborn as sns\n",
    "sns.set()\n",
    "plt.rcParams[\"figure.figsize\"] = (15, 5)\n",
    "import altair as alt\n",
    "import streamlit as st\n",
    "import statsmodels.api as sm"
   ]
  },
  {
   "cell_type": "code",
   "execution_count": 2,
   "metadata": {},
   "outputs": [],
   "source": [
    "variable = 'new_cases_'\n",
    "initialdate = '2020-01-01'   # first day of the year, where most of our data starts\n",
    "# moving intialdate by 6, since we later apply 7-day rolling mean to our data:\n",
    "initialdateshift = str(date.fromordinal(datetime.strptime(initialdate, '%Y-%m-%d').toordinal() + 6)) \n",
    "enddate = str(date.fromordinal(date.today().toordinal()-1))   # yesterday's date: last day of available data\n",
    "\n",
    "country = 'Denmark'\n",
    "col = variable + country\n",
    "url1 = 'https://raw.githubusercontent.com/martaarozarena/KSchool-Master-Final-Project/master/data/endogenous.csv'\n",
    "covid_ctry_varR = pd.read_csv(url1, parse_dates=['date'], index_col=['date'], usecols=['date', col])"
   ]
  },
  {
   "cell_type": "code",
   "execution_count": 3,
   "metadata": {},
   "outputs": [],
   "source": [
    "url2 = 'https://raw.githubusercontent.com/martaarozarena/KSchool-Master-Final-Project/master/data/exogenous.csv'\n",
    "exog = pd.read_csv(url2, parse_dates=['date'], index_col=['date'])\n",
    "exog = exog.loc[:, exog.columns.str.contains(country)]"
   ]
  },
  {
   "cell_type": "code",
   "execution_count": 4,
   "metadata": {},
   "outputs": [
    {
     "data": {
      "text/plain": [
       "DatetimeIndex(['2020-01-01', '2020-01-02', '2020-01-03', '2020-01-04',\n",
       "               '2020-01-05', '2020-01-06', '2020-01-07', '2020-01-08',\n",
       "               '2020-01-09', '2020-01-10',\n",
       "               ...\n",
       "               '2020-09-12', '2020-09-13', '2020-09-14', '2020-09-15',\n",
       "               '2020-09-16', '2020-09-17', '2020-09-18', '2020-09-19',\n",
       "               '2020-09-20', '2020-09-21'],\n",
       "              dtype='datetime64[ns]', name='date', length=265, freq=None)"
      ]
     },
     "execution_count": 4,
     "metadata": {},
     "output_type": "execute_result"
    }
   ],
   "source": [
    "exog.index"
   ]
  },
  {
   "cell_type": "code",
   "execution_count": 5,
   "metadata": {},
   "outputs": [
    {
     "data": {
      "text/plain": [
       "H2_Testing policy_Denmark     3.0\n",
       "H3_Contact tracing_Denmark    2.0\n",
       "Name: 2020-09-21 00:00:00, dtype: float64"
      ]
     },
     "execution_count": 5,
     "metadata": {},
     "output_type": "execute_result"
    }
   ],
   "source": [
    "exog.iloc[-1, exog.columns.str.contains('Testing|Contact')]"
   ]
  },
  {
   "cell_type": "code",
   "execution_count": 6,
   "metadata": {},
   "outputs": [
    {
     "data": {
      "text/plain": [
       "3"
      ]
     },
     "execution_count": 6,
     "metadata": {},
     "output_type": "execute_result"
    }
   ],
   "source": [
    "last_test_value = exog.iloc[-1, exog.columns.str.contains('Testing|Contact')][0]\n",
    "int(last_test_value)"
   ]
  },
  {
   "cell_type": "code",
   "execution_count": 7,
   "metadata": {},
   "outputs": [
    {
     "data": {
      "text/plain": [
       "2.0"
      ]
     },
     "execution_count": 7,
     "metadata": {},
     "output_type": "execute_result"
    }
   ],
   "source": [
    "last_contact_value = exog.iloc[-1, exog.columns.str.contains('Testing|Contact')][1]\n",
    "last_contact_value"
   ]
  },
  {
   "cell_type": "code",
   "execution_count": 8,
   "metadata": {},
   "outputs": [
    {
     "data": {
      "text/plain": [
       "Index(['positive_rate_Denmark', 'C1_School closing_Denmark',\n",
       "       'C2_Workplace closing_Denmark', 'C3_Cancel public events_Denmark',\n",
       "       'C4_Restrictions on gatherings_Denmark',\n",
       "       'C5_Close public transport_Denmark',\n",
       "       'C6_Stay at home requirements_Denmark',\n",
       "       'C7_Restrictions on internal movement_Denmark',\n",
       "       'C8_International travel controls_Denmark',\n",
       "       'H1_Public information campaigns_Denmark', 'H2_Testing policy_Denmark',\n",
       "       'H3_Contact tracing_Denmark', 'mask_Denmark', 'flightsArr_Denmark'],\n",
       "      dtype='object')"
      ]
     },
     "execution_count": 8,
     "metadata": {},
     "output_type": "execute_result"
    }
   ],
   "source": [
    "exog.columns"
   ]
  },
  {
   "cell_type": "code",
   "execution_count": 9,
   "metadata": {},
   "outputs": [],
   "source": [
    "forecastdays = 14\n",
    "new_begin = str(date.fromordinal(datetime.strptime(enddate, '%Y-%m-%d').toordinal() + 1))\n",
    "new_date = str(date.fromordinal(datetime.strptime(enddate, '%Y-%m-%d').toordinal() + forecastdays))\n",
    "new_index = pd.date_range(initialdate, new_date, freq='D')\n",
    "exog_futur = exog.reindex(new_index).interpolate()"
   ]
  },
  {
   "cell_type": "code",
   "execution_count": 10,
   "metadata": {},
   "outputs": [
    {
     "data": {
      "text/plain": [
       "DatetimeIndex(['2020-01-01', '2020-01-02', '2020-01-03', '2020-01-04',\n",
       "               '2020-01-05', '2020-01-06', '2020-01-07', '2020-01-08',\n",
       "               '2020-01-09', '2020-01-10',\n",
       "               ...\n",
       "               '2020-09-26', '2020-09-27', '2020-09-28', '2020-09-29',\n",
       "               '2020-09-30', '2020-10-01', '2020-10-02', '2020-10-03',\n",
       "               '2020-10-04', '2020-10-05'],\n",
       "              dtype='datetime64[ns]', length=279, freq='D')"
      ]
     },
     "execution_count": 10,
     "metadata": {},
     "output_type": "execute_result"
    }
   ],
   "source": [
    "exog_futur.index"
   ]
  },
  {
   "cell_type": "code",
   "execution_count": 11,
   "metadata": {},
   "outputs": [
    {
     "data": {
      "text/plain": [
       "<matplotlib.axes._subplots.AxesSubplot at 0x2a0eca89848>"
      ]
     },
     "execution_count": 11,
     "metadata": {},
     "output_type": "execute_result"
    },
    {
     "data": {
      "image/png": "[encoded data removed]",
      "text/plain": [
       "<Figure size 1080x360 with 1 Axes>"
      ]
     },
     "metadata": {},
     "output_type": "display_data"
    }
   ],
   "source": [
    "sc_in_fc = MinMaxScaler(feature_range=(0, 1))\n",
    "scaled_input_fc = sc_in_fc.fit_transform(exog_futur)\n",
    "scaled_input_fc = pd.DataFrame(scaled_input_fc, index=exog_futur.index, columns=exog_futur.columns)\n",
    "X_fc = scaled_input_fc\n",
    "X_fc.plot()"
   ]
  },
  {
   "cell_type": "code",
   "execution_count": 15,
   "metadata": {},
   "outputs": [],
   "source": [
    "url3 = 'https://github.com/martaarozarena/KSchool-Master-Final-Project/raw/master/models/' + country.replace(\" \", \"\") + '_' + variable + 'model.pkl'\n",
    "model = joblib.load(urllib.request.urlopen(url3))"
   ]
  },
  {
   "cell_type": "code",
   "execution_count": 16,
   "metadata": {},
   "outputs": [
    {
     "data": {
      "text/plain": [
       "<matplotlib.axes._subplots.AxesSubplot at 0x2a0ed253d88>"
      ]
     },
     "execution_count": 16,
     "metadata": {},
     "output_type": "execute_result"
    },
    {
     "data": {
      "image/png": "[encoded data removed]",
      "text/plain": [
       "<Figure size 1080x360 with 1 Axes>"
      ]
     },
     "metadata": {},
     "output_type": "display_data"
    }
   ],
   "source": [
    "sc_out = MinMaxScaler(feature_range=(0, 1))\n",
    "scaled_output = sc_out.fit_transform(covid_ctry_varR)\n",
    "scaled_output  = pd.Series(scaled_output.flatten(), index=covid_ctry_varR.index, name=covid_ctry_varR.columns[0])\n",
    "scaled_output.plot()"
   ]
  },
  {
   "cell_type": "code",
   "execution_count": null,
   "metadata": {},
   "outputs": [],
   "source": []
  },
  {
   "cell_type": "code",
   "execution_count": null,
   "metadata": {},
   "outputs": [],
   "source": [
    "scaled_output.name"
   ]
  },
  {
   "cell_type": "code",
   "execution_count": 17,
   "metadata": {},
   "outputs": [],
   "source": [
    "past_rs = covid_ctry_varR.reset_index()"
   ]
  },
  {
   "cell_type": "code",
   "execution_count": 18,
   "metadata": {},
   "outputs": [],
   "source": [
    "results = model.get_forecast(steps=14, exog=X_fc[new_begin:new_date])\n",
    "mean_forecast = results.predicted_mean\n",
    "\n",
    "forecast14 = sc_out.inverse_transform(mean_forecast.values.reshape(-1,1))\n",
    "forecast14S = pd.Series(forecast14.flatten(), index=mean_forecast.index, name='new_cases_forecast')\n",
    "future_rs = forecast14S.to_frame().reset_index()"
   ]
  },
  {
   "cell_type": "code",
   "execution_count": 19,
   "metadata": {},
   "outputs": [],
   "source": [
    "# Get confidence intervals of  predictions\n",
    "confidence_intervals = results.conf_int()\n",
    "\n",
    "# Select lower and upper confidence limits\n",
    "lower_limits = confidence_intervals.loc[:,'lower ' + scaled_output.name]\n",
    "upper_limits = confidence_intervals.loc[:,'upper ' + scaled_output.name]\n",
    "\n",
    "forecast14_ll = sc_out.inverse_transform(lower_limits.values.reshape(-1,1))\n",
    "forecast14_llS = pd.Series(forecast14_ll.flatten(), index=lower_limits.index, name='new_cases_forecast_ll')\n",
    "fcast_ll_df = forecast14_llS.to_frame().reset_index()\n",
    "\n",
    "forecast14_ul = sc_out.inverse_transform(upper_limits.values.reshape(-1,1))\n",
    "forecast14_ulS = pd.Series(forecast14_ul.flatten(), index=upper_limits.index, name='new_cases_forecast_ul')\n",
    "fcast_ul_df = forecast14_ulS.to_frame().reset_index()"
   ]
  },
  {
   "cell_type": "code",
   "execution_count": 20,
   "metadata": {},
   "outputs": [
    {
     "data": {
      "text/html": [
       "<div>\n",
       "<style scoped>\n",
       "    .dataframe tbody tr th:only-of-type {\n",
       "        vertical-align: middle;\n",
       "    }\n",
       "\n",
       "    .dataframe tbody tr th {\n",
       "        vertical-align: top;\n",
       "    }\n",
       "\n",
       "    .dataframe thead th {\n",
       "        text-align: right;\n",
       "    }\n",
       "</style>\n",
       "<table border=\"1\" class=\"dataframe\">\n",
       "  <thead>\n",
       "    <tr style=\"text-align: right;\">\n",
       "      <th></th>\n",
       "      <th>lower new_cases_Denmark</th>\n",
       "      <th>upper new_cases_Denmark</th>\n",
       "    </tr>\n",
       "  </thead>\n",
       "  <tbody>\n",
       "    <tr>\n",
       "      <th>2020-09-22</th>\n",
       "      <td>1.030199</td>\n",
       "      <td>1.083314</td>\n",
       "    </tr>\n",
       "    <tr>\n",
       "      <th>2020-09-23</th>\n",
       "      <td>1.070176</td>\n",
       "      <td>1.173545</td>\n",
       "    </tr>\n",
       "    <tr>\n",
       "      <th>2020-09-24</th>\n",
       "      <td>1.049871</td>\n",
       "      <td>1.203959</td>\n",
       "    </tr>\n",
       "    <tr>\n",
       "      <th>2020-09-25</th>\n",
       "      <td>1.021566</td>\n",
       "      <td>1.230985</td>\n",
       "    </tr>\n",
       "    <tr>\n",
       "      <th>2020-09-26</th>\n",
       "      <td>1.012162</td>\n",
       "      <td>1.287734</td>\n",
       "    </tr>\n",
       "    <tr>\n",
       "      <th>2020-09-27</th>\n",
       "      <td>1.012414</td>\n",
       "      <td>1.369018</td>\n",
       "    </tr>\n",
       "    <tr>\n",
       "      <th>2020-09-28</th>\n",
       "      <td>0.994509</td>\n",
       "      <td>1.436684</td>\n",
       "    </tr>\n",
       "    <tr>\n",
       "      <th>2020-09-29</th>\n",
       "      <td>0.955523</td>\n",
       "      <td>1.486478</td>\n",
       "    </tr>\n",
       "    <tr>\n",
       "      <th>2020-09-30</th>\n",
       "      <td>0.923459</td>\n",
       "      <td>1.549215</td>\n",
       "    </tr>\n",
       "    <tr>\n",
       "      <th>2020-10-01</th>\n",
       "      <td>0.900182</td>\n",
       "      <td>1.628502</td>\n",
       "    </tr>\n",
       "    <tr>\n",
       "      <th>2020-10-02</th>\n",
       "      <td>0.871949</td>\n",
       "      <td>1.709285</td>\n",
       "    </tr>\n",
       "    <tr>\n",
       "      <th>2020-10-03</th>\n",
       "      <td>0.831324</td>\n",
       "      <td>1.781254</td>\n",
       "    </tr>\n",
       "    <tr>\n",
       "      <th>2020-10-04</th>\n",
       "      <td>0.786837</td>\n",
       "      <td>1.853531</td>\n",
       "    </tr>\n",
       "    <tr>\n",
       "      <th>2020-10-05</th>\n",
       "      <td>0.747538</td>\n",
       "      <td>1.936352</td>\n",
       "    </tr>\n",
       "  </tbody>\n",
       "</table>\n",
       "</div>"
      ],
      "text/plain": [
       "            lower new_cases_Denmark  upper new_cases_Denmark\n",
       "2020-09-22                 1.030199                 1.083314\n",
       "2020-09-23                 1.070176                 1.173545\n",
       "2020-09-24                 1.049871                 1.203959\n",
       "2020-09-25                 1.021566                 1.230985\n",
       "2020-09-26                 1.012162                 1.287734\n",
       "2020-09-27                 1.012414                 1.369018\n",
       "2020-09-28                 0.994509                 1.436684\n",
       "2020-09-29                 0.955523                 1.486478\n",
       "2020-09-30                 0.923459                 1.549215\n",
       "2020-10-01                 0.900182                 1.628502\n",
       "2020-10-02                 0.871949                 1.709285\n",
       "2020-10-03                 0.831324                 1.781254\n",
       "2020-10-04                 0.786837                 1.853531\n",
       "2020-10-05                 0.747538                 1.936352"
      ]
     },
     "execution_count": 20,
     "metadata": {},
     "output_type": "execute_result"
    }
   ],
   "source": [
    "confidence_intervals"
   ]
  },
  {
   "cell_type": "code",
   "execution_count": 21,
   "metadata": {},
   "outputs": [
    {
     "data": {
      "text/html": [
       "<div>\n",
       "<style scoped>\n",
       "    .dataframe tbody tr th:only-of-type {\n",
       "        vertical-align: middle;\n",
       "    }\n",
       "\n",
       "    .dataframe tbody tr th {\n",
       "        vertical-align: top;\n",
       "    }\n",
       "\n",
       "    .dataframe thead th {\n",
       "        text-align: right;\n",
       "    }\n",
       "</style>\n",
       "<table border=\"1\" class=\"dataframe\">\n",
       "  <thead>\n",
       "    <tr style=\"text-align: right;\">\n",
       "      <th></th>\n",
       "      <th>index</th>\n",
       "      <th>new_cases_forecast_ll</th>\n",
       "      <th>new_cases_forecast_ul</th>\n",
       "    </tr>\n",
       "  </thead>\n",
       "  <tbody>\n",
       "    <tr>\n",
       "      <th>0</th>\n",
       "      <td>2020-09-22</td>\n",
       "      <td>387.207723</td>\n",
       "      <td>407.171365</td>\n",
       "    </tr>\n",
       "    <tr>\n",
       "      <th>1</th>\n",
       "      <td>2020-09-23</td>\n",
       "      <td>402.233344</td>\n",
       "      <td>441.085085</td>\n",
       "    </tr>\n",
       "    <tr>\n",
       "      <th>2</th>\n",
       "      <td>2020-09-24</td>\n",
       "      <td>394.601584</td>\n",
       "      <td>452.516632</td>\n",
       "    </tr>\n",
       "    <tr>\n",
       "      <th>3</th>\n",
       "      <td>2020-09-25</td>\n",
       "      <td>383.962844</td>\n",
       "      <td>462.674553</td>\n",
       "    </tr>\n",
       "    <tr>\n",
       "      <th>4</th>\n",
       "      <td>2020-09-26</td>\n",
       "      <td>380.428326</td>\n",
       "      <td>484.004167</td>\n",
       "    </tr>\n",
       "    <tr>\n",
       "      <th>5</th>\n",
       "      <td>2020-09-27</td>\n",
       "      <td>380.522936</td>\n",
       "      <td>514.555211</td>\n",
       "    </tr>\n",
       "    <tr>\n",
       "      <th>6</th>\n",
       "      <td>2020-09-28</td>\n",
       "      <td>373.793205</td>\n",
       "      <td>539.987923</td>\n",
       "    </tr>\n",
       "    <tr>\n",
       "      <th>7</th>\n",
       "      <td>2020-09-29</td>\n",
       "      <td>359.140224</td>\n",
       "      <td>558.703557</td>\n",
       "    </tr>\n",
       "    <tr>\n",
       "      <th>8</th>\n",
       "      <td>2020-09-30</td>\n",
       "      <td>347.088592</td>\n",
       "      <td>582.283476</td>\n",
       "    </tr>\n",
       "    <tr>\n",
       "      <th>9</th>\n",
       "      <td>2020-10-01</td>\n",
       "      <td>338.339864</td>\n",
       "      <td>612.084096</td>\n",
       "    </tr>\n",
       "    <tr>\n",
       "      <th>10</th>\n",
       "      <td>2020-10-02</td>\n",
       "      <td>327.728195</td>\n",
       "      <td>642.447108</td>\n",
       "    </tr>\n",
       "    <tr>\n",
       "      <th>11</th>\n",
       "      <td>2020-10-03</td>\n",
       "      <td>312.459022</td>\n",
       "      <td>669.497079</td>\n",
       "    </tr>\n",
       "    <tr>\n",
       "      <th>12</th>\n",
       "      <td>2020-10-04</td>\n",
       "      <td>295.738212</td>\n",
       "      <td>696.662865</td>\n",
       "    </tr>\n",
       "    <tr>\n",
       "      <th>13</th>\n",
       "      <td>2020-10-05</td>\n",
       "      <td>280.967539</td>\n",
       "      <td>727.791794</td>\n",
       "    </tr>\n",
       "  </tbody>\n",
       "</table>\n",
       "</div>"
      ],
      "text/plain": [
       "        index  new_cases_forecast_ll  new_cases_forecast_ul\n",
       "0  2020-09-22             387.207723             407.171365\n",
       "1  2020-09-23             402.233344             441.085085\n",
       "2  2020-09-24             394.601584             452.516632\n",
       "3  2020-09-25             383.962844             462.674553\n",
       "4  2020-09-26             380.428326             484.004167\n",
       "5  2020-09-27             380.522936             514.555211\n",
       "6  2020-09-28             373.793205             539.987923\n",
       "7  2020-09-29             359.140224             558.703557\n",
       "8  2020-09-30             347.088592             582.283476\n",
       "9  2020-10-01             338.339864             612.084096\n",
       "10 2020-10-02             327.728195             642.447108\n",
       "11 2020-10-03             312.459022             669.497079\n",
       "12 2020-10-04             295.738212             696.662865\n",
       "13 2020-10-05             280.967539             727.791794"
      ]
     },
     "execution_count": 21,
     "metadata": {},
     "output_type": "execute_result"
    }
   ],
   "source": [
    "conf_int = pd.concat([fcast_ll_df, fcast_ul_df.iloc[:, 1]], axis=1)\n",
    "conf_int"
   ]
  },
  {
   "cell_type": "code",
   "execution_count": null,
   "metadata": {},
   "outputs": [],
   "source": []
  },
  {
   "cell_type": "code",
   "execution_count": 22,
   "metadata": {},
   "outputs": [
    {
     "data": {
      "text/plain": [
       "'new_cases_Denmark'"
      ]
     },
     "execution_count": 22,
     "metadata": {},
     "output_type": "execute_result"
    }
   ],
   "source": [
    "covid_ctry_varR.columns[0]"
   ]
  },
  {
   "cell_type": "code",
   "execution_count": 23,
   "metadata": {},
   "outputs": [
    {
     "data": {
      "text/html": [
       "<div>\n",
       "<style scoped>\n",
       "    .dataframe tbody tr th:only-of-type {\n",
       "        vertical-align: middle;\n",
       "    }\n",
       "\n",
       "    .dataframe tbody tr th {\n",
       "        vertical-align: top;\n",
       "    }\n",
       "\n",
       "    .dataframe thead th {\n",
       "        text-align: right;\n",
       "    }\n",
       "</style>\n",
       "<table border=\"1\" class=\"dataframe\">\n",
       "  <thead>\n",
       "    <tr style=\"text-align: right;\">\n",
       "      <th></th>\n",
       "      <th>new_cases_Denmark</th>\n",
       "    </tr>\n",
       "  </thead>\n",
       "  <tbody>\n",
       "    <tr>\n",
       "      <th>2020-09-22</th>\n",
       "      <td>397.189544</td>\n",
       "    </tr>\n",
       "  </tbody>\n",
       "</table>\n",
       "</div>"
      ],
      "text/plain": [
       "            new_cases_Denmark\n",
       "2020-09-22         397.189544"
      ]
     },
     "execution_count": 23,
     "metadata": {},
     "output_type": "execute_result"
    }
   ],
   "source": [
    "ttt = forecast14S.head(1).to_frame()\n",
    "ttt.columns = [covid_ctry_varR.tail(1).columns[0]]\n",
    "ttt"
   ]
  },
  {
   "cell_type": "code",
   "execution_count": 24,
   "metadata": {},
   "outputs": [
    {
     "data": {
      "text/html": [
       "<div>\n",
       "<style scoped>\n",
       "    .dataframe tbody tr th:only-of-type {\n",
       "        vertical-align: middle;\n",
       "    }\n",
       "\n",
       "    .dataframe tbody tr th {\n",
       "        vertical-align: top;\n",
       "    }\n",
       "\n",
       "    .dataframe thead th {\n",
       "        text-align: right;\n",
       "    }\n",
       "</style>\n",
       "<table border=\"1\" class=\"dataframe\">\n",
       "  <thead>\n",
       "    <tr style=\"text-align: right;\">\n",
       "      <th></th>\n",
       "      <th>new_cases_Denmark</th>\n",
       "    </tr>\n",
       "  </thead>\n",
       "  <tbody>\n",
       "    <tr>\n",
       "      <th>2020-09-22</th>\n",
       "      <td>397.189544</td>\n",
       "    </tr>\n",
       "  </tbody>\n",
       "</table>\n",
       "</div>"
      ],
      "text/plain": [
       "            new_cases_Denmark\n",
       "2020-09-22         397.189544"
      ]
     },
     "execution_count": 24,
     "metadata": {},
     "output_type": "execute_result"
    }
   ],
   "source": [
    "forecast14S.head(1).to_frame().rename(columns={forecast14S.head(1).to_frame().columns[0]:covid_ctry_varR.tail(1).columns[0]})"
   ]
  },
  {
   "cell_type": "code",
   "execution_count": 25,
   "metadata": {},
   "outputs": [
    {
     "data": {
      "text/html": [
       "<div>\n",
       "<style scoped>\n",
       "    .dataframe tbody tr th:only-of-type {\n",
       "        vertical-align: middle;\n",
       "    }\n",
       "\n",
       "    .dataframe tbody tr th {\n",
       "        vertical-align: top;\n",
       "    }\n",
       "\n",
       "    .dataframe thead th {\n",
       "        text-align: right;\n",
       "    }\n",
       "</style>\n",
       "<table border=\"1\" class=\"dataframe\">\n",
       "  <thead>\n",
       "    <tr style=\"text-align: right;\">\n",
       "      <th></th>\n",
       "      <th>index</th>\n",
       "      <th>new_cases_Denmark</th>\n",
       "    </tr>\n",
       "  </thead>\n",
       "  <tbody>\n",
       "    <tr>\n",
       "      <th>0</th>\n",
       "      <td>2020-09-21</td>\n",
       "      <td>375.857143</td>\n",
       "    </tr>\n",
       "    <tr>\n",
       "      <th>1</th>\n",
       "      <td>2020-09-22</td>\n",
       "      <td>397.189544</td>\n",
       "    </tr>\n",
       "  </tbody>\n",
       "</table>\n",
       "</div>"
      ],
      "text/plain": [
       "       index  new_cases_Denmark\n",
       "0 2020-09-21         375.857143\n",
       "1 2020-09-22         397.189544"
      ]
     },
     "execution_count": 25,
     "metadata": {},
     "output_type": "execute_result"
    }
   ],
   "source": [
    "new = pd.concat([covid_ctry_varR.tail(1), forecast14S.head(1).to_frame().rename(columns={forecast14S.head(1).to_frame().columns[0]:covid_ctry_varR.tail(1).columns[0]})])\n",
    "new_rs = new.reset_index()\n",
    "new_rs"
   ]
  },
  {
   "cell_type": "code",
   "execution_count": 40,
   "metadata": {},
   "outputs": [],
   "source": [
    "past_plt = alt.Chart(past_rs).mark_line().encode(\n",
    "    x='date:T',\n",
    "    y=col,\n",
    "    tooltip=alt.Tooltip(col, format='.1f')\n",
    ").properties(\n",
    "    width=800,\n",
    "    height=300\n",
    ").interactive()"
   ]
  },
  {
   "cell_type": "code",
   "execution_count": 41,
   "metadata": {},
   "outputs": [],
   "source": [
    "test = alt.Chart(new_rs).mark_line(opacity=0.5, size=1.2).encode(\n",
    "    x='index:T',\n",
    "    y=col\n",
    ")"
   ]
  },
  {
   "cell_type": "code",
   "execution_count": 45,
   "metadata": {},
   "outputs": [],
   "source": [
    "future_plt = alt.Chart(future_rs).mark_line(color='orange').encode(\n",
    "    x=alt.X('index:T', axis=alt.Axis(title='Date', titleFontWeight='normal', titleAlign='right')),\n",
    "    y=alt.Y('new_cases_forecast', axis=alt.Axis(title='New coronavirus cases')),\n",
    "    tooltip=alt.Tooltip('new_cases_forecast', format='.1f')\n",
    ").properties(\n",
    "    width=800,\n",
    "    height=300\n",
    ").interactive()"
   ]
  },
  {
   "cell_type": "code",
   "execution_count": 46,
   "metadata": {},
   "outputs": [],
   "source": [
    "confint_plot = alt.Chart(conf_int).mark_area(opacity=0.2, color='orange').encode(\n",
    "    alt.X('index:T'),\n",
    "    alt.Y('new_cases_forecast_ll'),\n",
    "    alt.Y2('new_cases_forecast_ul')\n",
    ")"
   ]
  },
  {
   "cell_type": "code",
   "execution_count": 47,
   "metadata": {},
   "outputs": [
    {
     "data": {
      "text/html": [
       "\n",
       "<div id=\"altair-viz-4b6aec0e0354480d95c063dae06ddb7d\"></div>\n",
       "<script type=\"text/javascript\">\n",
       "  (function(spec, embedOpt){\n",
       "    let outputDiv = document.currentScript.previousElementSibling;\n",
       "    if (outputDiv.id !== \"altair-viz-4b6aec0e0354480d95c063dae06ddb7d\") {\n",
       "      outputDiv = document.getElementById(\"altair-viz-4b6aec0e0354480d95c063dae06ddb7d\");\n",
       "    }\n",
       "    const paths = {\n",
       "      \"vega\": \"https://cdn.jsdelivr.net/npm//vega@5?noext\",\n",
       "      \"vega-lib\": \"https://cdn.jsdelivr.net/npm//vega-lib?noext\",\n",
       "      \"vega-lite\": \"https://cdn.jsdelivr.net/npm//vega-lite@4.8.1?noext\",\n",
       "      \"vega-embed\": \"https://cdn.jsdelivr.net/npm//vega-embed@6?noext\",\n",
       "    };\n",
       "\n",
       "    function loadScript(lib) {\n",
       "      return new Promise(function(resolve, reject) {\n",
       "        var s = document.createElement('script');\n",
       "        s.src = paths[lib];\n",
       "        s.async = true;\n",
       "        s.onload = () => resolve(paths[lib]);\n",
       "        s.onerror = () => reject(`Error loading script: ${paths[lib]}`);\n",
       "        document.getElementsByTagName(\"head\")[0].appendChild(s);\n",
       "      });\n",
       "    }\n",
       "\n",
       "    function showError(err) {\n",
       "      outputDiv.innerHTML = `<div class=\"error\" style=\"color:red;\">${err}</div>`;\n",
       "      throw err;\n",
       "    }\n",
       "\n",
       "    function displayChart(vegaEmbed) {\n",
       "      vegaEmbed(outputDiv, spec, embedOpt)\n",
       "        .catch(err => showError(`Javascript Error: ${err.message}<br>This usually means there's a typo in your chart specification. See the javascript console for the full traceback.`));\n",
       "    }\n",
       "\n",
       "    if(typeof define === \"function\" && define.amd) {\n",
       "      requirejs.config({paths});\n",
       "      require([\"vega-embed\"], displayChart, err => showError(`Error loading script: ${err.message}`));\n",
       "    } else if (typeof vegaEmbed === \"function\") {\n",
       "      displayChart(vegaEmbed);\n",
       "    } else {\n",
       "      loadScript(\"vega\")\n",
       "        .then(() => loadScript(\"vega-lite\"))\n",
       "        .then(() => loadScript(\"vega-embed\"))\n",
       "        .catch(showError)\n",
       "        .then(() => displayChart(vegaEmbed));\n",
       "    }\n",
       "  })({\"config\": {\"view\": {\"continuousWidth\": 400, \"continuousHeight\": 300}}, \"layer\": [{\"data\": {\"name\": \"data-0897343b67312530f6af29a0d08bc012\"}, \"mark\": \"line\", \"encoding\": {\"tooltip\": {\"type\": \"quantitative\", \"field\": \"new_cases_Denmark\", \"format\": \".1f\"}, \"x\": {\"type\": \"temporal\", \"field\": \"date\"}, \"y\": {\"type\": \"quantitative\", \"field\": \"new_cases_Denmark\"}}, \"height\": 300, \"selection\": {\"selector006\": {\"type\": \"interval\", \"bind\": \"scales\", \"encodings\": [\"x\", \"y\"]}}, \"width\": 800}, {\"data\": {\"name\": \"data-b4bf6041fe7d251784200ce10e0ed837\"}, \"mark\": {\"type\": \"line\", \"color\": \"orange\"}, \"encoding\": {\"tooltip\": {\"type\": \"quantitative\", \"field\": \"new_cases_forecast\", \"format\": \".1f\"}, \"x\": {\"type\": \"temporal\", \"axis\": {\"title\": \"Date\", \"titleAlign\": \"right\", \"titleFontWeight\": \"normal\"}, \"field\": \"index\"}, \"y\": {\"type\": \"quantitative\", \"axis\": {\"title\": \"New coronavirus cases\"}, \"field\": \"new_cases_forecast\"}}, \"height\": 300, \"selection\": {\"selector008\": {\"type\": \"interval\", \"bind\": \"scales\", \"encodings\": [\"x\", \"y\"]}}, \"width\": 800}, {\"data\": {\"name\": \"data-76658c5cb1a852b7fa0b66a8c87c0fed\"}, \"mark\": {\"type\": \"line\", \"opacity\": 0.5, \"size\": 1.2}, \"encoding\": {\"x\": {\"type\": \"temporal\", \"field\": \"index\"}, \"y\": {\"type\": \"quantitative\", \"field\": \"new_cases_Denmark\"}}}, {\"data\": {\"name\": \"data-ec34d2a09ea49708e7c88be94318d50f\"}, \"mark\": {\"type\": \"area\", \"color\": \"orange\", \"opacity\": 0.2}, \"encoding\": {\"x\": {\"type\": \"temporal\", \"field\": \"index\"}, \"y\": {\"type\": \"quantitative\", \"field\": \"new_cases_forecast_ll\"}, \"y2\": {\"field\": \"new_cases_forecast_ul\"}}}], \"$schema\": \"https://vega.github.io/schema/vega-lite/v4.8.1.json\", \"datasets\": {\"data-0897343b67312530f6af29a0d08bc012\": [{\"date\": \"2020-01-01T00:00:00\", \"new_cases_Denmark\": 0.0}, {\"date\": \"2020-01-02T00:00:00\", \"new_cases_Denmark\": 0.0}, {\"date\": \"2020-01-03T00:00:00\", \"new_cases_Denmark\": 0.0}, {\"date\": \"2020-01-04T00:00:00\", \"new_cases_Denmark\": 0.0}, {\"date\": \"2020-01-05T00:00:00\", \"new_cases_Denmark\": 0.0}, {\"date\": \"2020-01-06T00:00:00\", \"new_cases_Denmark\": 0.0}, {\"date\": \"2020-01-07T00:00:00\", \"new_cases_Denmark\": 0.0}, {\"date\": \"2020-01-08T00:00:00\", \"new_cases_Denmark\": 0.0}, {\"date\": \"2020-01-09T00:00:00\", \"new_cases_Denmark\": 0.0}, {\"date\": \"2020-01-10T00:00:00\", \"new_cases_Denmark\": 0.0}, {\"date\": \"2020-01-11T00:00:00\", \"new_cases_Denmark\": 0.0}, {\"date\": \"2020-01-12T00:00:00\", \"new_cases_Denmark\": 0.0}, {\"date\": \"2020-01-13T00:00:00\", \"new_cases_Denmark\": 0.0}, {\"date\": \"2020-01-14T00:00:00\", \"new_cases_Denmark\": 0.0}, {\"date\": \"2020-01-15T00:00:00\", \"new_cases_Denmark\": 0.0}, {\"date\": \"2020-01-16T00:00:00\", \"new_cases_Denmark\": 0.0}, {\"date\": \"2020-01-17T00:00:00\", \"new_cases_Denmark\": 0.0}, {\"date\": \"2020-01-18T00:00:00\", \"new_cases_Denmark\": 0.0}, {\"date\": \"2020-01-19T00:00:00\", \"new_cases_Denmark\": 0.0}, {\"date\": \"2020-01-20T00:00:00\", \"new_cases_Denmark\": 0.0}, {\"date\": \"2020-01-21T00:00:00\", \"new_cases_Denmark\": 0.0}, {\"date\": \"2020-01-22T00:00:00\", \"new_cases_Denmark\": 0.0}, {\"date\": \"2020-01-23T00:00:00\", \"new_cases_Denmark\": 0.0}, {\"date\": \"2020-01-24T00:00:00\", \"new_cases_Denmark\": 0.0}, {\"date\": \"2020-01-25T00:00:00\", \"new_cases_Denmark\": 0.0}, {\"date\": \"2020-01-26T00:00:00\", \"new_cases_Denmark\": 0.0}, {\"date\": \"2020-01-27T00:00:00\", \"new_cases_Denmark\": 0.0}, {\"date\": \"2020-01-28T00:00:00\", \"new_cases_Denmark\": 0.0}, {\"date\": \"2020-01-29T00:00:00\", \"new_cases_Denmark\": 0.0}, {\"date\": \"2020-01-30T00:00:00\", \"new_cases_Denmark\": 0.0}, {\"date\": \"2020-01-31T00:00:00\", \"new_cases_Denmark\": 0.0}, {\"date\": \"2020-02-01T00:00:00\", \"new_cases_Denmark\": 0.0}, {\"date\": \"2020-02-02T00:00:00\", \"new_cases_Denmark\": 0.0}, {\"date\": \"2020-02-03T00:00:00\", \"new_cases_Denmark\": 0.0}, {\"date\": \"2020-02-04T00:00:00\", \"new_cases_Denmark\": 0.0}, {\"date\": \"2020-02-05T00:00:00\", \"new_cases_Denmark\": 0.0}, {\"date\": \"2020-02-06T00:00:00\", \"new_cases_Denmark\": 0.0}, {\"date\": \"2020-02-07T00:00:00\", \"new_cases_Denmark\": 0.0}, {\"date\": \"2020-02-08T00:00:00\", \"new_cases_Denmark\": 0.0}, {\"date\": \"2020-02-09T00:00:00\", \"new_cases_Denmark\": 0.0}, {\"date\": \"2020-02-10T00:00:00\", \"new_cases_Denmark\": 0.0}, {\"date\": \"2020-02-11T00:00:00\", \"new_cases_Denmark\": 0.0}, {\"date\": \"2020-02-12T00:00:00\", \"new_cases_Denmark\": 0.0}, {\"date\": \"2020-02-13T00:00:00\", \"new_cases_Denmark\": 0.0}, {\"date\": \"2020-02-14T00:00:00\", \"new_cases_Denmark\": 0.0}, {\"date\": \"2020-02-15T00:00:00\", \"new_cases_Denmark\": 0.0}, {\"date\": \"2020-02-16T00:00:00\", \"new_cases_Denmark\": 0.0}, {\"date\": \"2020-02-17T00:00:00\", \"new_cases_Denmark\": 0.0}, {\"date\": \"2020-02-18T00:00:00\", \"new_cases_Denmark\": 0.0}, {\"date\": \"2020-02-19T00:00:00\", \"new_cases_Denmark\": 0.0}, {\"date\": \"2020-02-20T00:00:00\", \"new_cases_Denmark\": 0.0}, {\"date\": \"2020-02-21T00:00:00\", \"new_cases_Denmark\": 0.0}, {\"date\": \"2020-02-22T00:00:00\", \"new_cases_Denmark\": 0.0}, {\"date\": \"2020-02-23T00:00:00\", \"new_cases_Denmark\": 0.0}, {\"date\": \"2020-02-24T00:00:00\", \"new_cases_Denmark\": 0.0}, {\"date\": \"2020-02-25T00:00:00\", \"new_cases_Denmark\": 0.0}, {\"date\": \"2020-02-26T00:00:00\", \"new_cases_Denmark\": 0.0}, {\"date\": \"2020-02-27T00:00:00\", \"new_cases_Denmark\": 0.14285714285714285}, {\"date\": \"2020-02-28T00:00:00\", \"new_cases_Denmark\": 0.14285714285714285}, {\"date\": \"2020-02-29T00:00:00\", \"new_cases_Denmark\": 0.2857142857142857}, {\"date\": \"2020-03-01T00:00:00\", \"new_cases_Denmark\": 0.42857142857142855}, {\"date\": \"2020-03-02T00:00:00\", \"new_cases_Denmark\": 0.5714285714285714}, {\"date\": \"2020-03-03T00:00:00\", \"new_cases_Denmark\": 0.7142857142857143}, {\"date\": \"2020-03-04T00:00:00\", \"new_cases_Denmark\": 1.1428571428571428}, {\"date\": \"2020-03-05T00:00:00\", \"new_cases_Denmark\": 1.2857142857142858}, {\"date\": \"2020-03-06T00:00:00\", \"new_cases_Denmark\": 2.7142857142857144}, {\"date\": \"2020-03-07T00:00:00\", \"new_cases_Denmark\": 3.0}, {\"date\": \"2020-03-08T00:00:00\", \"new_cases_Denmark\": 4.0}, {\"date\": \"2020-03-09T00:00:00\", \"new_cases_Denmark\": 4.857142857142857}, {\"date\": \"2020-03-10T00:00:00\", \"new_cases_Denmark\": 15.428571428571427}, {\"date\": \"2020-03-11T00:00:00\", \"new_cases_Denmark\": 36.57142857142857}, {\"date\": \"2020-03-12T00:00:00\", \"new_cases_Denmark\": 72.28571428571429}, {\"date\": \"2020-03-13T00:00:00\", \"new_cases_Denmark\": 93.71428571428572}, {\"date\": \"2020-03-14T00:00:00\", \"new_cases_Denmark\": 111.57142857142857}, {\"date\": \"2020-03-15T00:00:00\", \"new_cases_Denmark\": 113.71428571428572}, {\"date\": \"2020-03-16T00:00:00\", \"new_cases_Denmark\": 119.57142857142857}, {\"date\": \"2020-03-17T00:00:00\", \"new_cases_Denmark\": 117.0}, {\"date\": \"2020-03-18T00:00:00\", \"new_cases_Denmark\": 108.57142857142857}, {\"date\": \"2020-03-19T00:00:00\", \"new_cases_Denmark\": 85.57142857142857}, {\"date\": \"2020-03-20T00:00:00\", \"new_cases_Denmark\": 67.85714285714286}, {\"date\": \"2020-03-21T00:00:00\", \"new_cases_Denmark\": 64.42857142857143}, {\"date\": \"2020-03-22T00:00:00\", \"new_cases_Denmark\": 71.28571428571429}, {\"date\": \"2020-03-23T00:00:00\", \"new_cases_Denmark\": 74.28571428571429}, {\"date\": \"2020-03-24T00:00:00\", \"new_cases_Denmark\": 75.42857142857143}, {\"date\": \"2020-03-25T00:00:00\", \"new_cases_Denmark\": 81.0}, {\"date\": \"2020-03-26T00:00:00\", \"new_cases_Denmark\": 87.0}, {\"date\": \"2020-03-27T00:00:00\", \"new_cases_Denmark\": 103.71428571428572}, {\"date\": \"2020-03-28T00:00:00\", \"new_cases_Denmark\": 113.0}, {\"date\": \"2020-03-29T00:00:00\", \"new_cases_Denmark\": 125.0}, {\"date\": \"2020-03-30T00:00:00\", \"new_cases_Denmark\": 142.85714285714286}, {\"date\": \"2020-03-31T00:00:00\", \"new_cases_Denmark\": 159.57142857142858}, {\"date\": \"2020-04-01T00:00:00\", \"new_cases_Denmark\": 181.28571428571428}, {\"date\": \"2020-04-02T00:00:00\", \"new_cases_Denmark\": 197.57142857142856}, {\"date\": \"2020-04-03T00:00:00\", \"new_cases_Denmark\": 215.57142857142856}, {\"date\": \"2020-04-04T00:00:00\", \"new_cases_Denmark\": 244.42857142857144}, {\"date\": \"2020-04-05T00:00:00\", \"new_cases_Denmark\": 268.0}, {\"date\": \"2020-04-06T00:00:00\", \"new_cases_Denmark\": 282.0}, {\"date\": \"2020-04-07T00:00:00\", \"new_cases_Denmark\": 300.57142857142856}, {\"date\": \"2020-04-08T00:00:00\", \"new_cases_Denmark\": 315.85714285714283}, {\"date\": \"2020-04-09T00:00:00\", \"new_cases_Denmark\": 327.85714285714283}, {\"date\": \"2020-04-10T00:00:00\", \"new_cases_Denmark\": 321.2857142857143}, {\"date\": \"2020-04-11T00:00:00\", \"new_cases_Denmark\": 294.57142857142856}, {\"date\": \"2020-04-12T00:00:00\", \"new_cases_Denmark\": 274.14285714285717}, {\"date\": \"2020-04-13T00:00:00\", \"new_cases_Denmark\": 257.85714285714283}, {\"date\": \"2020-04-14T00:00:00\", \"new_cases_Denmark\": 233.85714285714286}, {\"date\": \"2020-04-15T00:00:00\", \"new_cases_Denmark\": 205.7142857142857}, {\"date\": \"2020-04-16T00:00:00\", \"new_cases_Denmark\": 182.7142857142857}, {\"date\": \"2020-04-17T00:00:00\", \"new_cases_Denmark\": 177.71428571428572}, {\"date\": \"2020-04-18T00:00:00\", \"new_cases_Denmark\": 179.14285714285714}, {\"date\": \"2020-04-19T00:00:00\", \"new_cases_Denmark\": 178.0}, {\"date\": \"2020-04-20T00:00:00\", \"new_cases_Denmark\": 172.85714285714286}, {\"date\": \"2020-04-21T00:00:00\", \"new_cases_Denmark\": 171.0}, {\"date\": \"2020-04-22T00:00:00\", \"new_cases_Denmark\": 169.14285714285714}, {\"date\": \"2020-04-23T00:00:00\", \"new_cases_Denmark\": 175.85714285714286}, {\"date\": \"2020-04-24T00:00:00\", \"new_cases_Denmark\": 170.57142857142858}, {\"date\": \"2020-04-25T00:00:00\", \"new_cases_Denmark\": 162.42857142857142}, {\"date\": \"2020-04-26T00:00:00\", \"new_cases_Denmark\": 171.85714285714286}, {\"date\": \"2020-04-27T00:00:00\", \"new_cases_Denmark\": 170.14285714285714}, {\"date\": \"2020-04-28T00:00:00\", \"new_cases_Denmark\": 169.0}, {\"date\": \"2020-04-29T00:00:00\", \"new_cases_Denmark\": 165.14285714285714}, {\"date\": \"2020-04-30T00:00:00\", \"new_cases_Denmark\": 156.57142857142858}, {\"date\": \"2020-05-01T00:00:00\", \"new_cases_Denmark\": 155.0}, {\"date\": \"2020-05-02T00:00:00\", \"new_cases_Denmark\": 157.28571428571428}, {\"date\": \"2020-05-03T00:00:00\", \"new_cases_Denmark\": 137.42857142857142}, {\"date\": \"2020-05-04T00:00:00\", \"new_cases_Denmark\": 135.42857142857142}, {\"date\": \"2020-05-05T00:00:00\", \"new_cases_Denmark\": 138.85714285714286}, {\"date\": \"2020-05-06T00:00:00\", \"new_cases_Denmark\": 138.57142857142858}, {\"date\": \"2020-05-07T00:00:00\", \"new_cases_Denmark\": 139.28571428571428}, {\"date\": \"2020-05-08T00:00:00\", \"new_cases_Denmark\": 132.14285714285714}, {\"date\": \"2020-05-09T00:00:00\", \"new_cases_Denmark\": 129.57142857142858}, {\"date\": \"2020-05-10T00:00:00\", \"new_cases_Denmark\": 130.28571428571428}, {\"date\": \"2020-05-11T00:00:00\", \"new_cases_Denmark\": 129.42857142857142}, {\"date\": \"2020-05-12T00:00:00\", \"new_cases_Denmark\": 120.42857142857143}, {\"date\": \"2020-05-13T00:00:00\", \"new_cases_Denmark\": 110.0}, {\"date\": \"2020-05-14T00:00:00\", \"new_cases_Denmark\": 97.71428571428572}, {\"date\": \"2020-05-15T00:00:00\", \"new_cases_Denmark\": 90.0}, {\"date\": \"2020-05-16T00:00:00\", \"new_cases_Denmark\": 81.85714285714286}, {\"date\": \"2020-05-17T00:00:00\", \"new_cases_Denmark\": 77.0}, {\"date\": \"2020-05-18T00:00:00\", \"new_cases_Denmark\": 71.14285714285714}, {\"date\": \"2020-05-19T00:00:00\", \"new_cases_Denmark\": 65.0}, {\"date\": \"2020-05-20T00:00:00\", \"new_cases_Denmark\": 64.71428571428571}, {\"date\": \"2020-05-21T00:00:00\", \"new_cases_Denmark\": 64.28571428571429}, {\"date\": \"2020-05-22T00:00:00\", \"new_cases_Denmark\": 67.0}, {\"date\": \"2020-05-23T00:00:00\", \"new_cases_Denmark\": 62.714285714285715}, {\"date\": \"2020-05-24T00:00:00\", \"new_cases_Denmark\": 61.57142857142857}, {\"date\": \"2020-05-25T00:00:00\", \"new_cases_Denmark\": 61.85714285714285}, {\"date\": \"2020-05-26T00:00:00\", \"new_cases_Denmark\": 59.85714285714285}, {\"date\": \"2020-05-27T00:00:00\", \"new_cases_Denmark\": 54.85714285714285}, {\"date\": \"2020-05-28T00:00:00\", \"new_cases_Denmark\": 51.85714285714285}, {\"date\": \"2020-05-29T00:00:00\", \"new_cases_Denmark\": 47.14285714285714}, {\"date\": \"2020-05-30T00:00:00\", \"new_cases_Denmark\": 51.85714285714285}, {\"date\": \"2020-05-31T00:00:00\", \"new_cases_Denmark\": 49.14285714285714}, {\"date\": \"2020-06-01T00:00:00\", \"new_cases_Denmark\": 44.14285714285715}, {\"date\": \"2020-06-02T00:00:00\", \"new_cases_Denmark\": 44.57142857142857}, {\"date\": \"2020-06-03T00:00:00\", \"new_cases_Denmark\": 43.714285714285715}, {\"date\": \"2020-06-04T00:00:00\", \"new_cases_Denmark\": 41.57142857142857}, {\"date\": \"2020-06-05T00:00:00\", \"new_cases_Denmark\": 42.714285714285715}, {\"date\": \"2020-06-06T00:00:00\", \"new_cases_Denmark\": 40.285714285714285}, {\"date\": \"2020-06-07T00:00:00\", \"new_cases_Denmark\": 41.57142857142857}, {\"date\": \"2020-06-08T00:00:00\", \"new_cases_Denmark\": 39.857142857142854}, {\"date\": \"2020-06-09T00:00:00\", \"new_cases_Denmark\": 37.57142857142857}, {\"date\": \"2020-06-10T00:00:00\", \"new_cases_Denmark\": 38.142857142857146}, {\"date\": \"2020-06-11T00:00:00\", \"new_cases_Denmark\": 35.0}, {\"date\": \"2020-06-12T00:00:00\", \"new_cases_Denmark\": 32.0}, {\"date\": \"2020-06-13T00:00:00\", \"new_cases_Denmark\": 32.0}, {\"date\": \"2020-06-14T00:00:00\", \"new_cases_Denmark\": 30.714285714285715}, {\"date\": \"2020-06-15T00:00:00\", \"new_cases_Denmark\": 35.0}, {\"date\": \"2020-06-16T00:00:00\", \"new_cases_Denmark\": 36.42857142857143}, {\"date\": \"2020-06-17T00:00:00\", \"new_cases_Denmark\": 35.57142857142857}, {\"date\": \"2020-06-18T00:00:00\", \"new_cases_Denmark\": 39.714285714285715}, {\"date\": \"2020-06-19T00:00:00\", \"new_cases_Denmark\": 44.14285714285715}, {\"date\": \"2020-06-20T00:00:00\", \"new_cases_Denmark\": 41.714285714285715}, {\"date\": \"2020-06-21T00:00:00\", \"new_cases_Denmark\": 36.0}, {\"date\": \"2020-06-22T00:00:00\", \"new_cases_Denmark\": 28.285714285714285}, {\"date\": \"2020-06-23T00:00:00\", \"new_cases_Denmark\": 44.28571428571429}, {\"date\": \"2020-06-24T00:00:00\", \"new_cases_Denmark\": 44.42857142857143}, {\"date\": \"2020-06-25T00:00:00\", \"new_cases_Denmark\": 45.85714285714285}, {\"date\": \"2020-06-26T00:00:00\", \"new_cases_Denmark\": 41.714285714285715}, {\"date\": \"2020-06-27T00:00:00\", \"new_cases_Denmark\": 40.57142857142857}, {\"date\": \"2020-06-28T00:00:00\", \"new_cases_Denmark\": 40.57142857142857}, {\"date\": \"2020-06-29T00:00:00\", \"new_cases_Denmark\": 40.57142857142857}, {\"date\": \"2020-06-30T00:00:00\", \"new_cases_Denmark\": 32.0}, {\"date\": \"2020-07-01T00:00:00\", \"new_cases_Denmark\": 29.57142857142857}, {\"date\": \"2020-07-02T00:00:00\", \"new_cases_Denmark\": 25.57142857142857}, {\"date\": \"2020-07-03T00:00:00\", \"new_cases_Denmark\": 25.57142857142857}, {\"date\": \"2020-07-04T00:00:00\", \"new_cases_Denmark\": 22.428571428571423}, {\"date\": \"2020-07-05T00:00:00\", \"new_cases_Denmark\": 22.428571428571423}, {\"date\": \"2020-07-06T00:00:00\", \"new_cases_Denmark\": 22.428571428571423}, {\"date\": \"2020-07-07T00:00:00\", \"new_cases_Denmark\": 18.142857142857142}, {\"date\": \"2020-07-08T00:00:00\", \"new_cases_Denmark\": 17.142857142857142}, {\"date\": \"2020-07-09T00:00:00\", \"new_cases_Denmark\": 15.142857142857142}, {\"date\": \"2020-07-10T00:00:00\", \"new_cases_Denmark\": 14.428571428571427}, {\"date\": \"2020-07-11T00:00:00\", \"new_cases_Denmark\": 16.285714285714285}, {\"date\": \"2020-07-12T00:00:00\", \"new_cases_Denmark\": 16.285714285714285}, {\"date\": \"2020-07-13T00:00:00\", \"new_cases_Denmark\": 16.285714285714285}, {\"date\": \"2020-07-14T00:00:00\", \"new_cases_Denmark\": 22.714285714285715}, {\"date\": \"2020-07-15T00:00:00\", \"new_cases_Denmark\": 24.714285714285715}, {\"date\": \"2020-07-16T00:00:00\", \"new_cases_Denmark\": 27.42857142857143}, {\"date\": \"2020-07-17T00:00:00\", \"new_cases_Denmark\": 29.714285714285715}, {\"date\": \"2020-07-18T00:00:00\", \"new_cases_Denmark\": 32.42857142857143}, {\"date\": \"2020-07-19T00:00:00\", \"new_cases_Denmark\": 32.42857142857143}, {\"date\": \"2020-07-20T00:00:00\", \"new_cases_Denmark\": 32.42857142857143}, {\"date\": \"2020-07-21T00:00:00\", \"new_cases_Denmark\": 32.142857142857146}, {\"date\": \"2020-07-22T00:00:00\", \"new_cases_Denmark\": 34.42857142857143}, {\"date\": \"2020-07-23T00:00:00\", \"new_cases_Denmark\": 36.857142857142854}, {\"date\": \"2020-07-24T00:00:00\", \"new_cases_Denmark\": 38.0}, {\"date\": \"2020-07-25T00:00:00\", \"new_cases_Denmark\": 37.857142857142854}, {\"date\": \"2020-07-26T00:00:00\", \"new_cases_Denmark\": 37.857142857142854}, {\"date\": \"2020-07-27T00:00:00\", \"new_cases_Denmark\": 37.857142857142854}, {\"date\": \"2020-07-28T00:00:00\", \"new_cases_Denmark\": 40.714285714285715}, {\"date\": \"2020-07-29T00:00:00\", \"new_cases_Denmark\": 39.285714285714285}, {\"date\": \"2020-07-30T00:00:00\", \"new_cases_Denmark\": 40.57142857142857}, {\"date\": \"2020-07-31T00:00:00\", \"new_cases_Denmark\": 47.85714285714285}, {\"date\": \"2020-08-01T00:00:00\", \"new_cases_Denmark\": 50.14285714285714}, {\"date\": \"2020-08-02T00:00:00\", \"new_cases_Denmark\": 50.14285714285714}, {\"date\": \"2020-08-03T00:00:00\", \"new_cases_Denmark\": 50.14285714285714}, {\"date\": \"2020-08-04T00:00:00\", \"new_cases_Denmark\": 64.14285714285714}, {\"date\": \"2020-08-05T00:00:00\", \"new_cases_Denmark\": 70.85714285714286}, {\"date\": \"2020-08-06T00:00:00\", \"new_cases_Denmark\": 78.71428571428571}, {\"date\": \"2020-08-07T00:00:00\", \"new_cases_Denmark\": 83.0}, {\"date\": \"2020-08-08T00:00:00\", \"new_cases_Denmark\": 93.28571428571428}, {\"date\": \"2020-08-09T00:00:00\", \"new_cases_Denmark\": 93.28571428571428}, {\"date\": \"2020-08-10T00:00:00\", \"new_cases_Denmark\": 93.28571428571428}, {\"date\": \"2020-08-11T00:00:00\", \"new_cases_Denmark\": 117.0}, {\"date\": \"2020-08-12T00:00:00\", \"new_cases_Denmark\": 126.57142857142857}, {\"date\": \"2020-08-13T00:00:00\", \"new_cases_Denmark\": 126.42857142857143}, {\"date\": \"2020-08-14T00:00:00\", \"new_cases_Denmark\": 129.71428571428572}, {\"date\": \"2020-08-15T00:00:00\", \"new_cases_Denmark\": 133.85714285714286}, {\"date\": \"2020-08-16T00:00:00\", \"new_cases_Denmark\": 148.71428571428572}, {\"date\": \"2020-08-17T00:00:00\", \"new_cases_Denmark\": 167.85714285714286}, {\"date\": \"2020-08-18T00:00:00\", \"new_cases_Denmark\": 132.14285714285714}, {\"date\": \"2020-08-19T00:00:00\", \"new_cases_Denmark\": 128.0}, {\"date\": \"2020-08-20T00:00:00\", \"new_cases_Denmark\": 124.28571428571428}, {\"date\": \"2020-08-21T00:00:00\", \"new_cases_Denmark\": 120.28571428571428}, {\"date\": \"2020-08-22T00:00:00\", \"new_cases_Denmark\": 106.85714285714286}, {\"date\": \"2020-08-23T00:00:00\", \"new_cases_Denmark\": 92.0}, {\"date\": \"2020-08-24T00:00:00\", \"new_cases_Denmark\": 72.85714285714286}, {\"date\": \"2020-08-25T00:00:00\", \"new_cases_Denmark\": 93.85714285714286}, {\"date\": \"2020-08-26T00:00:00\", \"new_cases_Denmark\": 89.2857142857143}, {\"date\": \"2020-08-27T00:00:00\", \"new_cases_Denmark\": 85.28571428571429}, {\"date\": \"2020-08-28T00:00:00\", \"new_cases_Denmark\": 81.57142857142857}, {\"date\": \"2020-08-29T00:00:00\", \"new_cases_Denmark\": 81.85714285714286}, {\"date\": \"2020-08-30T00:00:00\", \"new_cases_Denmark\": 81.85714285714286}, {\"date\": \"2020-08-31T00:00:00\", \"new_cases_Denmark\": 81.85714285714286}, {\"date\": \"2020-09-01T00:00:00\", \"new_cases_Denmark\": 84.0}, {\"date\": \"2020-09-02T00:00:00\", \"new_cases_Denmark\": 86.2857142857143}, {\"date\": \"2020-09-03T00:00:00\", \"new_cases_Denmark\": 94.0}, {\"date\": \"2020-09-04T00:00:00\", \"new_cases_Denmark\": 106.71428571428572}, {\"date\": \"2020-09-05T00:00:00\", \"new_cases_Denmark\": 121.0}, {\"date\": \"2020-09-06T00:00:00\", \"new_cases_Denmark\": 121.0}, {\"date\": \"2020-09-07T00:00:00\", \"new_cases_Denmark\": 121.0}, {\"date\": \"2020-09-08T00:00:00\", \"new_cases_Denmark\": 161.14285714285714}, {\"date\": \"2020-09-09T00:00:00\", \"new_cases_Denmark\": 181.7142857142857}, {\"date\": \"2020-09-10T00:00:00\", \"new_cases_Denmark\": 201.7142857142857}, {\"date\": \"2020-09-11T00:00:00\", \"new_cases_Denmark\": 221.42857142857144}, {\"date\": \"2020-09-12T00:00:00\", \"new_cases_Denmark\": 238.42857142857144}, {\"date\": \"2020-09-13T00:00:00\", \"new_cases_Denmark\": 238.42857142857144}, {\"date\": \"2020-09-14T00:00:00\", \"new_cases_Denmark\": 238.42857142857144}, {\"date\": \"2020-09-15T00:00:00\", \"new_cases_Denmark\": 241.0}, {\"date\": \"2020-09-16T00:00:00\", \"new_cases_Denmark\": 253.28571428571428}, {\"date\": \"2020-09-17T00:00:00\", \"new_cases_Denmark\": 280.57142857142856}, {\"date\": \"2020-09-18T00:00:00\", \"new_cases_Denmark\": 352.71428571428567}, {\"date\": \"2020-09-19T00:00:00\", \"new_cases_Denmark\": 375.8571428571428}, {\"date\": \"2020-09-20T00:00:00\", \"new_cases_Denmark\": 375.8571428571428}, {\"date\": \"2020-09-21T00:00:00\", \"new_cases_Denmark\": 375.8571428571428}], \"data-b4bf6041fe7d251784200ce10e0ed837\": [{\"index\": \"2020-09-22T00:00:00\", \"new_cases_forecast\": 397.18954414484426}, {\"index\": \"2020-09-23T00:00:00\", \"new_cases_forecast\": 421.65921436556494}, {\"index\": \"2020-09-24T00:00:00\", \"new_cases_forecast\": 423.5591077814349}, {\"index\": \"2020-09-25T00:00:00\", \"new_cases_forecast\": 423.31869843558917}, {\"index\": \"2020-09-26T00:00:00\", \"new_cases_forecast\": 432.2162465466595}, {\"index\": \"2020-09-27T00:00:00\", \"new_cases_forecast\": 447.5390735368598}, {\"index\": \"2020-09-28T00:00:00\", \"new_cases_forecast\": 456.89056406505273}, {\"index\": \"2020-09-29T00:00:00\", \"new_cases_forecast\": 458.92189029335793}, {\"index\": \"2020-09-30T00:00:00\", \"new_cases_forecast\": 464.68603362442497}, {\"index\": \"2020-10-01T00:00:00\", \"new_cases_forecast\": 475.2119798506379}, {\"index\": \"2020-10-02T00:00:00\", \"new_cases_forecast\": 485.08765180370443}, {\"index\": \"2020-10-03T00:00:00\", \"new_cases_forecast\": 490.97805007952303}, {\"index\": \"2020-10-04T00:00:00\", \"new_cases_forecast\": 496.20053848765593}, {\"index\": \"2020-10-05T00:00:00\", \"new_cases_forecast\": 504.3796665788974}], \"data-76658c5cb1a852b7fa0b66a8c87c0fed\": [{\"index\": \"2020-09-21T00:00:00\", \"new_cases_Denmark\": 375.8571428571428}, {\"index\": \"2020-09-22T00:00:00\", \"new_cases_Denmark\": 397.18954414484426}], \"data-ec34d2a09ea49708e7c88be94318d50f\": [{\"index\": \"2020-09-22T00:00:00\", \"new_cases_forecast_ll\": 387.2077229876536, \"new_cases_forecast_ul\": 407.1713653020349}, {\"index\": \"2020-09-23T00:00:00\", \"new_cases_forecast_ll\": 402.2333438388919, \"new_cases_forecast_ul\": 441.085084892238}, {\"index\": \"2020-09-24T00:00:00\", \"new_cases_forecast_ll\": 394.60158397795936, \"new_cases_forecast_ul\": 452.51663158491033}, {\"index\": \"2020-09-25T00:00:00\", \"new_cases_forecast_ll\": 383.9628442849878, \"new_cases_forecast_ul\": 462.67455258619054}, {\"index\": \"2020-09-26T00:00:00\", \"new_cases_forecast_ll\": 380.4283260836143, \"new_cases_forecast_ul\": 484.0041670097047}, {\"index\": \"2020-09-27T00:00:00\", \"new_cases_forecast_ll\": 380.5229356560666, \"new_cases_forecast_ul\": 514.555211417653}, {\"index\": \"2020-09-28T00:00:00\", \"new_cases_forecast_ll\": 373.7932054482147, \"new_cases_forecast_ul\": 539.9879226818907}, {\"index\": \"2020-09-29T00:00:00\", \"new_cases_forecast_ll\": 359.14022351196786, \"new_cases_forecast_ul\": 558.7035570747481}, {\"index\": \"2020-09-30T00:00:00\", \"new_cases_forecast_ll\": 347.08859156105035, \"new_cases_forecast_ul\": 582.2834756877995}, {\"index\": \"2020-10-01T00:00:00\", \"new_cases_forecast_ll\": 338.3398639772583, \"new_cases_forecast_ul\": 612.0840957240174}, {\"index\": \"2020-10-02T00:00:00\", \"new_cases_forecast_ll\": 327.72819544222136, \"new_cases_forecast_ul\": 642.4471081651876}, {\"index\": \"2020-10-03T00:00:00\", \"new_cases_forecast_ll\": 312.4590215384781, \"new_cases_forecast_ul\": 669.497078620568}, {\"index\": \"2020-10-04T00:00:00\", \"new_cases_forecast_ll\": 295.7382124165595, \"new_cases_forecast_ul\": 696.6628645587524}, {\"index\": \"2020-10-05T00:00:00\", \"new_cases_forecast_ll\": 280.96753894290345, \"new_cases_forecast_ul\": 727.7917942148914}]}}, {\"mode\": \"vega-lite\"});\n",
       "</script>"
      ],
      "text/plain": [
       "alt.LayerChart(...)"
      ]
     },
     "execution_count": 47,
     "metadata": {},
     "output_type": "execute_result"
    }
   ],
   "source": [
    "past_plt + future_plt + test + confint_plot"
   ]
  },
  {
   "cell_type": "code",
   "execution_count": 30,
   "metadata": {},
   "outputs": [
    {
     "data": {
      "text/html": [
       "\n",
       "<div id=\"altair-viz-0f4f38fe5c654336be89ffc02e8654ad\"></div>\n",
       "<script type=\"text/javascript\">\n",
       "  (function(spec, embedOpt){\n",
       "    let outputDiv = document.currentScript.previousElementSibling;\n",
       "    if (outputDiv.id !== \"altair-viz-0f4f38fe5c654336be89ffc02e8654ad\") {\n",
       "      outputDiv = document.getElementById(\"altair-viz-0f4f38fe5c654336be89ffc02e8654ad\");\n",
       "    }\n",
       "    const paths = {\n",
       "      \"vega\": \"https://cdn.jsdelivr.net/npm//vega@5?noext\",\n",
       "      \"vega-lib\": \"https://cdn.jsdelivr.net/npm//vega-lib?noext\",\n",
       "      \"vega-lite\": \"https://cdn.jsdelivr.net/npm//vega-lite@4.8.1?noext\",\n",
       "      \"vega-embed\": \"https://cdn.jsdelivr.net/npm//vega-embed@6?noext\",\n",
       "    };\n",
       "\n",
       "    function loadScript(lib) {\n",
       "      return new Promise(function(resolve, reject) {\n",
       "        var s = document.createElement('script');\n",
       "        s.src = paths[lib];\n",
       "        s.async = true;\n",
       "        s.onload = () => resolve(paths[lib]);\n",
       "        s.onerror = () => reject(`Error loading script: ${paths[lib]}`);\n",
       "        document.getElementsByTagName(\"head\")[0].appendChild(s);\n",
       "      });\n",
       "    }\n",
       "\n",
       "    function showError(err) {\n",
       "      outputDiv.innerHTML = `<div class=\"error\" style=\"color:red;\">${err}</div>`;\n",
       "      throw err;\n",
       "    }\n",
       "\n",
       "    function displayChart(vegaEmbed) {\n",
       "      vegaEmbed(outputDiv, spec, embedOpt)\n",
       "        .catch(err => showError(`Javascript Error: ${err.message}<br>This usually means there's a typo in your chart specification. See the javascript console for the full traceback.`));\n",
       "    }\n",
       "\n",
       "    if(typeof define === \"function\" && define.amd) {\n",
       "      requirejs.config({paths});\n",
       "      require([\"vega-embed\"], displayChart, err => showError(`Error loading script: ${err.message}`));\n",
       "    } else if (typeof vegaEmbed === \"function\") {\n",
       "      displayChart(vegaEmbed);\n",
       "    } else {\n",
       "      loadScript(\"vega\")\n",
       "        .then(() => loadScript(\"vega-lite\"))\n",
       "        .then(() => loadScript(\"vega-embed\"))\n",
       "        .catch(showError)\n",
       "        .then(() => displayChart(vegaEmbed));\n",
       "    }\n",
       "  })({\"config\": {\"view\": {\"continuousWidth\": 400, \"continuousHeight\": 300}}, \"data\": {\"name\": \"data-3bbf9f4ba5778906a8c25a25e27f8f34\"}, \"mark\": {\"type\": \"area\", \"color\": \"orange\", \"opacity\": 0.2}, \"encoding\": {\"x\": {\"type\": \"temporal\", \"field\": \"index\"}, \"y\": {\"type\": \"quantitative\", \"field\": \"new_cases_forecast_ll\"}, \"y2\": {\"field\": \"new_cases_forecast_ul\"}}, \"$schema\": \"https://vega.github.io/schema/vega-lite/v4.8.1.json\", \"datasets\": {\"data-3bbf9f4ba5778906a8c25a25e27f8f34\": [{\"index\": \"2020-09-16T00:00:00\", \"new_cases_forecast_ll\": 229.18632535390464, \"new_cases_forecast_ul\": 256.4455655738127}, {\"index\": \"2020-09-17T00:00:00\", \"new_cases_forecast_ll\": 218.71829466658937, \"new_cases_forecast_ul\": 268.3008791170349}, {\"index\": \"2020-09-18T00:00:00\", \"new_cases_forecast_ll\": 209.0957178421717, \"new_cases_forecast_ul\": 278.64397471076376}, {\"index\": \"2020-09-19T00:00:00\", \"new_cases_forecast_ll\": 200.46055932663756, \"new_cases_forecast_ul\": 287.65335200563266}, {\"index\": \"2020-09-20T00:00:00\", \"new_cases_forecast_ll\": 192.72271731990182, \"new_cases_forecast_ul\": 295.5855535499287}, {\"index\": \"2020-09-21T00:00:00\", \"new_cases_forecast_ll\": 185.73999425886902, \"new_cases_forecast_ul\": 302.6692219186978}, {\"index\": \"2020-09-22T00:00:00\", \"new_cases_forecast_ll\": 179.37730934210725, \"new_cases_forecast_ul\": 309.08433521269234}, {\"index\": \"2020-09-23T00:00:00\", \"new_cases_forecast_ll\": 173.5219892428946, \"new_cases_forecast_ul\": 314.96688525256184}, {\"index\": \"2020-09-24T00:00:00\", \"new_cases_forecast_ll\": 168.08440528423097, \"new_cases_forecast_ul\": 320.41861173684447}, {\"index\": \"2020-09-25T00:00:00\", \"new_cases_forecast_ll\": 162.9944163882608, \"new_cases_forecast_ul\": 325.5159458941726}, {\"index\": \"2020-09-26T00:00:00\", \"new_cases_forecast_ll\": 158.19723138442353, \"new_cases_forecast_ul\": 330.3169458364352}, {\"index\": \"2020-09-27T00:00:00\", \"new_cases_forecast_ll\": 153.64980561165174, \"new_cases_forecast_ul\": 334.86635298937586}, {\"index\": \"2020-09-28T00:00:00\", \"new_cases_forecast_ll\": 149.31799541745335, \"new_cases_forecast_ul\": 339.19919226109414}, {\"index\": \"2020-09-29T00:00:00\", \"new_cases_forecast_ll\": 145.17440289688443, \"new_cases_forecast_ul\": 343.3433192578624}]}}, {\"mode\": \"vega-lite\"});\n",
       "</script>"
      ],
      "text/plain": [
       "alt.Chart(...)"
      ]
     },
     "execution_count": 30,
     "metadata": {},
     "output_type": "execute_result"
    }
   ],
   "source": [
    "confint_plot = alt.Chart(conf_int).mark_area(opacity=0.2, color='orange').encode(\n",
    "    alt.X('index:T'),\n",
    "    alt.Y('new_cases_forecast_ll'),\n",
    "    alt.Y2('new_cases_forecast_ul')\n",
    ")\n",
    "confint_plot"
   ]
  },
  {
   "cell_type": "code",
   "execution_count": 31,
   "metadata": {},
   "outputs": [
    {
     "data": {
      "text/plain": [
       "<matplotlib.axes._subplots.AxesSubplot at 0x2a3b4dad648>"
      ]
     },
     "execution_count": 31,
     "metadata": {},
     "output_type": "execute_result"
    },
    {
     "data": {
      "image/png": "[encoded data removed]",
      "text/plain": [
       "<Figure size 1080x360 with 1 Axes>"
      ]
     },
     "metadata": {},
     "output_type": "display_data"
    }
   ],
   "source": [
    "covid_ctry_varR.plot()"
   ]
  },
  {
   "cell_type": "code",
   "execution_count": 32,
   "metadata": {},
   "outputs": [
    {
     "data": {
      "text/plain": [
       "'new_cases_forecast'"
      ]
     },
     "execution_count": 32,
     "metadata": {},
     "output_type": "execute_result"
    }
   ],
   "source": [
    "future_rs.columns[1]"
   ]
  },
  {
   "cell_type": "code",
   "execution_count": 33,
   "metadata": {},
   "outputs": [
    {
     "name": "stdout",
     "output_type": "stream",
     "text": [
      "Next 14 days forecast values:  ['242.8', '243.5', '243.9', '244.1', '244.2', '244.2', '244.2', '244.2', '244.3', '244.3', '244.3', '244.3', '244.3', '244.3']\n"
     ]
    }
   ],
   "source": [
    "forecast14S_l = [\"%.1f\" % elem for elem in forecast14S]\n",
    "print('Next 14 days forecast values: ', forecast14S_l)"
   ]
  },
  {
   "cell_type": "code",
   "execution_count": 34,
   "metadata": {},
   "outputs": [
    {
     "data": {
      "text/html": [
       "<div>\n",
       "<style scoped>\n",
       "    .dataframe tbody tr th:only-of-type {\n",
       "        vertical-align: middle;\n",
       "    }\n",
       "\n",
       "    .dataframe tbody tr th {\n",
       "        vertical-align: top;\n",
       "    }\n",
       "\n",
       "    .dataframe thead th {\n",
       "        text-align: right;\n",
       "    }\n",
       "</style>\n",
       "<table border=\"1\" class=\"dataframe\">\n",
       "  <thead>\n",
       "    <tr style=\"text-align: right;\">\n",
       "      <th></th>\n",
       "      <th>index</th>\n",
       "      <th>new_cases_forecast</th>\n",
       "    </tr>\n",
       "  </thead>\n",
       "  <tbody>\n",
       "    <tr>\n",
       "      <th>0</th>\n",
       "      <td>2020-09-16</td>\n",
       "      <td>242.815945</td>\n",
       "    </tr>\n",
       "    <tr>\n",
       "      <th>1</th>\n",
       "      <td>2020-09-17</td>\n",
       "      <td>243.509587</td>\n",
       "    </tr>\n",
       "    <tr>\n",
       "      <th>2</th>\n",
       "      <td>2020-09-18</td>\n",
       "      <td>243.869846</td>\n",
       "    </tr>\n",
       "    <tr>\n",
       "      <th>3</th>\n",
       "      <td>2020-09-19</td>\n",
       "      <td>244.056956</td>\n",
       "    </tr>\n",
       "    <tr>\n",
       "      <th>4</th>\n",
       "      <td>2020-09-20</td>\n",
       "      <td>244.154135</td>\n",
       "    </tr>\n",
       "    <tr>\n",
       "      <th>5</th>\n",
       "      <td>2020-09-21</td>\n",
       "      <td>244.204608</td>\n",
       "    </tr>\n",
       "    <tr>\n",
       "      <th>6</th>\n",
       "      <td>2020-09-22</td>\n",
       "      <td>244.230822</td>\n",
       "    </tr>\n",
       "    <tr>\n",
       "      <th>7</th>\n",
       "      <td>2020-09-23</td>\n",
       "      <td>244.244437</td>\n",
       "    </tr>\n",
       "    <tr>\n",
       "      <th>8</th>\n",
       "      <td>2020-09-24</td>\n",
       "      <td>244.251509</td>\n",
       "    </tr>\n",
       "    <tr>\n",
       "      <th>9</th>\n",
       "      <td>2020-09-25</td>\n",
       "      <td>244.255181</td>\n",
       "    </tr>\n",
       "    <tr>\n",
       "      <th>10</th>\n",
       "      <td>2020-09-26</td>\n",
       "      <td>244.257089</td>\n",
       "    </tr>\n",
       "    <tr>\n",
       "      <th>11</th>\n",
       "      <td>2020-09-27</td>\n",
       "      <td>244.258079</td>\n",
       "    </tr>\n",
       "    <tr>\n",
       "      <th>12</th>\n",
       "      <td>2020-09-28</td>\n",
       "      <td>244.258594</td>\n",
       "    </tr>\n",
       "    <tr>\n",
       "      <th>13</th>\n",
       "      <td>2020-09-29</td>\n",
       "      <td>244.258861</td>\n",
       "    </tr>\n",
       "  </tbody>\n",
       "</table>\n",
       "</div>"
      ],
      "text/plain": [
       "        index  new_cases_forecast\n",
       "0  2020-09-16          242.815945\n",
       "1  2020-09-17          243.509587\n",
       "2  2020-09-18          243.869846\n",
       "3  2020-09-19          244.056956\n",
       "4  2020-09-20          244.154135\n",
       "5  2020-09-21          244.204608\n",
       "6  2020-09-22          244.230822\n",
       "7  2020-09-23          244.244437\n",
       "8  2020-09-24          244.251509\n",
       "9  2020-09-25          244.255181\n",
       "10 2020-09-26          244.257089\n",
       "11 2020-09-27          244.258079\n",
       "12 2020-09-28          244.258594\n",
       "13 2020-09-29          244.258861"
      ]
     },
     "execution_count": 34,
     "metadata": {},
     "output_type": "execute_result"
    }
   ],
   "source": [
    "future_rs"
   ]
  },
  {
   "cell_type": "code",
   "execution_count": 35,
   "metadata": {},
   "outputs": [],
   "source": [
    "def get_model():\n",
    "    url3 = 'https://github.com/martaarozarena/KSchool-Master-Final-Project/raw/master/models/' + country +'SARIMAXmodel.pkl'\n",
    "    smodel = joblib.load(urllib.request.urlopen(url3))\n",
    "#    smodel = sm.load_pickle('./models_old/SpainSARIMAXmodel_savedWithStatstools.pkl')\n",
    "    return smodel\n",
    "\n",
    "model =  get_model()"
   ]
  },
  {
   "cell_type": "code",
   "execution_count": 36,
   "metadata": {},
   "outputs": [
    {
     "data": {
      "text/html": [
       "<table class=\"simpletable\">\n",
       "<caption>SARIMAX Results</caption>\n",
       "<tr>\n",
       "  <th>Dep. Variable:</th>   <td>new_cases_Denmark</td> <th>  No. Observations:  </th>    <td>259</td>   \n",
       "</tr>\n",
       "<tr>\n",
       "  <th>Model:</th>           <td>SARIMAX(1, 1, 0)</td>  <th>  Log Likelihood     </th>  <td>627.757</td> \n",
       "</tr>\n",
       "<tr>\n",
       "  <th>Date:</th>            <td>Thu, 17 Sep 2020</td>  <th>  AIC                </th> <td>-1223.514</td>\n",
       "</tr>\n",
       "<tr>\n",
       "  <th>Time:</th>                <td>17:22:35</td>      <th>  BIC                </th> <td>-1166.666</td>\n",
       "</tr>\n",
       "<tr>\n",
       "  <th>Sample:</th>             <td>01-01-2020</td>     <th>  HQIC               </th> <td>-1200.655</td>\n",
       "</tr>\n",
       "<tr>\n",
       "  <th></th>                   <td>- 09-15-2020</td>    <th>                     </th>     <td> </td>    \n",
       "</tr>\n",
       "<tr>\n",
       "  <th>Covariance Type:</th>        <td>opg</td>        <th>                     </th>     <td> </td>    \n",
       "</tr>\n",
       "</table>\n",
       "<table class=\"simpletable\">\n",
       "<tr>\n",
       "                        <td></td>                          <th>coef</th>     <th>std err</th>      <th>z</th>      <th>P>|z|</th>  <th>[0.025</th>    <th>0.975]</th>  \n",
       "</tr>\n",
       "<tr>\n",
       "  <th>positive_rate_Denmark</th>                        <td>    0.4056</td> <td>    0.205</td> <td>    1.979</td> <td> 0.048</td> <td>    0.004</td> <td>    0.807</td>\n",
       "</tr>\n",
       "<tr>\n",
       "  <th>C1_School closing_Denmark</th>                    <td>    0.1706</td> <td>    0.192</td> <td>    0.890</td> <td> 0.374</td> <td>   -0.205</td> <td>    0.546</td>\n",
       "</tr>\n",
       "<tr>\n",
       "  <th>C2_Workplace closing_Denmark</th>                 <td>    0.3144</td> <td>    0.362</td> <td>    0.869</td> <td> 0.385</td> <td>   -0.395</td> <td>    1.024</td>\n",
       "</tr>\n",
       "<tr>\n",
       "  <th>C3_Cancel public events_Denmark</th>              <td>    0.0004</td> <td>    0.374</td> <td>    0.001</td> <td> 0.999</td> <td>   -0.733</td> <td>    0.733</td>\n",
       "</tr>\n",
       "<tr>\n",
       "  <th>C4_Restrictions on gatherings_Denmark</th>        <td>    0.0410</td> <td>    0.347</td> <td>    0.118</td> <td> 0.906</td> <td>   -0.639</td> <td>    0.721</td>\n",
       "</tr>\n",
       "<tr>\n",
       "  <th>C5_Close public transport_Denmark</th>            <td>    0.1436</td> <td>    0.444</td> <td>    0.323</td> <td> 0.746</td> <td>   -0.727</td> <td>    1.014</td>\n",
       "</tr>\n",
       "<tr>\n",
       "  <th>C6_Stay at home requirements_Denmark</th>         <td>    0.1183</td> <td>    0.851</td> <td>    0.139</td> <td> 0.889</td> <td>   -1.549</td> <td>    1.785</td>\n",
       "</tr>\n",
       "<tr>\n",
       "  <th>C7_Restrictions on internal movement_Denmark</th> <td>   -0.4899</td> <td>    0.412</td> <td>   -1.188</td> <td> 0.235</td> <td>   -1.298</td> <td>    0.318</td>\n",
       "</tr>\n",
       "<tr>\n",
       "  <th>C8_International travel controls_Denmark</th>     <td>   -0.3039</td> <td>    0.480</td> <td>   -0.634</td> <td> 0.526</td> <td>   -1.244</td> <td>    0.636</td>\n",
       "</tr>\n",
       "<tr>\n",
       "  <th>H1_Public information campaigns_Denmark</th>      <td>   -0.0870</td> <td>    1.592</td> <td>   -0.055</td> <td> 0.956</td> <td>   -3.207</td> <td>    3.033</td>\n",
       "</tr>\n",
       "<tr>\n",
       "  <th>H2_Testing policy_Denmark</th>                    <td>   -0.0022</td> <td>    0.277</td> <td>   -0.008</td> <td> 0.994</td> <td>   -0.545</td> <td>    0.541</td>\n",
       "</tr>\n",
       "<tr>\n",
       "  <th>H3_Contact tracing_Denmark</th>                   <td>    0.1479</td> <td>    0.193</td> <td>    0.765</td> <td> 0.444</td> <td>   -0.231</td> <td>    0.527</td>\n",
       "</tr>\n",
       "<tr>\n",
       "  <th>mask_Denmark</th>                                 <td>    0.6136</td> <td>    0.141</td> <td>    4.347</td> <td> 0.000</td> <td>    0.337</td> <td>    0.890</td>\n",
       "</tr>\n",
       "<tr>\n",
       "  <th>flightsArr_Denmark</th>                           <td>    0.0039</td> <td>    0.288</td> <td>    0.013</td> <td> 0.989</td> <td>   -0.561</td> <td>    0.569</td>\n",
       "</tr>\n",
       "<tr>\n",
       "  <th>ar.L1</th>                                        <td>    0.5194</td> <td>    0.039</td> <td>   13.454</td> <td> 0.000</td> <td>    0.444</td> <td>    0.595</td>\n",
       "</tr>\n",
       "<tr>\n",
       "  <th>sigma2</th>                                       <td>    0.0004</td> <td> 1.69e-05</td> <td>   26.623</td> <td> 0.000</td> <td>    0.000</td> <td>    0.000</td>\n",
       "</tr>\n",
       "</table>\n",
       "<table class=\"simpletable\">\n",
       "<tr>\n",
       "  <th>Ljung-Box (Q):</th>          <td>82.63</td> <th>  Jarque-Bera (JB):  </th> <td>1818.38</td>\n",
       "</tr>\n",
       "<tr>\n",
       "  <th>Prob(Q):</th>                <td>0.00</td>  <th>  Prob(JB):          </th>  <td>0.00</td>  \n",
       "</tr>\n",
       "<tr>\n",
       "  <th>Heteroskedasticity (H):</th> <td>13.57</td> <th>  Skew:              </th>  <td>-0.08</td> \n",
       "</tr>\n",
       "<tr>\n",
       "  <th>Prob(H) (two-sided):</th>    <td>0.00</td>  <th>  Kurtosis:          </th>  <td>16.00</td> \n",
       "</tr>\n",
       "</table><br/><br/>Warnings:<br/>[1] Covariance matrix calculated using the outer product of gradients (complex-step)."
      ],
      "text/plain": [
       "<class 'statsmodels.iolib.summary.Summary'>\n",
       "\"\"\"\n",
       "                               SARIMAX Results                                \n",
       "==============================================================================\n",
       "Dep. Variable:      new_cases_Denmark   No. Observations:                  259\n",
       "Model:               SARIMAX(1, 1, 0)   Log Likelihood                 627.757\n",
       "Date:                Thu, 17 Sep 2020   AIC                          -1223.514\n",
       "Time:                        17:22:35   BIC                          -1166.666\n",
       "Sample:                    01-01-2020   HQIC                         -1200.655\n",
       "                         - 09-15-2020                                         \n",
       "Covariance Type:                  opg                                         \n",
       "================================================================================================================\n",
       "                                                   coef    std err          z      P>|z|      [0.025      0.975]\n",
       "----------------------------------------------------------------------------------------------------------------\n",
       "positive_rate_Denmark                            0.4056      0.205      1.979      0.048       0.004       0.807\n",
       "C1_School closing_Denmark                        0.1706      0.192      0.890      0.374      -0.205       0.546\n",
       "C2_Workplace closing_Denmark                     0.3144      0.362      0.869      0.385      -0.395       1.024\n",
       "C3_Cancel public events_Denmark                  0.0004      0.374      0.001      0.999      -0.733       0.733\n",
       "C4_Restrictions on gatherings_Denmark            0.0410      0.347      0.118      0.906      -0.639       0.721\n",
       "C5_Close public transport_Denmark                0.1436      0.444      0.323      0.746      -0.727       1.014\n",
       "C6_Stay at home requirements_Denmark             0.1183      0.851      0.139      0.889      -1.549       1.785\n",
       "C7_Restrictions on internal movement_Denmark    -0.4899      0.412     -1.188      0.235      -1.298       0.318\n",
       "C8_International travel controls_Denmark        -0.3039      0.480     -0.634      0.526      -1.244       0.636\n",
       "H1_Public information campaigns_Denmark         -0.0870      1.592     -0.055      0.956      -3.207       3.033\n",
       "H2_Testing policy_Denmark                       -0.0022      0.277     -0.008      0.994      -0.545       0.541\n",
       "H3_Contact tracing_Denmark                       0.1479      0.193      0.765      0.444      -0.231       0.527\n",
       "mask_Denmark                                     0.6136      0.141      4.347      0.000       0.337       0.890\n",
       "flightsArr_Denmark                               0.0039      0.288      0.013      0.989      -0.561       0.569\n",
       "ar.L1                                            0.5194      0.039     13.454      0.000       0.444       0.595\n",
       "sigma2                                           0.0004   1.69e-05     26.623      0.000       0.000       0.000\n",
       "===================================================================================\n",
       "Ljung-Box (Q):                       82.63   Jarque-Bera (JB):              1818.38\n",
       "Prob(Q):                              0.00   Prob(JB):                         0.00\n",
       "Heteroskedasticity (H):              13.57   Skew:                            -0.08\n",
       "Prob(H) (two-sided):                  0.00   Kurtosis:                        16.00\n",
       "===================================================================================\n",
       "\n",
       "Warnings:\n",
       "[1] Covariance matrix calculated using the outer product of gradients (complex-step).\n",
       "\"\"\""
      ]
     },
     "execution_count": 36,
     "metadata": {},
     "output_type": "execute_result"
    }
   ],
   "source": [
    "model.summary()"
   ]
  },
  {
   "cell_type": "code",
   "execution_count": 37,
   "metadata": {},
   "outputs": [],
   "source": [
    "ls = ['col_c', 'col_d']"
   ]
  },
  {
   "cell_type": "code",
   "execution_count": 38,
   "metadata": {},
   "outputs": [
    {
     "data": {
      "text/plain": [
       "['col_c', 'col_d']"
      ]
     },
     "execution_count": 38,
     "metadata": {},
     "output_type": "execute_result"
    }
   ],
   "source": [
    "ls"
   ]
  },
  {
   "cell_type": "code",
   "execution_count": 45,
   "metadata": {},
   "outputs": [
    {
     "data": {
      "text/plain": [
       "' cases '"
      ]
     },
     "execution_count": 45,
     "metadata": {},
     "output_type": "execute_result"
    }
   ],
   "source": [
    "'new_cases_'.replace('new_', ' ').replace('_', ' ')"
   ]
  },
  {
   "cell_type": "code",
   "execution_count": 46,
   "metadata": {},
   "outputs": [],
   "source": [
    "var_c, varc = 'new_cases_', 'cases'"
   ]
  },
  {
   "cell_type": "code",
   "execution_count": 48,
   "metadata": {},
   "outputs": [
    {
     "data": {
      "text/plain": [
       "'cases'"
      ]
     },
     "execution_count": 48,
     "metadata": {},
     "output_type": "execute_result"
    }
   ],
   "source": [
    "varc"
   ]
  },
  {
   "cell_type": "code",
   "execution_count": 66,
   "metadata": {},
   "outputs": [
    {
     "data": {
      "text/html": [
       "<div>\n",
       "<style scoped>\n",
       "    .dataframe tbody tr th:only-of-type {\n",
       "        vertical-align: middle;\n",
       "    }\n",
       "\n",
       "    .dataframe tbody tr th {\n",
       "        vertical-align: top;\n",
       "    }\n",
       "\n",
       "    .dataframe thead th {\n",
       "        text-align: right;\n",
       "    }\n",
       "</style>\n",
       "<table border=\"1\" class=\"dataframe\">\n",
       "  <thead>\n",
       "    <tr style=\"text-align: right;\">\n",
       "      <th></th>\n",
       "      <th>ctry</th>\n",
       "      <th>endog</th>\n",
       "      <th>order</th>\n",
       "      <th>mae</th>\n",
       "      <th>mae_perc</th>\n",
       "    </tr>\n",
       "  </thead>\n",
       "  <tbody>\n",
       "    <tr>\n",
       "      <th>0</th>\n",
       "      <td>Denmark</td>\n",
       "      <td>new_cases</td>\n",
       "      <td>(0, 1, 5)</td>\n",
       "      <td>88.4</td>\n",
       "      <td>56.10%</td>\n",
       "    </tr>\n",
       "    <tr>\n",
       "      <th>1</th>\n",
       "      <td>Denmark</td>\n",
       "      <td>new_deaths</td>\n",
       "      <td>(5, 1, 7)</td>\n",
       "      <td>4.7</td>\n",
       "      <td>1157.13%</td>\n",
       "    </tr>\n",
       "    <tr>\n",
       "      <th>2</th>\n",
       "      <td>Germany</td>\n",
       "      <td>new_cases</td>\n",
       "      <td>(1, 1, 4)</td>\n",
       "      <td>658.8</td>\n",
       "      <td>52.30%</td>\n",
       "    </tr>\n",
       "    <tr>\n",
       "      <th>3</th>\n",
       "      <td>Germany</td>\n",
       "      <td>new_deaths</td>\n",
       "      <td>(5, 1, 0)</td>\n",
       "      <td>3.8</td>\n",
       "      <td>82.25%</td>\n",
       "    </tr>\n",
       "    <tr>\n",
       "      <th>4</th>\n",
       "      <td>Spain</td>\n",
       "      <td>new_cases</td>\n",
       "      <td>(1, 1, 3)</td>\n",
       "      <td>5154.5</td>\n",
       "      <td>67.17%</td>\n",
       "    </tr>\n",
       "  </tbody>\n",
       "</table>\n",
       "</div>"
      ],
      "text/plain": [
       "      ctry       endog      order     mae  mae_perc\n",
       "0  Denmark   new_cases  (0, 1, 5)    88.4    56.10%\n",
       "1  Denmark  new_deaths  (5, 1, 7)     4.7  1157.13%\n",
       "2  Germany   new_cases  (1, 1, 4)   658.8    52.30%\n",
       "3  Germany  new_deaths  (5, 1, 0)     3.8    82.25%\n",
       "4    Spain   new_cases  (1, 1, 3)  5154.5    67.17%"
      ]
     },
     "execution_count": 66,
     "metadata": {},
     "output_type": "execute_result"
    }
   ],
   "source": [
    "summary = pd.read_csv('./results20200921.csv', index_col=[0])\n",
    "summary.head()"
   ]
  },
  {
   "cell_type": "code",
   "execution_count": 67,
   "metadata": {},
   "outputs": [
    {
     "data": {
      "text/plain": [
       "4.7"
      ]
     },
     "execution_count": 67,
     "metadata": {},
     "output_type": "execute_result"
    }
   ],
   "source": [
    "summary.loc[summary.ctry=='Denmark', 'mae'][1]"
   ]
  },
  {
   "cell_type": "code",
   "execution_count": 68,
   "metadata": {},
   "outputs": [
    {
     "data": {
      "text/plain": [
       "88.4"
      ]
     },
     "execution_count": 68,
     "metadata": {},
     "output_type": "execute_result"
    }
   ],
   "source": [
    "summary.loc[(summary.ctry=='Denmark') & (summary.endog.str.contains('cases')), 'mae'].array[0]"
   ]
  },
  {
   "cell_type": "code",
   "execution_count": 70,
   "metadata": {},
   "outputs": [
    {
     "data": {
      "text/plain": [
       "0    88.4\n",
       "Name: mae, dtype: float64"
      ]
     },
     "execution_count": 70,
     "metadata": {},
     "output_type": "execute_result"
    }
   ],
   "source": [
    "maes = summary.loc[(summary.ctry=='Denmark') & (summary.endog.str.contains('cases')), 'mae']\n",
    "maes"
   ]
  },
  {
   "cell_type": "code",
   "execution_count": 71,
   "metadata": {},
   "outputs": [
    {
     "data": {
      "text/plain": [
       "88.4"
      ]
     },
     "execution_count": 71,
     "metadata": {},
     "output_type": "execute_result"
    }
   ],
   "source": [
    "maes.array[0]"
   ]
  },
  {
   "cell_type": "code",
   "execution_count": 16,
   "metadata": {},
   "outputs": [
    {
     "data": {
      "text/plain": [
       "0      True\n",
       "1     False\n",
       "2      True\n",
       "3     False\n",
       "4      True\n",
       "5     False\n",
       "6      True\n",
       "7     False\n",
       "8      True\n",
       "9     False\n",
       "10     True\n",
       "11    False\n",
       "12     True\n",
       "13    False\n",
       "14     True\n",
       "15    False\n",
       "16     True\n",
       "17    False\n",
       "18     True\n",
       "19    False\n",
       "20     True\n",
       "21    False\n",
       "22     True\n",
       "23    False\n",
       "24     True\n",
       "25    False\n",
       "26     True\n",
       "27    False\n",
       "28     True\n",
       "29    False\n",
       "30     True\n",
       "31    False\n",
       "32     True\n",
       "33    False\n",
       "34     True\n",
       "35    False\n",
       "36     True\n",
       "37    False\n",
       "38     True\n",
       "39    False\n",
       "40     True\n",
       "41    False\n",
       "42     True\n",
       "43    False\n",
       "44     True\n",
       "45    False\n",
       "46     True\n",
       "47    False\n",
       "48     True\n",
       "49    False\n",
       "Name: endog, dtype: bool"
      ]
     },
     "execution_count": 16,
     "metadata": {},
     "output_type": "execute_result"
    }
   ],
   "source": [
    "summary['endog'].str.contains('cases')"
   ]
  },
  {
   "cell_type": "code",
   "execution_count": null,
   "metadata": {},
   "outputs": [],
   "source": [
    "tooltip=alt.Tooltip(varx+'forecast', format='.1f')"
   ]
  }
 ],
 "metadata": {
  "kernelspec": {
   "display_name": "Python 3",
   "language": "python",
   "name": "python3"
  },
  "language_info": {
   "codemirror_mode": {
    "name": "ipython",
    "version": 3
   },
   "file_extension": ".py",
   "mimetype": "text/x-python",
   "name": "python",
   "nbconvert_exporter": "python",
   "pygments_lexer": "ipython3",
   "version": "3.7.4"
  }
 },
 "nbformat": 4,
 "nbformat_minor": 4
}
