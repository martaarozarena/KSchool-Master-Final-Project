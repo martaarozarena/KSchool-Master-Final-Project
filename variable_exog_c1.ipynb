{
 "cells": [
  {
   "cell_type": "code",
   "execution_count": 27,
   "metadata": {
    "colab": {},
    "colab_type": "code",
    "id": "PZSFA3Lsrwsz"
   },
   "outputs": [],
   "source": [
    "import pandas as pd\n",
    "import numpy as np"
   ]
  },
  {
   "cell_type": "code",
   "execution_count": 28,
   "metadata": {
    "colab": {},
    "colab_type": "code",
    "id": "7P2XMxKSxl0d"
   },
   "outputs": [],
   "source": [
    "url = \"https://drive.google.com/file/d/1P37xzRtsjWIMUfhs3uUrHHLyToyE7qOJ/view?usp=sharing\"\n",
    "path = 'https://drive.google.com/uc?export=download&id='+url.split('/')[-2]\n",
    "varc1 = pd.read_excel(path,sheet_name=\"c1_schoolclosing\")\n",
    "varc1=varc1.drop(\"CountryCode\",axis=1)\n",
    "varc1.index=varc1.CountryName\n",
    "varc1=varc1.drop(\"CountryName\",axis=1)\n",
    "varc1=varc1[:-3]"
   ]
  },
  {
   "cell_type": "code",
   "execution_count": 29,
   "metadata": {
    "colab": {
     "base_uri": "https://localhost:8080/",
     "height": 479
    },
    "colab_type": "code",
    "id": "MrJEZS5Izw6v",
    "outputId": "e6a11b35-84bf-4a75-d1c7-73711dc67cdf"
   },
   "outputs": [],
   "source": [
    "varc1=varc1.T\n",
    "varc1.index=pd.to_datetime(varc1.index,format=\"%d%b%Y\")"
   ]
  },
  {
   "cell_type": "code",
   "execution_count": 30,
   "metadata": {
    "colab": {},
    "colab_type": "code",
    "id": "TDe1hR5f3Vmq"
   },
   "outputs": [],
   "source": [
    "varc1=varc1.truncate(\"01-01-2020\",\"30-06-2020\")"
   ]
  },
  {
   "cell_type": "code",
   "execution_count": null,
   "metadata": {
    "colab": {
     "base_uri": "https://localhost:8080/",
     "height": 342
    },
    "colab_type": "code",
    "id": "bfItch8M18G6",
    "outputId": "6e0681b0-9896-4f79-eafb-27c7245802a0"
   },
   "outputs": [],
   "source": [
    "varc1.to_csv(\"varc1.csv\")"
   ]
  }
 ],
 "metadata": {
  "colab": {
   "collapsed_sections": [],
   "name": "variable_exog_c1",
   "provenance": [],
   "toc_visible": true
  },
  "kernelspec": {
   "display_name": "Python 3",
   "language": "python",
   "name": "python3"
  },
  "language_info": {
   "codemirror_mode": {
    "name": "ipython",
    "version": 3
   },
   "file_extension": ".py",
   "mimetype": "text/x-python",
   "name": "python",
   "nbconvert_exporter": "python",
   "pygments_lexer": "ipython3",
   "version": "3.7.6"
  }
 },
 "nbformat": 4,
 "nbformat_minor": 2
}
